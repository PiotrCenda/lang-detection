{
 "cells": [
  {
   "cell_type": "code",
   "execution_count": 1,
   "metadata": {},
   "outputs": [],
   "source": [
    "import json\n",
    "import random\n",
    "import numpy as np\n",
    "import pandas as pd"
   ]
  },
  {
   "cell_type": "code",
   "execution_count": 4,
   "metadata": {},
   "outputs": [
    {
     "data": {
      "text/html": [
       "<div>\n",
       "<style scoped>\n",
       "    .dataframe tbody tr th:only-of-type {\n",
       "        vertical-align: middle;\n",
       "    }\n",
       "\n",
       "    .dataframe tbody tr th {\n",
       "        vertical-align: top;\n",
       "    }\n",
       "\n",
       "    .dataframe thead th {\n",
       "        text-align: right;\n",
       "    }\n",
       "</style>\n",
       "<table border=\"1\" class=\"dataframe\">\n",
       "  <thead>\n",
       "    <tr style=\"text-align: right;\">\n",
       "      <th></th>\n",
       "      <th>id</th>\n",
       "      <th>lan_code</th>\n",
       "      <th>sentence</th>\n",
       "    </tr>\n",
       "  </thead>\n",
       "  <tbody>\n",
       "    <tr>\n",
       "      <th>5021912</th>\n",
       "      <td>5360917</td>\n",
       "      <td>mar</td>\n",
       "      <td>मला विज्ञान समजत नाही.</td>\n",
       "    </tr>\n",
       "    <tr>\n",
       "      <th>9105977</th>\n",
       "      <td>9548159</td>\n",
       "      <td>kab</td>\n",
       "      <td>Ilaq ad neẓẓu lekremb skud d tafukt.</td>\n",
       "    </tr>\n",
       "    <tr>\n",
       "      <th>101009</th>\n",
       "      <td>106041</td>\n",
       "      <td>jpn</td>\n",
       "      <td>彼は私に助けを求めてきた。</td>\n",
       "    </tr>\n",
       "    <tr>\n",
       "      <th>9386638</th>\n",
       "      <td>9831904</td>\n",
       "      <td>lit</td>\n",
       "      <td>Gerai atrodyti yra pirmenybė.</td>\n",
       "    </tr>\n",
       "    <tr>\n",
       "      <th>825262</th>\n",
       "      <td>864566</td>\n",
       "      <td>cmn</td>\n",
       "      <td>我不相信你已經遇到了他。</td>\n",
       "    </tr>\n",
       "    <tr>\n",
       "      <th>7752619</th>\n",
       "      <td>8164356</td>\n",
       "      <td>fin</td>\n",
       "      <td>Näyttää siltä, ettei tämä maa tosissaan kannat...</td>\n",
       "    </tr>\n",
       "    <tr>\n",
       "      <th>1735288</th>\n",
       "      <td>1836237</td>\n",
       "      <td>deu</td>\n",
       "      <td>Sie sagte, dass sie mir helfen würde.</td>\n",
       "    </tr>\n",
       "    <tr>\n",
       "      <th>9797158</th>\n",
       "      <td>10246188</td>\n",
       "      <td>por</td>\n",
       "      <td>Estás mangando de mim.</td>\n",
       "    </tr>\n",
       "    <tr>\n",
       "      <th>7239812</th>\n",
       "      <td>7634149</td>\n",
       "      <td>mar</td>\n",
       "      <td>त्याला मरू देऊ नका.</td>\n",
       "    </tr>\n",
       "    <tr>\n",
       "      <th>4371144</th>\n",
       "      <td>4658540</td>\n",
       "      <td>por</td>\n",
       "      <td>Ela é linda, é rica... e, contudo, eu a odeio.</td>\n",
       "    </tr>\n",
       "  </tbody>\n",
       "</table>\n",
       "</div>"
      ],
      "text/plain": [
       "               id lan_code                                           sentence\n",
       "5021912   5360917      mar                             मला विज्ञान समजत नाही.\n",
       "9105977   9548159      kab               Ilaq ad neẓẓu lekremb skud d tafukt.\n",
       "101009     106041      jpn                                      彼は私に助けを求めてきた。\n",
       "9386638   9831904      lit                      Gerai atrodyti yra pirmenybė.\n",
       "825262     864566      cmn                                       我不相信你已經遇到了他。\n",
       "7752619   8164356      fin  Näyttää siltä, ettei tämä maa tosissaan kannat...\n",
       "1735288   1836237      deu              Sie sagte, dass sie mir helfen würde.\n",
       "9797158  10246188      por                             Estás mangando de mim.\n",
       "7239812   7634149      mar                                त्याला मरू देऊ नका.\n",
       "4371144   4658540      por     Ela é linda, é rica... e, contudo, eu a odeio."
      ]
     },
     "execution_count": 4,
     "metadata": {},
     "output_type": "execute_result"
    }
   ],
   "source": [
    "df = pd.read_csv(\"data/sentences_50k_balanced.csv\", delimiter=\",\", encoding='utf8', index_col=0)\n",
    "df.sample(10)"
   ]
  },
  {
   "cell_type": "code",
   "execution_count": null,
   "metadata": {},
   "outputs": [],
   "source": [
    "\n",
    "# TODO: \n",
    "# Load and interpret symbols as numbers\n",
    "# Get all 1/2/3 combinations of letters/numbers and count them\n",
    "# Make probability of it\n",
    "# Create dictionary and save for later use"
   ]
  }
 ],
 "metadata": {
  "kernelspec": {
   "display_name": "Python 3.10.6 64-bit",
   "language": "python",
   "name": "python3"
  },
  "language_info": {
   "codemirror_mode": {
    "name": "ipython",
    "version": 3
   },
   "file_extension": ".py",
   "mimetype": "text/x-python",
   "name": "python",
   "nbconvert_exporter": "python",
   "pygments_lexer": "ipython3",
   "version": "3.10.6"
  },
  "orig_nbformat": 4,
  "vscode": {
   "interpreter": {
    "hash": "83fd4375a822156133a8f0ea701c86b5bfda9cc7c150a00174c57fbf773ec247"
   }
  }
 },
 "nbformat": 4,
 "nbformat_minor": 2
}
