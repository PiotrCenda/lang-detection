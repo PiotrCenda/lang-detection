{
 "cells": [
  {
   "cell_type": "markdown",
   "metadata": {},
   "source": [
    "# Language detection\n",
    "## Data exploration and filtering"
   ]
  },
  {
   "cell_type": "code",
   "execution_count": 60,
   "metadata": {},
   "outputs": [],
   "source": [
    "import json\n",
    "import random\n",
    "import numpy as np\n",
    "import pandas as pd\n",
    "import matplotlib.pyplot as plt"
   ]
  },
  {
   "cell_type": "code",
   "execution_count": 27,
   "metadata": {},
   "outputs": [
    {
     "data": {
      "text/html": [
       "<div>\n",
       "<style scoped>\n",
       "    .dataframe tbody tr th:only-of-type {\n",
       "        vertical-align: middle;\n",
       "    }\n",
       "\n",
       "    .dataframe tbody tr th {\n",
       "        vertical-align: top;\n",
       "    }\n",
       "\n",
       "    .dataframe thead th {\n",
       "        text-align: right;\n",
       "    }\n",
       "</style>\n",
       "<table border=\"1\" class=\"dataframe\">\n",
       "  <thead>\n",
       "    <tr style=\"text-align: right;\">\n",
       "      <th></th>\n",
       "      <th>id</th>\n",
       "      <th>lan_code</th>\n",
       "      <th>sentence</th>\n",
       "    </tr>\n",
       "  </thead>\n",
       "  <tbody>\n",
       "    <tr>\n",
       "      <th>0</th>\n",
       "      <td>1</td>\n",
       "      <td>cmn</td>\n",
       "      <td>我們試試看！</td>\n",
       "    </tr>\n",
       "    <tr>\n",
       "      <th>1</th>\n",
       "      <td>2</td>\n",
       "      <td>cmn</td>\n",
       "      <td>我该去睡觉了。</td>\n",
       "    </tr>\n",
       "    <tr>\n",
       "      <th>2</th>\n",
       "      <td>3</td>\n",
       "      <td>cmn</td>\n",
       "      <td>你在干什麼啊？</td>\n",
       "    </tr>\n",
       "    <tr>\n",
       "      <th>3</th>\n",
       "      <td>4</td>\n",
       "      <td>cmn</td>\n",
       "      <td>這是什麼啊？</td>\n",
       "    </tr>\n",
       "    <tr>\n",
       "      <th>4</th>\n",
       "      <td>5</td>\n",
       "      <td>cmn</td>\n",
       "      <td>今天是６月１８号，也是Muiriel的生日！</td>\n",
       "    </tr>\n",
       "  </tbody>\n",
       "</table>\n",
       "</div>"
      ],
      "text/plain": [
       "   id lan_code                sentence\n",
       "0   1      cmn                  我們試試看！\n",
       "1   2      cmn                 我该去睡觉了。\n",
       "2   3      cmn                 你在干什麼啊？\n",
       "3   4      cmn                  這是什麼啊？\n",
       "4   5      cmn  今天是６月１８号，也是Muiriel的生日！"
      ]
     },
     "execution_count": 27,
     "metadata": {},
     "output_type": "execute_result"
    }
   ],
   "source": [
    "df_large = pd.read_csv(\"data/sentences.csv\", delimiter=\",\", encoding='utf8')\n",
    "df_large.head()"
   ]
  },
  {
   "cell_type": "code",
   "execution_count": 28,
   "metadata": {},
   "outputs": [
    {
     "data": {
      "text/plain": [
       "(10341812, 3)"
      ]
     },
     "execution_count": 28,
     "metadata": {},
     "output_type": "execute_result"
    }
   ],
   "source": [
    "df_large.shape"
   ]
  },
  {
   "cell_type": "code",
   "execution_count": 29,
   "metadata": {},
   "outputs": [],
   "source": [
    "with open(\"data/lan_to_language.json\", \"r\") as json_file:\n",
    "    lan_lang = json.load(json_file)"
   ]
  },
  {
   "cell_type": "code",
   "execution_count": 32,
   "metadata": {},
   "outputs": [
    {
     "data": {
      "text/plain": [
       "404"
      ]
     },
     "execution_count": 32,
     "metadata": {},
     "output_type": "execute_result"
    }
   ],
   "source": [
    "code_list = [code for code in lan_lang.keys()]  # Eventually filter by some specific languages\n",
    "len(code_list)\n",
    "\n",
    "# df = df_large[df_large['lan_code'].isin(code_list)] "
   ]
  },
  {
   "cell_type": "code",
   "execution_count": 36,
   "metadata": {},
   "outputs": [],
   "source": [
    "df = df_large"
   ]
  },
  {
   "cell_type": "code",
   "execution_count": 41,
   "metadata": {},
   "outputs": [
    {
     "data": {
      "text/plain": [
       "eng    1586621\n",
       "rus     909951\n",
       "ita     805104\n",
       "tur     717897\n",
       "epo     685643\n",
       "        ...   \n",
       "hax          1\n",
       "rel          1\n",
       "lou          1\n",
       "nys          1\n",
       "cyo          1\n",
       "Name: lan_code, Length: 404, dtype: int64"
      ]
     },
     "execution_count": 41,
     "metadata": {},
     "output_type": "execute_result"
    }
   ],
   "source": [
    "df[\"lan_code\"].value_counts()"
   ]
  },
  {
   "cell_type": "code",
   "execution_count": 44,
   "metadata": {},
   "outputs": [
    {
     "data": {
      "text/plain": [
       "count     10341812\n",
       "unique         404\n",
       "top            eng\n",
       "freq       1586621\n",
       "Name: lan_code, dtype: object"
      ]
     },
     "execution_count": 44,
     "metadata": {},
     "output_type": "execute_result"
    }
   ],
   "source": [
    "df[\"lan_code\"].describe()"
   ]
  },
  {
   "cell_type": "code",
   "execution_count": 45,
   "metadata": {},
   "outputs": [
    {
     "data": {
      "text/plain": [
       "[('eng', 1586621),\n",
       " ('rus', 909951),\n",
       " ('ita', 805104),\n",
       " ('tur', 717897),\n",
       " ('epo', 685643),\n",
       " ('ber', 591222),\n",
       " ('deu', 584674),\n",
       " ('kab', 518328),\n",
       " ('fra', 501241),\n",
       " ('por', 398029),\n",
       " ('spa', 369841),\n",
       " ('hun', 357828),\n",
       " ('jpn', 220103),\n",
       " ('heb', 199203),\n",
       " ('ukr', 178269),\n",
       " ('nld', 159193),\n",
       " ('fin', 139089),\n",
       " ('pol', 116582),\n",
       " ('mkd', 77949),\n",
       " ('lit', 76149),\n",
       " ('cmn', 72439),\n",
       " ('mar', 69303),\n",
       " ('ces', 63880),\n",
       " ('dan', 54945),\n",
       " ('tok', 47203),\n",
       " ('swe', 47006),\n",
       " ('srp', 45199),\n",
       " ('lat', 41498),\n",
       " ('ara', 38650),\n",
       " ('ell', 34805),\n",
       " ('ron', 28172),\n",
       " ('ina', 27493),\n",
       " ('pes', 25662),\n",
       " ('bul', 24609),\n",
       " ('tlh', 22288),\n",
       " ('lfn', 21414),\n",
       " ('vie', 20897),\n",
       " ('nds', 17988),\n",
       " ('tgl', 17910),\n",
       " ('slk', 16882),\n",
       " ('jbo', 16205),\n",
       " ('ind', 15717),\n",
       " ('hin', 14573),\n",
       " ('nob', 14326),\n",
       " ('tat', 13766),\n",
       " ('bel', 12654),\n",
       " ('isl', 12460),\n",
       " ('ckb', 10650),\n",
       " ('ido', 9686),\n",
       " ('kmr', 9654),\n",
       " ('yid', 9603),\n",
       " ('kor', 8981),\n",
       " ('cat', 8072),\n",
       " ('uig', 7813),\n",
       " ('ile', 7650),\n",
       " ('bre', 7289),\n",
       " ('tuk', 6755),\n",
       " ('zsm', 6610),\n",
       " ('yue', 6230),\n",
       " ('eus', 6183),\n",
       " ('kat', 6013),\n",
       " ('oci', 5695),\n",
       " ('gos', 5653),\n",
       " ('aze', 5417),\n",
       " ('run', 5278),\n",
       " ('hrv', 5252),\n",
       " ('hye', 4960),\n",
       " ('wuu', 4757),\n",
       " ('tha', 4751),\n",
       " ('ben', 4732),\n",
       " ('kzj', 4672),\n",
       " ('glg', 4616),\n",
       " ('vol', 4436),\n",
       " ('mhr', 4300),\n",
       " ('afr', 4137),\n",
       " ('avk', 4102),\n",
       " ('cor', 3924),\n",
       " ('kaz', 3889),\n",
       " ('est', 3693),\n",
       " ('asm', 3205),\n",
       " ('lvs', 3019),\n",
       " ('grn', 2983),\n",
       " ('dtp', 2864),\n",
       " ('frr', 2855),\n",
       " ('mon', 2780),\n",
       " ('gle', 2647),\n",
       " ('cbk', 2625),\n",
       " ('sqi', 2531),\n",
       " ('ilo', 2461),\n",
       " ('arq', 2326),\n",
       " ('ota', 2276),\n",
       " ('shi', 2258),\n",
       " ('gcf', 2086),\n",
       " ('urd', 2063),\n",
       " ('war', 2025),\n",
       " ('swg', 1946),\n",
       " ('kha', 1932),\n",
       " ('oss', 1898),\n",
       " ('lzh', 1830),\n",
       " ('zza', 1705),\n",
       " ('zgh', 1677),\n",
       " ('chv', 1630),\n",
       " ('nno', 1580),\n",
       " ('cym', 1579),\n",
       " ('nus', 1556),\n",
       " ('zlm', 1534),\n",
       " ('khm', 1511),\n",
       " ('hsb', 1510),\n",
       " ('pam', 1482),\n",
       " ('ceb', 1480),\n",
       " ('pcd', 1348),\n",
       " ('sat', 1308),\n",
       " ('orv', 1307),\n",
       " ('lad', 1248),\n",
       " ('grc', 1169),\n",
       " ('slv', 1124),\n",
       " ('dsb', 1095),\n",
       " ('hrx', 1084),\n",
       " ('gla', 1034),\n",
       " ('arz', 1016),\n",
       " ('prg', 1000),\n",
       " ('sah', 954),\n",
       " ('uzb', 954),\n",
       " ('csb', 947),\n",
       " ('sdh', 937),\n",
       " ('guc', 912),\n",
       " ('bua', 905),\n",
       " ('ltz', 883),\n",
       " ('mal', 878),\n",
       " ('rom', 873),\n",
       " ('xal', 870),\n",
       " ('pms', 822),\n",
       " ('jav', 795),\n",
       " ('nst', 793),\n",
       " ('lij', 716),\n",
       " ('hoc', 651),\n",
       " ('bos', 615),\n",
       " ('swh', 593),\n",
       " ('thv', 588),\n",
       " ('mus', 584),\n",
       " ('tpw', 563),\n",
       " ('mya', 539),\n",
       " ('ckt', 531),\n",
       " ('fkv', 481),\n",
       " ('gsw', 468),\n",
       " ('max', 427),\n",
       " ('nov', 426),\n",
       " ('que', 426),\n",
       " ('fao', 402),\n",
       " ('tam', 402),\n",
       " ('mri', 396),\n",
       " ('ori', 394),\n",
       " ('fry', 358),\n",
       " ('cha', 343),\n",
       " ('tzl', 342),\n",
       " ('ang', 334),\n",
       " ('crh', 309),\n",
       " ('ain', 282),\n",
       " ('kir', 281),\n",
       " ('ast', 280),\n",
       " ('tel', 271),\n",
       " ('got', 269),\n",
       " ('bzt', 260),\n",
       " ('awa', 253),\n",
       " ('xho', 252),\n",
       " ('shy', 247),\n",
       " ('bak', 228),\n",
       " ('rif', 227),\n",
       " ('bar', 220),\n",
       " ('lao', 219),\n",
       " ('mlt', 215),\n",
       " ('amh', 213),\n",
       " ('nah', 212),\n",
       " ('pan', 196),\n",
       " ('krl', 192),\n",
       " ('vec', 190),\n",
       " ('sux', 182),\n",
       " ('sme', 181),\n",
       " ('kan', 176),\n",
       " ('npi', 176),\n",
       " ('krc', 172),\n",
       " ('guj', 168),\n",
       " ('haw', 158),\n",
       " ('san', 156),\n",
       " ('nog', 150),\n",
       " ('egl', 144),\n",
       " ('qya', 142),\n",
       " ('ldn', 139),\n",
       " ('afb', 137),\n",
       " ('enm', 132),\n",
       " ('cho', 123),\n",
       " ('hbo', 123),\n",
       " ('min', 121),\n",
       " ('bjn', 120),\n",
       " ('evn', 116),\n",
       " ('kum', 116),\n",
       " ('rue', 116),\n",
       " ('wol', 114),\n",
       " ('bal', 105),\n",
       " ('arg', 103),\n",
       " ('tir', 103),\n",
       " ('mik', 97),\n",
       " ('stq', 96),\n",
       " ('shs', 95),\n",
       " ('fro', 93),\n",
       " ('pap', 89),\n",
       " ('sjn', 89),\n",
       " ('tpi', 89),\n",
       " ('apc', 88),\n",
       " ('sco', 87),\n",
       " ('cmo', 85),\n",
       " ('lin', 85),\n",
       " ('lld', 85),\n",
       " ('nav', 85),\n",
       " ('mrj', 83),\n",
       " ('ksh', 82),\n",
       " ('mww', 82),\n",
       " ('som', 80),\n",
       " ('afh', 79),\n",
       " ('hau', 79),\n",
       " ('kal', 78),\n",
       " ('zul', 78),\n",
       " ('bvy', 76),\n",
       " ('hat', 76),\n",
       " ('smo', 76),\n",
       " ('moh', 74),\n",
       " ('tmr', 73),\n",
       " ('myv', 68),\n",
       " ('udm', 68),\n",
       " ('ary', 67),\n",
       " ('ext', 66),\n",
       " ('tly', 66),\n",
       " ('tgk', 64),\n",
       " ('iii', 60),\n",
       " ('mgm', 60),\n",
       " ('lut', 59),\n",
       " ('mlg', 59),\n",
       " ('ppl', 59),\n",
       " ('sma', 59),\n",
       " ('tet', 59),\n",
       " ('xmf', 58),\n",
       " ('bfz', 57),\n",
       " ('dws', 57),\n",
       " ('pdc', 57),\n",
       " ('bho', 55),\n",
       " ('pag', 55),\n",
       " ('tts', 55),\n",
       " ('chn', 53),\n",
       " ('hak', 53),\n",
       " ('sin', 53),\n",
       " ('wln', 53),\n",
       " ('bom', 52),\n",
       " ('ike', 50),\n",
       " ('acm', 49),\n",
       " ('kas', 49),\n",
       " ('iba', 47),\n",
       " ('sgs', 47),\n",
       " ('kpv', 45),\n",
       " ('lim', 45),\n",
       " ('hil', 44),\n",
       " ('pus', 44),\n",
       " ('koi', 43),\n",
       " ('ngu', 43),\n",
       " ('sna', 42),\n",
       " ('bod', 41),\n",
       " ('tsn', 41),\n",
       " ('yor', 41),\n",
       " ('drt', 40),\n",
       " ('kjh', 40),\n",
       " ('nch', 39),\n",
       " ('fij', 38),\n",
       " ('glv', 37),\n",
       " ('cycl', 36),\n",
       " ('fuv', 36),\n",
       " ('gbm', 36),\n",
       " ('oji', 35),\n",
       " ('pnb', 35),\n",
       " ('scn', 35),\n",
       " ('hif', 34),\n",
       " ('pau', 34),\n",
       " ('fur', 33),\n",
       " ('ibo', 33),\n",
       " ('liv', 33),\n",
       " ('ltg', 33),\n",
       " ('rap', 33),\n",
       " ('frm', 32),\n",
       " ('niu', 32),\n",
       " ('ady', 31),\n",
       " ('cay', 31),\n",
       " ('dng', 31),\n",
       " ('sun', 31),\n",
       " ('div', 30),\n",
       " ('tah', 30),\n",
       " ('umb', 30),\n",
       " ('lmo', 29),\n",
       " ('akl', 28),\n",
       " ('aln', 28),\n",
       " ('bis', 28),\n",
       " ('che', 28),\n",
       " ('chr', 28),\n",
       " ('kin', 28),\n",
       " ('mvv', 28),\n",
       " ('ood', 28),\n",
       " ('abk', 27),\n",
       " ('mah', 27),\n",
       " ('ewe', 26),\n",
       " ('jam', 26),\n",
       " ('aoz', 24),\n",
       " ('cos', 24),\n",
       " ('kek', 24),\n",
       " ('nya', 24),\n",
       " ('lkt', 22),\n",
       " ('mwl', 22),\n",
       " ('oar', 22),\n",
       " ('izh', 21),\n",
       " ('osp', 21),\n",
       " ('klj', 20),\n",
       " ('non', 20),\n",
       " ('roh', 20),\n",
       " ('ton', 20),\n",
       " ('lzz', 19),\n",
       " ('ngt', 19),\n",
       " ('cjy', 18),\n",
       " ('mic', 18),\n",
       " ('tyv', 18),\n",
       " ('new', 17),\n",
       " ('gag', 16),\n",
       " ('phn', 15),\n",
       " ('srd', 15),\n",
       " ('toi', 15),\n",
       " ('vro', 15),\n",
       " ('gil', 14),\n",
       " ('nlv', 14),\n",
       " ('qxq', 14),\n",
       " ('tvl', 14),\n",
       " ('bam', 13),\n",
       " ('ofs', 13),\n",
       " ('vep', 13),\n",
       " ('emx', 12),\n",
       " ('tkl', 12),\n",
       " ('xqa', 12),\n",
       " ('zea', 12),\n",
       " ('brx', 11),\n",
       " ('kaa', 11),\n",
       " ('nau', 11),\n",
       " ('kam', 10),\n",
       " ('laa', 10),\n",
       " ('szl', 10),\n",
       " ('yua', 10),\n",
       " ('jdt', 9),\n",
       " ('mdf', 9),\n",
       " ('mnw', 9),\n",
       " ('ajp', 8),\n",
       " ('chg', 8),\n",
       " ('mai', 8),\n",
       " ('sag', 8),\n",
       " ('alt', 7),\n",
       " ('cpi', 7),\n",
       " ('fuc', 7),\n",
       " ('mad', 7),\n",
       " ('otk', 7),\n",
       " ('quc', 7),\n",
       " ('aii', 6),\n",
       " ('ban', 6),\n",
       " ('diq', 6),\n",
       " ('jpa', 6),\n",
       " ('kiu', 6),\n",
       " ('mfe', 6),\n",
       " ('snd', 6),\n",
       " ('bcl', 5),\n",
       " ('pal', 5),\n",
       " ('tmw', 5),\n",
       " ('crk', 4),\n",
       " ('gom', 4),\n",
       " ('hnj', 4),\n",
       " ('hsn', 4),\n",
       " ('igs', 4),\n",
       " ('ayl', 3),\n",
       " ('gaa', 3),\n",
       " ('gan', 3),\n",
       " ('hdn', 3),\n",
       " ('kxi', 3),\n",
       " ('mni', 3),\n",
       " ('mnr', 3),\n",
       " ('osx', 3),\n",
       " ('pfl', 3),\n",
       " ('syc', 3),\n",
       " ('tig', 3),\n",
       " ('tso', 3),\n",
       " ('aym', 2),\n",
       " ('crs', 2),\n",
       " ('lug', 2),\n",
       " ('mnc', 2),\n",
       " ('pli', 2),\n",
       " ('ryu', 2),\n",
       " ('sot', 2),\n",
       " ('srn', 2),\n",
       " ('cyo', 1),\n",
       " ('hax', 1),\n",
       " ('lou', 1),\n",
       " ('nys', 1),\n",
       " ('rel', 1),\n",
       " ('ssw', 1),\n",
       " ('urh', 1)]"
      ]
     },
     "execution_count": 45,
     "metadata": {},
     "output_type": "execute_result"
    }
   ],
   "source": [
    "occurances = dict(df_large.groupby(\"lan_code\")[\"id\"].count())\n",
    "occurances_sort = sorted(occurances.items(), key=lambda x: x[1], reverse=True)\n",
    "occurances_sort"
   ]
  },
  {
   "cell_type": "code",
   "execution_count": 46,
   "metadata": {},
   "outputs": [],
   "source": [
    "df_20 = df_large[df_large.apply(lambda x: occurances[x[\"lan_code\"]] > 50000, axis=1)]"
   ]
  },
  {
   "cell_type": "code",
   "execution_count": 47,
   "metadata": {},
   "outputs": [],
   "source": [
    "df_20.to_csv(\"data/sentences_50k.csv\", sep=',', encoding='utf-8')"
   ]
  },
  {
   "cell_type": "code",
   "execution_count": 58,
   "metadata": {},
   "outputs": [
    {
     "data": {
      "text/html": [
       "<div>\n",
       "<style scoped>\n",
       "    .dataframe tbody tr th:only-of-type {\n",
       "        vertical-align: middle;\n",
       "    }\n",
       "\n",
       "    .dataframe tbody tr th {\n",
       "        vertical-align: top;\n",
       "    }\n",
       "\n",
       "    .dataframe thead th {\n",
       "        text-align: right;\n",
       "    }\n",
       "</style>\n",
       "<table border=\"1\" class=\"dataframe\">\n",
       "  <thead>\n",
       "    <tr style=\"text-align: right;\">\n",
       "      <th></th>\n",
       "      <th>id</th>\n",
       "      <th>lan_code</th>\n",
       "      <th>sentence</th>\n",
       "    </tr>\n",
       "  </thead>\n",
       "  <tbody>\n",
       "    <tr>\n",
       "      <th>0</th>\n",
       "      <td>1</td>\n",
       "      <td>cmn</td>\n",
       "      <td>我們試試看！</td>\n",
       "    </tr>\n",
       "    <tr>\n",
       "      <th>1</th>\n",
       "      <td>2</td>\n",
       "      <td>cmn</td>\n",
       "      <td>我该去睡觉了。</td>\n",
       "    </tr>\n",
       "    <tr>\n",
       "      <th>2</th>\n",
       "      <td>3</td>\n",
       "      <td>cmn</td>\n",
       "      <td>你在干什麼啊？</td>\n",
       "    </tr>\n",
       "    <tr>\n",
       "      <th>3</th>\n",
       "      <td>4</td>\n",
       "      <td>cmn</td>\n",
       "      <td>這是什麼啊？</td>\n",
       "    </tr>\n",
       "    <tr>\n",
       "      <th>4</th>\n",
       "      <td>5</td>\n",
       "      <td>cmn</td>\n",
       "      <td>今天是６月１８号，也是Muiriel的生日！</td>\n",
       "    </tr>\n",
       "    <tr>\n",
       "      <th>...</th>\n",
       "      <td>...</td>\n",
       "      <td>...</td>\n",
       "      <td>...</td>\n",
       "    </tr>\n",
       "    <tr>\n",
       "      <th>10341807</th>\n",
       "      <td>10794524</td>\n",
       "      <td>spa</td>\n",
       "      <td>Quiero este libro por favor.</td>\n",
       "    </tr>\n",
       "    <tr>\n",
       "      <th>10341808</th>\n",
       "      <td>10794525</td>\n",
       "      <td>spa</td>\n",
       "      <td>Los han hecho huir.</td>\n",
       "    </tr>\n",
       "    <tr>\n",
       "      <th>10341809</th>\n",
       "      <td>10794526</td>\n",
       "      <td>spa</td>\n",
       "      <td>Los botaron.</td>\n",
       "    </tr>\n",
       "    <tr>\n",
       "      <th>10341810</th>\n",
       "      <td>10794527</td>\n",
       "      <td>spa</td>\n",
       "      <td>Los hicieron correr.</td>\n",
       "    </tr>\n",
       "    <tr>\n",
       "      <th>10341811</th>\n",
       "      <td>10794528</td>\n",
       "      <td>spa</td>\n",
       "      <td>Los corrieron.</td>\n",
       "    </tr>\n",
       "  </tbody>\n",
       "</table>\n",
       "<p>9453483 rows × 3 columns</p>\n",
       "</div>"
      ],
      "text/plain": [
       "                id lan_code                      sentence\n",
       "0                1      cmn                        我們試試看！\n",
       "1                2      cmn                       我该去睡觉了。\n",
       "2                3      cmn                       你在干什麼啊？\n",
       "3                4      cmn                        這是什麼啊？\n",
       "4                5      cmn        今天是６月１８号，也是Muiriel的生日！\n",
       "...            ...      ...                           ...\n",
       "10341807  10794524      spa  Quiero este libro por favor.\n",
       "10341808  10794525      spa           Los han hecho huir.\n",
       "10341809  10794526      spa                  Los botaron.\n",
       "10341810  10794527      spa          Los hicieron correr.\n",
       "10341811  10794528      spa                Los corrieron.\n",
       "\n",
       "[9453483 rows x 3 columns]"
      ]
     },
     "execution_count": 58,
     "metadata": {},
     "output_type": "execute_result"
    }
   ],
   "source": [
    "df_20"
   ]
  },
  {
   "cell_type": "code",
   "execution_count": 52,
   "metadata": {},
   "outputs": [
    {
     "data": {
      "text/plain": [
       "eng    1586621\n",
       "rus     909951\n",
       "ita     805104\n",
       "tur     717897\n",
       "epo     685643\n",
       "ber     591222\n",
       "deu     584674\n",
       "kab     518328\n",
       "fra     501241\n",
       "por     398029\n",
       "spa     369841\n",
       "hun     357828\n",
       "jpn     220103\n",
       "heb     199203\n",
       "ukr     178269\n",
       "nld     159193\n",
       "fin     139089\n",
       "pol     116582\n",
       "mkd      77949\n",
       "lit      76149\n",
       "cmn      72439\n",
       "mar      69303\n",
       "ces      63880\n",
       "dan      54945\n",
       "Name: lan_code, dtype: int64"
      ]
     },
     "execution_count": 52,
     "metadata": {},
     "output_type": "execute_result"
    }
   ],
   "source": [
    "df_20[\"lan_code\"].value_counts()"
   ]
  },
  {
   "cell_type": "code",
   "execution_count": 53,
   "metadata": {},
   "outputs": [
    {
     "data": {
      "text/plain": [
       "count     9453483\n",
       "unique         24\n",
       "top           eng\n",
       "freq      1586621\n",
       "Name: lan_code, dtype: object"
      ]
     },
     "execution_count": 53,
     "metadata": {},
     "output_type": "execute_result"
    }
   ],
   "source": [
    "df_20[\"lan_code\"].describe()"
   ]
  },
  {
   "cell_type": "code",
   "execution_count": 73,
   "metadata": {},
   "outputs": [
    {
     "data": {
      "image/png": "[encoded data removed]",
      "text/plain": [
       "<Figure size 640x480 with 1 Axes>"
      ]
     },
     "metadata": {},
     "output_type": "display_data"
    }
   ],
   "source": [
    "plt.hist(df_20[\"lan_code\"], bins=len(df_20[\"lan_code\"].unique()), edgecolor='black', align='left')\n",
    "plt.xticks(rotation=45)\n",
    "plt.show()"
   ]
  },
  {
   "cell_type": "code",
   "execution_count": 61,
   "metadata": {},
   "outputs": [
    {
     "data": {
      "text/plain": [
       "id        lan_code  sentence                                                                                                                                   \n",
       "1         cmn       我們試試看！                                                                                                                                         1\n",
       "7260361   fin       Todistus jätetään lukijalle.                                                                                                                   1\n",
       "7260520   fin       Todista, että P on osittain järjestetty joukko.                                                                                                1\n",
       "7260518   fin       ”A ja B ovat ekvivalentteja” tarkoittaa samaa kuin ”A on tosi jos ja vain jos B on tosi”.                                                      1\n",
       "7260517   fin       »A ja B ovat ekvivalentteja» tarkoittaa samaa kuin »A on tosi jos ja vain jos B on tosi».                                                      1\n",
       "                                                                                                                                                                  ..\n",
       "3542364   tur       Bu dağın yüksekliği 3000 metredir.                                                                                                             1\n",
       "3542343   por       Deus talvez não jogue dados com o universo, mas algo estranho está acontecendo com os números primos.                                          1\n",
       "3542335   mar       लाथ मारून दार उघडू नका.                                                                                                                        1\n",
       "3542312   spa       Esa profunda convicción emocional de la presencia de un poder superior, que se revela en el universo incomprensible, forma mi idea de Dios.    1\n",
       "10794502  eng       How much more time do we have left?                                                                                                            1\n",
       "Length: 1199884, dtype: int64"
      ]
     },
     "execution_count": 61,
     "metadata": {},
     "output_type": "execute_result"
    }
   ],
   "source": [
    "df_50k_balanced = df_20[df_20.apply(lambda x: (50000/occurances[x[\"lan_code\"]]) > random.random(), axis=1)]"
   ]
  },
  {
   "cell_type": "code",
   "execution_count": 64,
   "metadata": {},
   "outputs": [
    {
     "data": {
      "text/plain": [
       "epo    50274\n",
       "tur    50227\n",
       "heb    50198\n",
       "spa    50165\n",
       "hun    50158\n",
       "mkd    50125\n",
       "pol    50123\n",
       "mar    50118\n",
       "ukr    50073\n",
       "lit    50065\n",
       "deu    50065\n",
       "eng    50060\n",
       "fra    50044\n",
       "por    50018\n",
       "ces    50006\n",
       "fin    49991\n",
       "dan    49989\n",
       "nld    49952\n",
       "cmn    49855\n",
       "jpn    49746\n",
       "ita    49733\n",
       "kab    49719\n",
       "rus    49590\n",
       "ber    49590\n",
       "Name: lan_code, dtype: int64"
      ]
     },
     "execution_count": 64,
     "metadata": {},
     "output_type": "execute_result"
    }
   ],
   "source": [
    "df_50k_balanced[\"lan_code\"].value_counts()"
   ]
  },
  {
   "cell_type": "code",
   "execution_count": 74,
   "metadata": {},
   "outputs": [
    {
     "data": {
      "image/png": "[encoded data removed]",
      "text/plain": [
       "<Figure size 640x480 with 1 Axes>"
      ]
     },
     "metadata": {},
     "output_type": "display_data"
    }
   ],
   "source": [
    "plt.hist(df_50k_balanced[\"lan_code\"], bins=len(df_50k_balanced[\"lan_code\"].unique()), edgecolor='black', align='left')\n",
    "plt.xticks(rotation=45)\n",
    "plt.show()"
   ]
  },
  {
   "cell_type": "code",
   "execution_count": 63,
   "metadata": {},
   "outputs": [],
   "source": [
    "df_50k_balanced.to_csv(\"data/sentences_50k_balanced.csv\", sep=',', encoding='utf-8')"
   ]
  }
 ],
 "metadata": {
  "kernelspec": {
   "display_name": "Python 3.10.6 64-bit",
   "language": "python",
   "name": "python3"
  },
  "language_info": {
   "codemirror_mode": {
    "name": "ipython",
    "version": 3
   },
   "file_extension": ".py",
   "mimetype": "text/x-python",
   "name": "python",
   "nbconvert_exporter": "python",
   "pygments_lexer": "ipython3",
   "version": "3.10.6"
  },
  "orig_nbformat": 4,
  "vscode": {
   "interpreter": {
    "hash": "83fd4375a822156133a8f0ea701c86b5bfda9cc7c150a00174c57fbf773ec247"
   }
  }
 },
 "nbformat": 4,
 "nbformat_minor": 2
}
