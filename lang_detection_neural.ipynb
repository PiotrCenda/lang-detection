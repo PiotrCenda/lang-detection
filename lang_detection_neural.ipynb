{
 "cells": [
  {
   "attachments": {},
   "cell_type": "markdown",
   "metadata": {},
   "source": [
    "# Language detection using neural networks"
   ]
  },
  {
   "attachments": {},
   "cell_type": "markdown",
   "metadata": {},
   "source": [
    "### Imports"
   ]
  },
  {
   "cell_type": "code",
   "execution_count": 1,
   "metadata": {},
   "outputs": [],
   "source": [
    "import json\n",
    "import random\n",
    "import numpy as np\n",
    "import pandas as pd\n",
    "import matplotlib.pyplot as plt\n",
    "import tensorflow as tf\n",
    "from tensorflow.keras import models\n",
    "from tensorflow.keras import layers\n",
    "from sklearn.model_selection import train_test_split"
   ]
  },
  {
   "attachments": {},
   "cell_type": "markdown",
   "metadata": {},
   "source": [
    "### Check GPU availability"
   ]
  },
  {
   "cell_type": "code",
   "execution_count": 2,
   "metadata": {},
   "outputs": [
    {
     "name": "stdout",
     "output_type": "stream",
     "text": [
      "Num GPUs Available:  1\n"
     ]
    }
   ],
   "source": [
    "print(\"Num GPUs Available: \", len(tf.config.list_physical_devices('GPU')))"
   ]
  },
  {
   "attachments": {},
   "cell_type": "markdown",
   "metadata": {},
   "source": [
    "### Data loading"
   ]
  },
  {
   "cell_type": "code",
   "execution_count": 3,
   "metadata": {},
   "outputs": [
    {
     "data": {
      "text/html": [
       "<div>\n",
       "<style scoped>\n",
       "    .dataframe tbody tr th:only-of-type {\n",
       "        vertical-align: middle;\n",
       "    }\n",
       "\n",
       "    .dataframe tbody tr th {\n",
       "        vertical-align: top;\n",
       "    }\n",
       "\n",
       "    .dataframe thead th {\n",
       "        text-align: right;\n",
       "    }\n",
       "</style>\n",
       "<table border=\"1\" class=\"dataframe\">\n",
       "  <thead>\n",
       "    <tr style=\"text-align: right;\">\n",
       "      <th></th>\n",
       "      <th>id</th>\n",
       "      <th>lan_code</th>\n",
       "      <th>sentence</th>\n",
       "    </tr>\n",
       "  </thead>\n",
       "  <tbody>\n",
       "    <tr>\n",
       "      <th>0</th>\n",
       "      <td>1</td>\n",
       "      <td>cmn</td>\n",
       "      <td>我們試試看！</td>\n",
       "    </tr>\n",
       "    <tr>\n",
       "      <th>1</th>\n",
       "      <td>2</td>\n",
       "      <td>cmn</td>\n",
       "      <td>我该去睡觉了。</td>\n",
       "    </tr>\n",
       "    <tr>\n",
       "      <th>2</th>\n",
       "      <td>3</td>\n",
       "      <td>cmn</td>\n",
       "      <td>你在干什麼啊？</td>\n",
       "    </tr>\n",
       "    <tr>\n",
       "      <th>3</th>\n",
       "      <td>4</td>\n",
       "      <td>cmn</td>\n",
       "      <td>這是什麼啊？</td>\n",
       "    </tr>\n",
       "    <tr>\n",
       "      <th>4</th>\n",
       "      <td>5</td>\n",
       "      <td>cmn</td>\n",
       "      <td>今天是６月１８号，也是Muiriel的生日！</td>\n",
       "    </tr>\n",
       "  </tbody>\n",
       "</table>\n",
       "</div>"
      ],
      "text/plain": [
       "   id lan_code                sentence\n",
       "0   1      cmn                  我們試試看！\n",
       "1   2      cmn                 我该去睡觉了。\n",
       "2   3      cmn                 你在干什麼啊？\n",
       "3   4      cmn                  這是什麼啊？\n",
       "4   5      cmn  今天是６月１８号，也是Muiriel的生日！"
      ]
     },
     "execution_count": 3,
     "metadata": {},
     "output_type": "execute_result"
    }
   ],
   "source": [
    "df = pd.read_csv(\"data/sentences_10k.csv\", delimiter=\",\", encoding='utf8', index_col=0)\n",
    "df.head()"
   ]
  },
  {
   "cell_type": "code",
   "execution_count": 4,
   "metadata": {},
   "outputs": [],
   "source": [
    "langs = list(df[\"lan_code\"].unique())"
   ]
  },
  {
   "cell_type": "code",
   "execution_count": 5,
   "metadata": {},
   "outputs": [
    {
     "name": "stdout",
     "output_type": "stream",
     "text": [
      "{'cmn': 0, 'deu': 1, 'rus': 2, 'fra': 3, 'eng': 4, 'jpn': 5, 'spa': 6, 'ita': 7, 'vie': 8, 'nld': 9, 'epo': 10, 'por': 11, 'tur': 12, 'heb': 13, 'hun': 14, 'ell': 15, 'ind': 16, 'ara': 17, 'fin': 18, 'bul': 19, 'swe': 20, 'ukr': 21, 'bel': 22, 'ces': 23, 'nob': 24, 'pol': 25, 'lat': 26, 'isl': 27, 'ron': 28, 'tat': 29, 'srp': 30, 'dan': 31, 'pes': 32, 'slk': 33, 'tgl': 34, 'hin': 35, 'lit': 36, 'mkd': 37, 'jbo': 38, 'tok': 39, 'ina': 40, 'nds': 41, 'tlh': 42, 'kab': 43, 'ber': 44, 'mar': 45, 'ckb': 46, 'lfn': 47}\n",
      "{0: 'cmn', 1: 'deu', 2: 'rus', 3: 'fra', 4: 'eng', 5: 'jpn', 6: 'spa', 7: 'ita', 8: 'vie', 9: 'nld', 10: 'epo', 11: 'por', 12: 'tur', 13: 'heb', 14: 'hun', 15: 'ell', 16: 'ind', 17: 'ara', 18: 'fin', 19: 'bul', 20: 'swe', 21: 'ukr', 22: 'bel', 23: 'ces', 24: 'nob', 25: 'pol', 26: 'lat', 27: 'isl', 28: 'ron', 29: 'tat', 30: 'srp', 31: 'dan', 32: 'pes', 33: 'slk', 34: 'tgl', 35: 'hin', 36: 'lit', 37: 'mkd', 38: 'jbo', 39: 'tok', 40: 'ina', 41: 'nds', 42: 'tlh', 43: 'kab', 44: 'ber', 45: 'mar', 46: 'ckb', 47: 'lfn'}\n"
     ]
    }
   ],
   "source": [
    "lang_to_num = {lan: i for i, lan in enumerate(langs)}\n",
    "print(lang_to_num)\n",
    "\n",
    "num_to_lang = {i: lan for lan, i in lang_to_num.items()}\n",
    "print(num_to_lang)"
   ]
  },
  {
   "cell_type": "code",
   "execution_count": 6,
   "metadata": {},
   "outputs": [],
   "source": [
    "df[\"lang_num\"] = df[\"lan_code\"].map(lang_to_num).astype(int)\n",
    "lang_count = len(df['lang_num'].unique())"
   ]
  },
  {
   "cell_type": "code",
   "execution_count": 7,
   "metadata": {},
   "outputs": [
    {
     "name": "stdout",
     "output_type": "stream",
     "text": [
      "Mean length of sentence: 35.63898586965506\n",
      "Median length of sentence: 31.0\n"
     ]
    }
   ],
   "source": [
    "mean_sentence_len = df[\"sentence\"].str.len().mean()\n",
    "median_sentence_len = df[\"sentence\"].str.len().median()\n",
    "\n",
    "print(f\"Mean length of sentence: {mean_sentence_len}\")\n",
    "print(f\"Median length of sentence: {median_sentence_len}\")"
   ]
  },
  {
   "cell_type": "code",
   "execution_count": 8,
   "metadata": {},
   "outputs": [
    {
     "name": "stdout",
     "output_type": "stream",
     "text": [
      "Input length: 35\n"
     ]
    }
   ],
   "source": [
    "input_length = int(np.floor(max(mean_sentence_len, median_sentence_len)))\n",
    "print(f\"Input length: {input_length}\")"
   ]
  },
  {
   "cell_type": "code",
   "execution_count": 9,
   "metadata": {},
   "outputs": [],
   "source": [
    "def sentence_to_unicode_list(sentence):\n",
    "    max_len = input_length\n",
    "    unicode_list = [ord(i) for i in sentence]\n",
    "    \n",
    "    if len(unicode_list) >= max_len:\n",
    "        unicode_list = unicode_list[:max_len]\n",
    "    else:\n",
    "        len_diff = max_len - len(unicode_list)\n",
    "        unicode_list.extend([0 for _ in range(len_diff)])\n",
    "    \n",
    "    return unicode_list\n",
    "\n",
    "def set_labels(lang):\n",
    "    labels = [0 for _ in range(lang_count)]\n",
    "    labels[lang] = 1\n",
    "    return labels"
   ]
  },
  {
   "cell_type": "code",
   "execution_count": 10,
   "metadata": {},
   "outputs": [],
   "source": [
    "df['unicode'] = df['sentence'].apply(sentence_to_unicode_list)\n",
    "df['labels'] = df['lang_num'].apply(set_labels)"
   ]
  },
  {
   "cell_type": "code",
   "execution_count": 11,
   "metadata": {},
   "outputs": [
    {
     "data": {
      "text/html": [
       "<div>\n",
       "<style scoped>\n",
       "    .dataframe tbody tr th:only-of-type {\n",
       "        vertical-align: middle;\n",
       "    }\n",
       "\n",
       "    .dataframe tbody tr th {\n",
       "        vertical-align: top;\n",
       "    }\n",
       "\n",
       "    .dataframe thead th {\n",
       "        text-align: right;\n",
       "    }\n",
       "</style>\n",
       "<table border=\"1\" class=\"dataframe\">\n",
       "  <thead>\n",
       "    <tr style=\"text-align: right;\">\n",
       "      <th></th>\n",
       "      <th>id</th>\n",
       "      <th>lan_code</th>\n",
       "      <th>sentence</th>\n",
       "      <th>lang_num</th>\n",
       "      <th>unicode</th>\n",
       "      <th>labels</th>\n",
       "    </tr>\n",
       "  </thead>\n",
       "  <tbody>\n",
       "    <tr>\n",
       "      <th>2989422</th>\n",
       "      <td>3171541</td>\n",
       "      <td>eng</td>\n",
       "      <td>Tom forced Mary to sign the contract.</td>\n",
       "      <td>4</td>\n",
       "      <td>[84, 111, 109, 32, 102, 111, 114, 99, 101, 100...</td>\n",
       "      <td>[0, 0, 0, 0, 1, 0, 0, 0, 0, 0, 0, 0, 0, 0, 0, ...</td>\n",
       "    </tr>\n",
       "    <tr>\n",
       "      <th>6050351</th>\n",
       "      <td>6429178</td>\n",
       "      <td>eng</td>\n",
       "      <td>Mary reached for her hat.</td>\n",
       "      <td>4</td>\n",
       "      <td>[77, 97, 114, 121, 32, 114, 101, 97, 99, 104, ...</td>\n",
       "      <td>[0, 0, 0, 0, 1, 0, 0, 0, 0, 0, 0, 0, 0, 0, 0, ...</td>\n",
       "    </tr>\n",
       "    <tr>\n",
       "      <th>353337</th>\n",
       "      <td>369304</td>\n",
       "      <td>bul</td>\n",
       "      <td>Когато заспиваш, изведнъж някакъв звук отеква ...</td>\n",
       "      <td>19</td>\n",
       "      <td>[1050, 1086, 1075, 1072, 1090, 1086, 32, 1079,...</td>\n",
       "      <td>[0, 0, 0, 0, 0, 0, 0, 0, 0, 0, 0, 0, 0, 0, 0, ...</td>\n",
       "    </tr>\n",
       "    <tr>\n",
       "      <th>7901841</th>\n",
       "      <td>8316760</td>\n",
       "      <td>kab</td>\n",
       "      <td>Win ik-yennan teshel lɣerba ad d-yas ad iyi-d-...</td>\n",
       "      <td>43</td>\n",
       "      <td>[87, 105, 110, 32, 105, 107, 45, 121, 101, 110...</td>\n",
       "      <td>[0, 0, 0, 0, 0, 0, 0, 0, 0, 0, 0, 0, 0, 0, 0, ...</td>\n",
       "    </tr>\n",
       "    <tr>\n",
       "      <th>4227190</th>\n",
       "      <td>4501417</td>\n",
       "      <td>eng</td>\n",
       "      <td>The way they plan to punish Tom seems kind of ...</td>\n",
       "      <td>4</td>\n",
       "      <td>[84, 104, 101, 32, 119, 97, 121, 32, 116, 104,...</td>\n",
       "      <td>[0, 0, 0, 0, 1, 0, 0, 0, 0, 0, 0, 0, 0, 0, 0, ...</td>\n",
       "    </tr>\n",
       "    <tr>\n",
       "      <th>762734</th>\n",
       "      <td>799264</td>\n",
       "      <td>nds</td>\n",
       "      <td>Wat snackst du för ’n Tüdelkraam?</td>\n",
       "      <td>41</td>\n",
       "      <td>[87, 97, 116, 32, 115, 110, 97, 99, 107, 115, ...</td>\n",
       "      <td>[0, 0, 0, 0, 0, 0, 0, 0, 0, 0, 0, 0, 0, 0, 0, ...</td>\n",
       "    </tr>\n",
       "    <tr>\n",
       "      <th>1950244</th>\n",
       "      <td>2064711</td>\n",
       "      <td>eng</td>\n",
       "      <td>We got something from Tom.</td>\n",
       "      <td>4</td>\n",
       "      <td>[87, 101, 32, 103, 111, 116, 32, 115, 111, 109...</td>\n",
       "      <td>[0, 0, 0, 0, 1, 0, 0, 0, 0, 0, 0, 0, 0, 0, 0, ...</td>\n",
       "    </tr>\n",
       "    <tr>\n",
       "      <th>1044299</th>\n",
       "      <td>1096125</td>\n",
       "      <td>eng</td>\n",
       "      <td>Neither Tom nor Mary was in a talkative mood.</td>\n",
       "      <td>4</td>\n",
       "      <td>[78, 101, 105, 116, 104, 101, 114, 32, 84, 111...</td>\n",
       "      <td>[0, 0, 0, 0, 1, 0, 0, 0, 0, 0, 0, 0, 0, 0, 0, ...</td>\n",
       "    </tr>\n",
       "    <tr>\n",
       "      <th>459624</th>\n",
       "      <td>480071</td>\n",
       "      <td>epo</td>\n",
       "      <td>Vi vidis nenion.</td>\n",
       "      <td>10</td>\n",
       "      <td>[86, 105, 32, 118, 105, 100, 105, 115, 32, 110...</td>\n",
       "      <td>[0, 0, 0, 0, 0, 0, 0, 0, 0, 0, 1, 0, 0, 0, 0, ...</td>\n",
       "    </tr>\n",
       "    <tr>\n",
       "      <th>8454903</th>\n",
       "      <td>8886129</td>\n",
       "      <td>hun</td>\n",
       "      <td>Ezt a lovat képtelenség megzabolázni.</td>\n",
       "      <td>14</td>\n",
       "      <td>[69, 122, 116, 32, 97, 32, 108, 111, 118, 97, ...</td>\n",
       "      <td>[0, 0, 0, 0, 0, 0, 0, 0, 0, 0, 0, 0, 0, 0, 1, ...</td>\n",
       "    </tr>\n",
       "  </tbody>\n",
       "</table>\n",
       "</div>"
      ],
      "text/plain": [
       "              id lan_code                                           sentence  \\\n",
       "2989422  3171541      eng              Tom forced Mary to sign the contract.   \n",
       "6050351  6429178      eng                          Mary reached for her hat.   \n",
       "353337    369304      bul  Когато заспиваш, изведнъж някакъв звук отеква ...   \n",
       "7901841  8316760      kab  Win ik-yennan teshel lɣerba ad d-yas ad iyi-d-...   \n",
       "4227190  4501417      eng  The way they plan to punish Tom seems kind of ...   \n",
       "762734    799264      nds                  Wat snackst du för ’n Tüdelkraam?   \n",
       "1950244  2064711      eng                         We got something from Tom.   \n",
       "1044299  1096125      eng      Neither Tom nor Mary was in a talkative mood.   \n",
       "459624    480071      epo                                   Vi vidis nenion.   \n",
       "8454903  8886129      hun              Ezt a lovat képtelenség megzabolázni.   \n",
       "\n",
       "         lang_num                                            unicode  \\\n",
       "2989422         4  [84, 111, 109, 32, 102, 111, 114, 99, 101, 100...   \n",
       "6050351         4  [77, 97, 114, 121, 32, 114, 101, 97, 99, 104, ...   \n",
       "353337         19  [1050, 1086, 1075, 1072, 1090, 1086, 32, 1079,...   \n",
       "7901841        43  [87, 105, 110, 32, 105, 107, 45, 121, 101, 110...   \n",
       "4227190         4  [84, 104, 101, 32, 119, 97, 121, 32, 116, 104,...   \n",
       "762734         41  [87, 97, 116, 32, 115, 110, 97, 99, 107, 115, ...   \n",
       "1950244         4  [87, 101, 32, 103, 111, 116, 32, 115, 111, 109...   \n",
       "1044299         4  [78, 101, 105, 116, 104, 101, 114, 32, 84, 111...   \n",
       "459624         10  [86, 105, 32, 118, 105, 100, 105, 115, 32, 110...   \n",
       "8454903        14  [69, 122, 116, 32, 97, 32, 108, 111, 118, 97, ...   \n",
       "\n",
       "                                                    labels  \n",
       "2989422  [0, 0, 0, 0, 1, 0, 0, 0, 0, 0, 0, 0, 0, 0, 0, ...  \n",
       "6050351  [0, 0, 0, 0, 1, 0, 0, 0, 0, 0, 0, 0, 0, 0, 0, ...  \n",
       "353337   [0, 0, 0, 0, 0, 0, 0, 0, 0, 0, 0, 0, 0, 0, 0, ...  \n",
       "7901841  [0, 0, 0, 0, 0, 0, 0, 0, 0, 0, 0, 0, 0, 0, 0, ...  \n",
       "4227190  [0, 0, 0, 0, 1, 0, 0, 0, 0, 0, 0, 0, 0, 0, 0, ...  \n",
       "762734   [0, 0, 0, 0, 0, 0, 0, 0, 0, 0, 0, 0, 0, 0, 0, ...  \n",
       "1950244  [0, 0, 0, 0, 1, 0, 0, 0, 0, 0, 0, 0, 0, 0, 0, ...  \n",
       "1044299  [0, 0, 0, 0, 1, 0, 0, 0, 0, 0, 0, 0, 0, 0, 0, ...  \n",
       "459624   [0, 0, 0, 0, 0, 0, 0, 0, 0, 0, 1, 0, 0, 0, 0, ...  \n",
       "8454903  [0, 0, 0, 0, 0, 0, 0, 0, 0, 0, 0, 0, 0, 0, 1, ...  "
      ]
     },
     "execution_count": 11,
     "metadata": {},
     "output_type": "execute_result"
    }
   ],
   "source": [
    "df.dropna()\n",
    "df.sample(10)"
   ]
  },
  {
   "cell_type": "code",
   "execution_count": 12,
   "metadata": {},
   "outputs": [],
   "source": [
    "df_numpy = df.to_numpy()"
   ]
  },
  {
   "attachments": {},
   "cell_type": "markdown",
   "metadata": {},
   "source": [
    "### Dense net"
   ]
  },
  {
   "cell_type": "code",
   "execution_count": 13,
   "metadata": {},
   "outputs": [
    {
     "name": "stdout",
     "output_type": "stream",
     "text": [
      "x_shape: (10041509, 35)\n",
      "y_shape: (10041509, 48)\n"
     ]
    }
   ],
   "source": [
    "x = np.array(list(df_numpy[:, -2])[:-1])\n",
    "y = np.array(list(df_numpy[:, -1])[:-1])\n",
    "\n",
    "print(f\"x_shape: {x.shape}\")\n",
    "print(f\"y_shape: {y.shape}\")"
   ]
  },
  {
   "cell_type": "code",
   "execution_count": 14,
   "metadata": {},
   "outputs": [],
   "source": [
    "x_train, x_test, y_train, y_test = train_test_split(x, y, test_size=0.3, shuffle=True)"
   ]
  },
  {
   "cell_type": "code",
   "execution_count": 15,
   "metadata": {},
   "outputs": [
    {
     "data": {
      "text/plain": [
       "(7029056, 35)"
      ]
     },
     "execution_count": 15,
     "metadata": {},
     "output_type": "execute_result"
    }
   ],
   "source": [
    "x_train.shape"
   ]
  },
  {
   "cell_type": "code",
   "execution_count": 61,
   "metadata": {},
   "outputs": [
    {
     "name": "stdout",
     "output_type": "stream",
     "text": [
      "Model: \"sequential_9\"\n",
      "_________________________________________________________________\n",
      " Layer (type)                Output Shape              Param #   \n",
      "=================================================================\n",
      " dense_21 (Dense)            (None, 128)               4608      \n",
      "                                                                 \n",
      " dropout_62 (Dropout)        (None, 128)               0         \n",
      "                                                                 \n",
      " dense_22 (Dense)            (None, 256)               33024     \n",
      "                                                                 \n",
      " dropout_63 (Dropout)        (None, 256)               0         \n",
      "                                                                 \n",
      " dense_23 (Dense)            (None, 512)               131584    \n",
      "                                                                 \n",
      " dropout_64 (Dropout)        (None, 512)               0         \n",
      "                                                                 \n",
      " dense_24 (Dense)            (None, 1024)              525312    \n",
      "                                                                 \n",
      " dropout_65 (Dropout)        (None, 1024)              0         \n",
      "                                                                 \n",
      " dense_25 (Dense)            (None, 1024)              1049600   \n",
      "                                                                 \n",
      " dropout_66 (Dropout)        (None, 1024)              0         \n",
      "                                                                 \n",
      " dense_26 (Dense)            (None, 512)               524800    \n",
      "                                                                 \n",
      " dropout_67 (Dropout)        (None, 512)               0         \n",
      "                                                                 \n",
      " dense_27 (Dense)            (None, 48)                24624     \n",
      "                                                                 \n",
      "=================================================================\n",
      "Total params: 2,293,552\n",
      "Trainable params: 2,293,552\n",
      "Non-trainable params: 0\n",
      "_________________________________________________________________\n"
     ]
    }
   ],
   "source": [
    "model = models.Sequential()\n",
    "model.add(layers.Dense(128, activation='relu', kernel_regularizer='l1_l2', input_shape=(input_length,)))\n",
    "model.add(layers.Dropout(0.2))\n",
    "model.add(layers.Dense(256, activation='relu', kernel_regularizer='l1_l2'))\n",
    "model.add(layers.Dropout(0.2))\n",
    "model.add(layers.Dense(512, activation='relu', kernel_regularizer='l1_l2'))\n",
    "model.add(layers.Dropout(0.2))\n",
    "model.add(layers.Dense(1024, activation='relu', kernel_regularizer='l1_l2'))\n",
    "model.add(layers.Dropout(0.3))\n",
    "model.add(layers.Dense(1024, activation='relu', kernel_regularizer='l1_l2'))\n",
    "model.add(layers.Dropout(0.3))\n",
    "model.add(layers.Dense(512, activation='relu', kernel_regularizer='l1_l2'))\n",
    "model.add(layers.Dropout(0.3))\n",
    "model.add(layers.Dense(lang_count, activation='softmax'))\n",
    "\n",
    "model.summary()"
   ]
  },
  {
   "cell_type": "code",
   "execution_count": 62,
   "metadata": {},
   "outputs": [],
   "source": [
    "optimizer = tf.keras.optimizers.Adam(learning_rate=1e-3)\n",
    "loss = tf.keras.losses.CategoricalCrossentropy()\n",
    "\n",
    "model.compile(loss=loss, optimizer=optimizer, metrics=['accuracy'])"
   ]
  },
  {
   "cell_type": "code",
   "execution_count": 63,
   "metadata": {},
   "outputs": [
    {
     "name": "stdout",
     "output_type": "stream",
     "text": [
      "Epoch 1/30\n",
      "6865/6865 [==============================] - 57s 8ms/step - loss: 146.2057 - accuracy: 0.2082 - val_loss: 3.6351 - val_accuracy: 0.2738\n",
      "Epoch 2/30\n",
      "6865/6865 [==============================] - 55s 8ms/step - loss: 3.0536 - accuracy: 0.2694 - val_loss: 2.8943 - val_accuracy: 0.2782\n",
      "Epoch 3/30\n",
      "6865/6865 [==============================] - 55s 8ms/step - loss: 2.9393 - accuracy: 0.2734 - val_loss: 2.8808 - val_accuracy: 0.2842\n",
      "Epoch 4/30\n",
      "6865/6865 [==============================] - 53s 8ms/step - loss: 2.9260 - accuracy: 0.2754 - val_loss: 2.8748 - val_accuracy: 0.2862\n",
      "Epoch 5/30\n",
      "6865/6865 [==============================] - 54s 8ms/step - loss: 2.9177 - accuracy: 0.2767 - val_loss: 2.8715 - val_accuracy: 0.2868\n",
      "Epoch 6/30\n",
      "6865/6865 [==============================] - 54s 8ms/step - loss: 2.9103 - accuracy: 0.2775 - val_loss: 2.8605 - val_accuracy: 0.2880\n",
      "Epoch 7/30\n",
      "6865/6865 [==============================] - 55s 8ms/step - loss: 2.9039 - accuracy: 0.2784 - val_loss: 2.8632 - val_accuracy: 0.2881\n",
      "Epoch 8/30\n",
      "6865/6865 [==============================] - 55s 8ms/step - loss: 2.8975 - accuracy: 0.2792 - val_loss: 2.8542 - val_accuracy: 0.2891\n",
      "Epoch 9/30\n",
      "6865/6865 [==============================] - 56s 8ms/step - loss: 2.8925 - accuracy: 0.2799 - val_loss: 2.8494 - val_accuracy: 0.2891\n",
      "Epoch 10/30\n",
      "6865/6865 [==============================] - 56s 8ms/step - loss: 2.8888 - accuracy: 0.2804 - val_loss: 2.8475 - val_accuracy: 0.2897\n",
      "Epoch 11/30\n",
      "6865/6865 [==============================] - 56s 8ms/step - loss: 2.8856 - accuracy: 0.2808 - val_loss: 2.8459 - val_accuracy: 0.2894\n",
      "Epoch 12/30\n",
      "6865/6865 [==============================] - 55s 8ms/step - loss: 2.8827 - accuracy: 0.2811 - val_loss: 2.8426 - val_accuracy: 0.2903\n",
      "Epoch 13/30\n",
      "6865/6865 [==============================] - 54s 8ms/step - loss: 2.8800 - accuracy: 0.2814 - val_loss: 2.8396 - val_accuracy: 0.2904\n",
      "Epoch 14/30\n",
      "6865/6865 [==============================] - 54s 8ms/step - loss: 2.8774 - accuracy: 0.2817 - val_loss: 2.8401 - val_accuracy: 0.2915\n",
      "Epoch 15/30\n",
      "6865/6865 [==============================] - 54s 8ms/step - loss: 2.8760 - accuracy: 0.2819 - val_loss: 2.8365 - val_accuracy: 0.2904\n",
      "Epoch 16/30\n",
      "6865/6865 [==============================] - 55s 8ms/step - loss: 2.8737 - accuracy: 0.2820 - val_loss: 2.8328 - val_accuracy: 0.2915\n",
      "Epoch 17/30\n",
      "6865/6865 [==============================] - 55s 8ms/step - loss: 2.8713 - accuracy: 0.2824 - val_loss: 2.8306 - val_accuracy: 0.2914\n",
      "Epoch 18/30\n",
      "6865/6865 [==============================] - 55s 8ms/step - loss: 2.8701 - accuracy: 0.2824 - val_loss: 2.8283 - val_accuracy: 0.2920\n",
      "Epoch 19/30\n",
      "6865/6865 [==============================] - 55s 8ms/step - loss: 2.8675 - accuracy: 0.2828 - val_loss: 2.8262 - val_accuracy: 0.2915\n",
      "Epoch 20/30\n",
      "6865/6865 [==============================] - 55s 8ms/step - loss: 2.8654 - accuracy: 0.2831 - val_loss: 2.8260 - val_accuracy: 0.2925\n",
      "Epoch 21/30\n",
      "6865/6865 [==============================] - 56s 8ms/step - loss: 2.8637 - accuracy: 0.2834 - val_loss: 2.8266 - val_accuracy: 0.2936\n",
      "Epoch 22/30\n",
      "6865/6865 [==============================] - 55s 8ms/step - loss: 2.8623 - accuracy: 0.2836 - val_loss: 2.8233 - val_accuracy: 0.2943\n",
      "Epoch 23/30\n",
      "6865/6865 [==============================] - 57s 8ms/step - loss: 2.8611 - accuracy: 0.2839 - val_loss: 2.8199 - val_accuracy: 0.2937\n",
      "Epoch 24/30\n",
      "6865/6865 [==============================] - 56s 8ms/step - loss: 2.8594 - accuracy: 0.2842 - val_loss: 2.8215 - val_accuracy: 0.2946\n",
      "Epoch 25/30\n",
      "6865/6865 [==============================] - 56s 8ms/step - loss: 2.8576 - accuracy: 0.2845 - val_loss: 2.8207 - val_accuracy: 0.2943\n",
      "Epoch 26/30\n",
      "6865/6865 [==============================] - 57s 8ms/step - loss: 2.8565 - accuracy: 0.2846 - val_loss: 2.8200 - val_accuracy: 0.2944\n",
      "Epoch 27/30\n",
      "6865/6865 [==============================] - 56s 8ms/step - loss: 2.8555 - accuracy: 0.2848 - val_loss: 2.8177 - val_accuracy: 0.2950\n",
      "Epoch 28/30\n",
      "6865/6865 [==============================] - 55s 8ms/step - loss: 2.8542 - accuracy: 0.2850 - val_loss: 2.8141 - val_accuracy: 0.2952\n",
      "Epoch 29/30\n",
      "6865/6865 [==============================] - 53s 8ms/step - loss: 2.8529 - accuracy: 0.2851 - val_loss: 2.8187 - val_accuracy: 0.2957\n",
      "Epoch 30/30\n",
      "6865/6865 [==============================] - 58s 8ms/step - loss: 2.8524 - accuracy: 0.2853 - val_loss: 2.8126 - val_accuracy: 0.2954\n"
     ]
    }
   ],
   "source": [
    "batch_size = 1024\n",
    "epochs = 30\n",
    "\n",
    "hist = model.fit(x_train, y_train, batch_size=batch_size, epochs=epochs, validation_data=(x_test, y_test))"
   ]
  },
  {
   "cell_type": "code",
   "execution_count": 64,
   "metadata": {},
   "outputs": [
    {
     "data": {
      "image/png": "[encoded data removed]",
      "text/plain": [
       "<Figure size 640x480 with 1 Axes>"
      ]
     },
     "metadata": {},
     "output_type": "display_data"
    }
   ],
   "source": [
    "plt.plot(hist.history['accuracy'])\n",
    "plt.plot(hist.history['val_accuracy'])\n",
    "plt.title('model accuracy')\n",
    "plt.ylabel('accuracy')\n",
    "plt.xlabel('epoch')\n",
    "plt.legend(['train', 'val'], loc='upper left')\n",
    "plt.grid()\n",
    "plt.show()"
   ]
  },
  {
   "cell_type": "code",
   "execution_count": 65,
   "metadata": {},
   "outputs": [
    {
     "data": {
      "image/png": "[encoded data removed]",
      "text/plain": [
       "<Figure size 640x480 with 1 Axes>"
      ]
     },
     "metadata": {},
     "output_type": "display_data"
    }
   ],
   "source": [
    "plt.plot(hist.history['loss'])\n",
    "plt.plot(hist.history['val_loss'])\n",
    "plt.title('model loss')\n",
    "plt.ylabel('loss')\n",
    "plt.xlabel('epoch')\n",
    "plt.legend(['train', 'val'], loc='upper left')\n",
    "plt.grid()\n",
    "plt.show()"
   ]
  },
  {
   "cell_type": "code",
   "execution_count": 66,
   "metadata": {},
   "outputs": [],
   "source": [
    "save_path = 'models/'\n",
    "model.save_weights(save_path + 'dense_network.h5')"
   ]
  },
  {
   "attachments": {},
   "cell_type": "markdown",
   "metadata": {},
   "source": [
    "### Conv1D net"
   ]
  },
  {
   "cell_type": "code",
   "execution_count": 14,
   "metadata": {},
   "outputs": [
    {
     "name": "stdout",
     "output_type": "stream",
     "text": [
      "Model: \"sequential\"\n",
      "_________________________________________________________________\n",
      " Layer (type)                Output Shape              Param #   \n",
      "=================================================================\n",
      " conv1d (Conv1D)             (None, 35, 32)            64        \n",
      "                                                                 \n",
      " dropout (Dropout)           (None, 35, 32)            0         \n",
      "                                                                 \n",
      " conv1d_1 (Conv1D)           (None, 35, 64)            2112      \n",
      "                                                                 \n",
      " dropout_1 (Dropout)         (None, 35, 64)            0         \n",
      "                                                                 \n",
      " conv1d_2 (Conv1D)           (None, 35, 64)            4160      \n",
      "                                                                 \n",
      " dropout_2 (Dropout)         (None, 35, 64)            0         \n",
      "                                                                 \n",
      " conv1d_3 (Conv1D)           (None, 35, 128)           8320      \n",
      "                                                                 \n",
      " dropout_3 (Dropout)         (None, 35, 128)           0         \n",
      "                                                                 \n",
      " conv1d_4 (Conv1D)           (None, 35, 128)           16512     \n",
      "                                                                 \n",
      " dropout_4 (Dropout)         (None, 35, 128)           0         \n",
      "                                                                 \n",
      " conv1d_5 (Conv1D)           (None, 35, 256)           33024     \n",
      "                                                                 \n",
      " dropout_5 (Dropout)         (None, 35, 256)           0         \n",
      "                                                                 \n",
      " conv1d_6 (Conv1D)           (None, 35, 256)           65792     \n",
      "                                                                 \n",
      " dropout_6 (Dropout)         (None, 35, 256)           0         \n",
      "                                                                 \n",
      " flatten (Flatten)           (None, 8960)              0         \n",
      "                                                                 \n",
      " dense (Dense)               (None, 1024)              9176064   \n",
      "                                                                 \n",
      " dropout_7 (Dropout)         (None, 1024)              0         \n",
      "                                                                 \n",
      " dense_1 (Dense)             (None, 48)                49200     \n",
      "                                                                 \n",
      "=================================================================\n",
      "Total params: 9,355,248\n",
      "Trainable params: 9,355,248\n",
      "Non-trainable params: 0\n",
      "_________________________________________________________________\n"
     ]
    }
   ],
   "source": [
    "model_conv = models.Sequential()\n",
    "model_conv.add(layers.Conv1D(32, 1, activation='relu', kernel_regularizer='l1_l2', input_shape=(input_length, 1)))\n",
    "model_conv.add(layers.Dropout(0.1))\n",
    "model_conv.add(layers.Conv1D(64, 1, activation='relu', kernel_regularizer='l1_l2'))\n",
    "model_conv.add(layers.Dropout(0.15))\n",
    "model_conv.add(layers.Conv1D(64, 1, activation='relu', kernel_regularizer='l1_l2'))\n",
    "model_conv.add(layers.Dropout(0.2))\n",
    "model_conv.add(layers.Conv1D(128, 1, activation='relu', kernel_regularizer='l1_l2'))\n",
    "model_conv.add(layers.Dropout(0.2))\n",
    "model_conv.add(layers.Conv1D(128, 1, activation='relu', kernel_regularizer='l1_l2'))\n",
    "model_conv.add(layers.Dropout(0.25))\n",
    "model_conv.add(layers.Conv1D(256, 1, activation='relu', kernel_regularizer='l1_l2'))\n",
    "model_conv.add(layers.Dropout(0.3))\n",
    "model_conv.add(layers.Conv1D(256, 1, activation='relu', kernel_regularizer='l1_l2'))\n",
    "model_conv.add(layers.Dropout(0.3))\n",
    "model_conv.add(layers.Flatten())\n",
    "model_conv.add(layers.Dense(1024, activation='relu', kernel_regularizer='l1_l2'))\n",
    "model_conv.add(layers.Dropout(0.3))\n",
    "model_conv.add(layers.Dense(lang_count, activation='softmax'))\n",
    "\n",
    "model_conv.summary()"
   ]
  },
  {
   "cell_type": "code",
   "execution_count": 15,
   "metadata": {},
   "outputs": [],
   "source": [
    "optimizer = tf.keras.optimizers.Adam(learning_rate=1e-3)\n",
    "loss = tf.keras.losses.CategoricalCrossentropy()\n",
    "\n",
    "model_conv.compile(loss=loss, optimizer=optimizer, metrics=['accuracy'])"
   ]
  },
  {
   "cell_type": "code",
   "execution_count": 16,
   "metadata": {},
   "outputs": [
    {
     "name": "stdout",
     "output_type": "stream",
     "text": [
      "x_shape: (10041509, 35, 1)\n",
      "y_shape: (10041509, 48)\n"
     ]
    }
   ],
   "source": [
    "x_conv = np.expand_dims(np.array(list(df_numpy[:, -2])[:-1]), axis=2)\n",
    "y_conv = np.array(list(df_numpy[:, -1])[:-1])\n",
    "\n",
    "print(f\"x_shape: {x_conv.shape}\")\n",
    "print(f\"y_shape: {y_conv.shape}\")"
   ]
  },
  {
   "cell_type": "code",
   "execution_count": 17,
   "metadata": {},
   "outputs": [],
   "source": [
    "x_train_conv, x_test_conv, y_train_conv, y_test_conv = train_test_split(x, y, test_size=0.3, shuffle=True)"
   ]
  },
  {
   "cell_type": "code",
   "execution_count": 18,
   "metadata": {},
   "outputs": [
    {
     "name": "stdout",
     "output_type": "stream",
     "text": [
      "Epoch 1/20\n",
      "6865/6865 [==============================] - 326s 46ms/step - loss: 19.3395 - accuracy: 0.3008 - val_loss: 12.5564 - val_accuracy: 0.3199\n",
      "Epoch 2/20\n",
      "6865/6865 [==============================] - 317s 46ms/step - loss: 12.7513 - accuracy: 0.3297 - val_loss: 12.7861 - val_accuracy: 0.3418\n",
      "Epoch 3/20\n",
      "6865/6865 [==============================] - 317s 46ms/step - loss: 12.8495 - accuracy: 0.3397 - val_loss: 12.7729 - val_accuracy: 0.3555\n",
      "Epoch 4/20\n",
      "6865/6865 [==============================] - 317s 46ms/step - loss: 12.9070 - accuracy: 0.3431 - val_loss: 12.8092 - val_accuracy: 0.3577\n",
      "Epoch 5/20\n",
      "6865/6865 [==============================] - 317s 46ms/step - loss: 12.9301 - accuracy: 0.3444 - val_loss: 12.8471 - val_accuracy: 0.3559\n",
      "Epoch 6/20\n",
      "6865/6865 [==============================] - 317s 46ms/step - loss: 12.9431 - accuracy: 0.3459 - val_loss: 12.8613 - val_accuracy: 0.3588\n",
      "Epoch 7/20\n",
      "6865/6865 [==============================] - 317s 46ms/step - loss: 12.9562 - accuracy: 0.3471 - val_loss: 12.8284 - val_accuracy: 0.3611\n",
      "Epoch 8/20\n",
      "6865/6865 [==============================] - 314s 46ms/step - loss: 12.9683 - accuracy: 0.3476 - val_loss: 12.8607 - val_accuracy: 0.3621\n",
      "Epoch 9/20\n",
      "6865/6865 [==============================] - 312s 45ms/step - loss: 12.9790 - accuracy: 0.3483 - val_loss: 12.8706 - val_accuracy: 0.3610\n",
      "Epoch 10/20\n",
      "6865/6865 [==============================] - 315s 46ms/step - loss: 12.9869 - accuracy: 0.3483 - val_loss: 12.8905 - val_accuracy: 0.3604\n",
      "Epoch 11/20\n",
      "6865/6865 [==============================] - 315s 46ms/step - loss: 12.9970 - accuracy: 0.3490 - val_loss: 12.8877 - val_accuracy: 0.3682\n",
      "Epoch 12/20\n",
      "6865/6865 [==============================] - 315s 46ms/step - loss: 13.0021 - accuracy: 0.3492 - val_loss: 12.9102 - val_accuracy: 0.3599\n",
      "Epoch 13/20\n",
      "6865/6865 [==============================] - 315s 46ms/step - loss: 13.0075 - accuracy: 0.3492 - val_loss: 12.8903 - val_accuracy: 0.3660\n",
      "Epoch 14/20\n",
      "6865/6865 [==============================] - 315s 46ms/step - loss: 13.0146 - accuracy: 0.3493 - val_loss: 12.9135 - val_accuracy: 0.3637\n",
      "Epoch 15/20\n",
      "6865/6865 [==============================] - 315s 46ms/step - loss: 13.0163 - accuracy: 0.3494 - val_loss: 12.8931 - val_accuracy: 0.3667\n",
      "Epoch 16/20\n",
      "6865/6865 [==============================] - 315s 46ms/step - loss: 13.0187 - accuracy: 0.3494 - val_loss: 12.9221 - val_accuracy: 0.3614\n",
      "Epoch 17/20\n",
      "6865/6865 [==============================] - 308s 45ms/step - loss: 13.0213 - accuracy: 0.3497 - val_loss: 12.9272 - val_accuracy: 0.3640\n",
      "Epoch 18/20\n",
      "6865/6865 [==============================] - 310s 45ms/step - loss: 13.0506 - accuracy: 0.3527 - val_loss: 12.9840 - val_accuracy: 0.3682\n",
      "Epoch 19/20\n",
      "6865/6865 [==============================] - 329s 48ms/step - loss: 13.0895 - accuracy: 0.3576 - val_loss: 12.9688 - val_accuracy: 0.3660\n",
      "Epoch 20/20\n",
      "6865/6865 [==============================] - 332s 48ms/step - loss: 13.0886 - accuracy: 0.3577 - val_loss: 12.9885 - val_accuracy: 0.3643\n"
     ]
    }
   ],
   "source": [
    "batch_size_conv = 1024\n",
    "epochs_conv = 20\n",
    "\n",
    "hist_conv = model_conv.fit(x_train_conv, y_train_conv, batch_size=batch_size_conv, epochs=epochs_conv, validation_data=(x_test_conv, y_test_conv))"
   ]
  },
  {
   "cell_type": "code",
   "execution_count": 19,
   "metadata": {},
   "outputs": [
    {
     "data": {
      "image/png": "[encoded data removed]",
      "text/plain": [
       "<Figure size 640x480 with 1 Axes>"
      ]
     },
     "metadata": {},
     "output_type": "display_data"
    }
   ],
   "source": [
    "plt.plot(hist_conv.history['accuracy'])\n",
    "plt.plot(hist_conv.history['val_accuracy'])\n",
    "plt.title('model accuracy')\n",
    "plt.ylabel('accuracy')\n",
    "plt.xlabel('epoch')\n",
    "plt.legend(['train', 'val'], loc='upper left')\n",
    "plt.grid()\n",
    "plt.show()"
   ]
  },
  {
   "cell_type": "code",
   "execution_count": 20,
   "metadata": {},
   "outputs": [
    {
     "data": {
      "image/png": "[encoded data removed]",
      "text/plain": [
       "<Figure size 640x480 with 1 Axes>"
      ]
     },
     "metadata": {},
     "output_type": "display_data"
    }
   ],
   "source": [
    "plt.plot(hist_conv.history['loss'])\n",
    "plt.plot(hist_conv.history['val_loss'])\n",
    "plt.title('model loss')\n",
    "plt.ylabel('loss')\n",
    "plt.xlabel('epoch')\n",
    "plt.legend(['train', 'val'], loc='upper left')\n",
    "plt.grid()\n",
    "plt.show()"
   ]
  },
  {
   "cell_type": "code",
   "execution_count": 22,
   "metadata": {},
   "outputs": [],
   "source": [
    "save_path = 'models/'\n",
    "model_conv.save_weights(save_path + 'conv1d_network.h5')"
   ]
  },
  {
   "attachments": {},
   "cell_type": "markdown",
   "metadata": {},
   "source": [
    "### LSTM network"
   ]
  },
  {
   "cell_type": "code",
   "execution_count": 37,
   "metadata": {},
   "outputs": [
    {
     "name": "stdout",
     "output_type": "stream",
     "text": [
      "1000 1000\n"
     ]
    }
   ],
   "source": [
    "print(f\"x_shape: {x.shape}\")\n",
    "print(f\"y_shape: {y.shape}\")"
   ]
  },
  {
   "cell_type": "code",
   "execution_count": 38,
   "metadata": {},
   "outputs": [],
   "source": [
    "x_train_rec, x_test_rec, y_train_rec, y_test_rec = train_test_split(x, y, test_size=0.9, shuffle=True)"
   ]
  },
  {
   "cell_type": "code",
   "execution_count": 34,
   "metadata": {},
   "outputs": [
    {
     "name": "stdout",
     "output_type": "stream",
     "text": [
      "Model: \"sequential_9\"\n",
      "_________________________________________________________________\n",
      " Layer (type)                Output Shape              Param #   \n",
      "=================================================================\n",
      " bidirectional_18 (Bidirecti  (None, 1, 128)           48128     \n",
      " onal)                                                           \n",
      "                                                                 \n",
      " bidirectional_19 (Bidirecti  (None, 48)               29376     \n",
      " onal)                                                           \n",
      "                                                                 \n",
      " dense_11 (Dense)            (None, 24)                1176      \n",
      "                                                                 \n",
      "=================================================================\n",
      "Total params: 78,680\n",
      "Trainable params: 78,680\n",
      "Non-trainable params: 0\n",
      "_________________________________________________________________\n"
     ]
    }
   ],
   "source": [
    "model_rec = models.Sequential()\n",
    "\n",
    "model_rec.add(layers.Bidirectional(tf.compat.v1.keras.layers.CuDNNLSTM(128, return_sequences=True), input_shape=(input_length,)))\n",
    "model_rec.add(layers.Bidirectional(tf.compat.v1.keras.layers.CuDNNLSTM(64)))\n",
    "model_rec.add(layers.Dense(lang_count, activation='softmax'))\n",
    "\n",
    "model_rec.summary()"
   ]
  },
  {
   "cell_type": "code",
   "execution_count": 35,
   "metadata": {},
   "outputs": [],
   "source": [
    "optimizer = tf.keras.optimizers.Adam(learning_rate=1e-3)\n",
    "loss = tf.keras.losses.CategoricalCrossentropy()\n",
    "\n",
    "model_conv.compile(loss=loss, optimizer=optimizer, metrics=['accuracy'])"
   ]
  },
  {
   "cell_type": "code",
   "execution_count": 39,
   "metadata": {},
   "outputs": [
    {
     "name": "stdout",
     "output_type": "stream",
     "text": [
      "Epoch 1/30\n"
     ]
    },
    {
     "ename": "",
     "evalue": "",
     "output_type": "error",
     "traceback": [
      "\u001b[1;31mCanceled future for execute_request message before replies were done"
     ]
    },
    {
     "ename": "",
     "evalue": "",
     "output_type": "error",
     "traceback": [
      "\u001b[1;31mJądro Kernel uległo awarii podczas wykonywania kodu w bieżącej komórce lub w poprzedniej komórce. Przejrzyj kod w komórkach, aby zidentyfikować możliwą przyczynę awarii. Kliknij <a href='https://aka.ms/vscodeJupyterKernelCrash'>tutaj</a>, aby uzyskać więcej informacji. W celu uzyskania dalszych szczegółów, wyświetl <a href='command:jupyter.viewOutput'>log</a> Jupyter."
     ]
    }
   ],
   "source": [
    "batch_size = 64\n",
    "epochs = 30\n",
    "\n",
    "hist_rec = model_rec.fit(x_train_rec, y_train_rec, batch_size=batch_size, epochs=epochs, validation_data=(x_test_rec, y_test_rec))"
   ]
  },
  {
   "cell_type": "code",
   "execution_count": null,
   "metadata": {},
   "outputs": [],
   "source": [
    "plt.plot(hist_rec.history['accuracy'])\n",
    "plt.plot(hist_rec.history['val_accuracy'])\n",
    "plt.title('model accuracy')\n",
    "plt.ylabel('accuracy')\n",
    "plt.xlabel('epoch')\n",
    "plt.legend(['train', 'val'], loc='upper left')\n",
    "plt.grid()\n",
    "plt.show()"
   ]
  },
  {
   "cell_type": "code",
   "execution_count": null,
   "metadata": {},
   "outputs": [],
   "source": [
    "plt.plot(hist_rec.history['loss'])\n",
    "plt.plot(hist_rec.history['val_loss'])\n",
    "plt.title('model loss')\n",
    "plt.ylabel('loss')\n",
    "plt.xlabel('epoch')\n",
    "plt.legend(['train', 'val'], loc='upper left')\n",
    "plt.grid()\n",
    "plt.show()"
   ]
  },
  {
   "cell_type": "code",
   "execution_count": null,
   "metadata": {},
   "outputs": [],
   "source": [
    "model_rec.save_weights(save_path + 'lstm_network.h5')"
   ]
  }
 ],
 "metadata": {
  "kernelspec": {
   "display_name": "Python 3",
   "language": "python",
   "name": "python3"
  },
  "language_info": {
   "codemirror_mode": {
    "name": "ipython",
    "version": 3
   },
   "file_extension": ".py",
   "mimetype": "text/x-python",
   "name": "python",
   "nbconvert_exporter": "python",
   "pygments_lexer": "ipython3",
   "version": "3.10.8"
  },
  "orig_nbformat": 4,
  "vscode": {
   "interpreter": {
    "hash": "83fd4375a822156133a8f0ea701c86b5bfda9cc7c150a00174c57fbf773ec247"
   }
  }
 },
 "nbformat": 4,
 "nbformat_minor": 2
}
