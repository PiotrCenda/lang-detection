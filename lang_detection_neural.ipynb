{
 "cells": [
  {
   "cell_type": "markdown",
   "metadata": {},
   "source": [
    "# Language detection\n",
    "## Data loading and learning the net"
   ]
  },
  {
   "cell_type": "code",
   "execution_count": 1,
   "metadata": {},
   "outputs": [],
   "source": [
    "import json\n",
    "import random\n",
    "import numpy as np\n",
    "import pandas as pd\n",
    "import matplotlib.pyplot as plt\n",
    "import tensorflow\n",
    "from keras import models\n",
    "from keras import layers\n",
    "from sklearn.model_selection import train_test_split"
   ]
  },
  {
   "cell_type": "code",
   "execution_count": 2,
   "metadata": {},
   "outputs": [
    {
     "data": {
      "text/html": [
       "<div>\n",
       "<style scoped>\n",
       "    .dataframe tbody tr th:only-of-type {\n",
       "        vertical-align: middle;\n",
       "    }\n",
       "\n",
       "    .dataframe tbody tr th {\n",
       "        vertical-align: top;\n",
       "    }\n",
       "\n",
       "    .dataframe thead th {\n",
       "        text-align: right;\n",
       "    }\n",
       "</style>\n",
       "<table border=\"1\" class=\"dataframe\">\n",
       "  <thead>\n",
       "    <tr style=\"text-align: right;\">\n",
       "      <th></th>\n",
       "      <th>id</th>\n",
       "      <th>lan_code</th>\n",
       "      <th>sentence</th>\n",
       "      <th>unicode_length</th>\n",
       "    </tr>\n",
       "  </thead>\n",
       "  <tbody>\n",
       "    <tr>\n",
       "      <th>0</th>\n",
       "      <td>1</td>\n",
       "      <td>cmn</td>\n",
       "      <td>我們試試看！</td>\n",
       "      <td>6</td>\n",
       "    </tr>\n",
       "    <tr>\n",
       "      <th>1</th>\n",
       "      <td>2</td>\n",
       "      <td>cmn</td>\n",
       "      <td>我该去睡觉了。</td>\n",
       "      <td>7</td>\n",
       "    </tr>\n",
       "    <tr>\n",
       "      <th>2</th>\n",
       "      <td>3</td>\n",
       "      <td>cmn</td>\n",
       "      <td>你在干什麼啊？</td>\n",
       "      <td>7</td>\n",
       "    </tr>\n",
       "    <tr>\n",
       "      <th>3</th>\n",
       "      <td>4</td>\n",
       "      <td>cmn</td>\n",
       "      <td>這是什麼啊？</td>\n",
       "      <td>6</td>\n",
       "    </tr>\n",
       "    <tr>\n",
       "      <th>4</th>\n",
       "      <td>5</td>\n",
       "      <td>cmn</td>\n",
       "      <td>今天是６月１８号，也是Muiriel的生日！</td>\n",
       "      <td>22</td>\n",
       "    </tr>\n",
       "  </tbody>\n",
       "</table>\n",
       "</div>"
      ],
      "text/plain": [
       "   id lan_code                sentence  unicode_length\n",
       "0   1      cmn                  我們試試看！               6\n",
       "1   2      cmn                 我该去睡觉了。               7\n",
       "2   3      cmn                 你在干什麼啊？               7\n",
       "3   4      cmn                  這是什麼啊？               6\n",
       "4   5      cmn  今天是６月１８号，也是Muiriel的生日！              22"
      ]
     },
     "execution_count": 2,
     "metadata": {},
     "output_type": "execute_result"
    }
   ],
   "source": [
    "df = pd.read_csv(\"data/sentences_50k.csv\", delimiter=\",\", encoding='utf8', index_col=0)\n",
    "df.head()"
   ]
  },
  {
   "cell_type": "code",
   "execution_count": 3,
   "metadata": {},
   "outputs": [],
   "source": [
    "langs = list(df[\"lan_code\"].unique())"
   ]
  },
  {
   "cell_type": "code",
   "execution_count": 4,
   "metadata": {},
   "outputs": [
    {
     "name": "stdout",
     "output_type": "stream",
     "text": [
      "{'cmn': 0, 'deu': 1, 'rus': 2, 'fra': 3, 'eng': 4, 'jpn': 5, 'spa': 6, 'ita': 7, 'nld': 8, 'epo': 9, 'por': 10, 'tur': 11, 'heb': 12, 'hun': 13, 'fin': 14, 'ukr': 15, 'ces': 16, 'pol': 17, 'dan': 18, 'lit': 19, 'mkd': 20, 'kab': 21, 'ber': 22, 'mar': 23}\n",
      "{0: 'cmn', 1: 'deu', 2: 'rus', 3: 'fra', 4: 'eng', 5: 'jpn', 6: 'spa', 7: 'ita', 8: 'nld', 9: 'epo', 10: 'por', 11: 'tur', 12: 'heb', 13: 'hun', 14: 'fin', 15: 'ukr', 16: 'ces', 17: 'pol', 18: 'dan', 19: 'lit', 20: 'mkd', 21: 'kab', 22: 'ber', 23: 'mar'}\n"
     ]
    }
   ],
   "source": [
    "lang_to_num = {lan: i for i, lan in enumerate(langs)}\n",
    "print(lang_to_num)\n",
    "\n",
    "num_to_lang = {i: lan for lan, i in lang_to_num.items()}\n",
    "print(num_to_lang)"
   ]
  },
  {
   "cell_type": "code",
   "execution_count": 5,
   "metadata": {},
   "outputs": [],
   "source": [
    "df[\"lang_num\"] = df[\"lan_code\"].map(lang_to_num).astype(int)"
   ]
  },
  {
   "cell_type": "code",
   "execution_count": 9,
   "metadata": {},
   "outputs": [],
   "source": [
    "import numpy as np\n",
    "\n",
    "def sentence_to_unicode_list(sentence):\n",
    "    max_len = 29\n",
    "    unicode_list = [ord(i) for i in sentence]\n",
    "    if len(unicode_list) >= max_len:\n",
    "        unicode_list = unicode_list[:max_len]\n",
    "    else:\n",
    "        len_diff = max_len - len(unicode_list)\n",
    "        unicode_list.extend([0 for _ in range(len_diff)])\n",
    "    return np.array(unicode_list).astype(np.int32)\n",
    "\n",
    "df['unicode'] = df['sentence'].apply(sentence_to_unicode_list)\n"
   ]
  },
  {
   "cell_type": "code",
   "execution_count": 10,
   "metadata": {},
   "outputs": [],
   "source": [
    "def set_labels(lang):\n",
    "    labels = [0 for _ in range(lang_count)]\n",
    "    labels[lang] = 1\n",
    "    return np.array(labels)\n",
    "\n",
    "lang_count = len(df['lang_num'].unique())\n",
    "df['labels'] = df['lang_num'].apply(set_labels).astype(np.int32)"
   ]
  },
  {
   "cell_type": "code",
   "execution_count": 17,
   "metadata": {},
   "outputs": [
    {
     "data": {
      "text/html": [
       "<div>\n",
       "<style scoped>\n",
       "    .dataframe tbody tr th:only-of-type {\n",
       "        vertical-align: middle;\n",
       "    }\n",
       "\n",
       "    .dataframe tbody tr th {\n",
       "        vertical-align: top;\n",
       "    }\n",
       "\n",
       "    .dataframe thead th {\n",
       "        text-align: right;\n",
       "    }\n",
       "</style>\n",
       "<table border=\"1\" class=\"dataframe\">\n",
       "  <thead>\n",
       "    <tr style=\"text-align: right;\">\n",
       "      <th></th>\n",
       "      <th>id</th>\n",
       "      <th>lan_code</th>\n",
       "      <th>sentence</th>\n",
       "      <th>unicode_length</th>\n",
       "      <th>lang_num</th>\n",
       "      <th>unicode</th>\n",
       "      <th>labels</th>\n",
       "    </tr>\n",
       "  </thead>\n",
       "  <tbody>\n",
       "    <tr>\n",
       "      <th>6002273</th>\n",
       "      <td>6380486</td>\n",
       "      <td>epo</td>\n",
       "      <td>Mi forveturos al Parizo je la deka horo.</td>\n",
       "      <td>40</td>\n",
       "      <td>9</td>\n",
       "      <td>[77, 105, 32, 102, 111, 114, 118, 101, 116, 11...</td>\n",
       "      <td>[0, 0, 0, 0, 0, 0, 0, 0, 0, 1, 0, 0, 0, 0, 0, ...</td>\n",
       "    </tr>\n",
       "    <tr>\n",
       "      <th>3360768</th>\n",
       "      <td>3579131</td>\n",
       "      <td>ita</td>\n",
       "      <td>Tu sei sgarbata.</td>\n",
       "      <td>16</td>\n",
       "      <td>7</td>\n",
       "      <td>[84, 117, 32, 115, 101, 105, 32, 115, 103, 97,...</td>\n",
       "      <td>[0, 0, 0, 0, 0, 0, 0, 1, 0, 0, 0, 0, 0, 0, 0, ...</td>\n",
       "    </tr>\n",
       "    <tr>\n",
       "      <th>8915621</th>\n",
       "      <td>9353644</td>\n",
       "      <td>kab</td>\n",
       "      <td>Ad teddum ɣer Tinzawatin.</td>\n",
       "      <td>25</td>\n",
       "      <td>21</td>\n",
       "      <td>[65, 100, 32, 116, 101, 100, 100, 117, 109, 32...</td>\n",
       "      <td>[0, 0, 0, 0, 0, 0, 0, 0, 0, 0, 0, 0, 0, 0, 0, ...</td>\n",
       "    </tr>\n",
       "    <tr>\n",
       "      <th>4871815</th>\n",
       "      <td>5198643</td>\n",
       "      <td>tur</td>\n",
       "      <td>O onunla yakındır.</td>\n",
       "      <td>18</td>\n",
       "      <td>11</td>\n",
       "      <td>[79, 32, 111, 110, 117, 110, 108, 97, 32, 121,...</td>\n",
       "      <td>[0, 0, 0, 0, 0, 0, 0, 0, 0, 0, 0, 1, 0, 0, 0, ...</td>\n",
       "    </tr>\n",
       "    <tr>\n",
       "      <th>7710196</th>\n",
       "      <td>8121176</td>\n",
       "      <td>tur</td>\n",
       "      <td>Sohbet ettik.</td>\n",
       "      <td>13</td>\n",
       "      <td>11</td>\n",
       "      <td>[83, 111, 104, 98, 101, 116, 32, 101, 116, 116...</td>\n",
       "      <td>[0, 0, 0, 0, 0, 0, 0, 0, 0, 0, 0, 1, 0, 0, 0, ...</td>\n",
       "    </tr>\n",
       "    <tr>\n",
       "      <th>3012273</th>\n",
       "      <td>3198500</td>\n",
       "      <td>rus</td>\n",
       "      <td>Какой они выберут?</td>\n",
       "      <td>18</td>\n",
       "      <td>2</td>\n",
       "      <td>[1050, 1072, 1082, 1086, 1081, 32, 1086, 1085,...</td>\n",
       "      <td>[0, 0, 1, 0, 0, 0, 0, 0, 0, 0, 0, 0, 0, 0, 0, ...</td>\n",
       "    </tr>\n",
       "    <tr>\n",
       "      <th>4216257</th>\n",
       "      <td>4489940</td>\n",
       "      <td>deu</td>\n",
       "      <td>Ich werde sie morgen anrufen.</td>\n",
       "      <td>29</td>\n",
       "      <td>1</td>\n",
       "      <td>[73, 99, 104, 32, 119, 101, 114, 100, 101, 32,...</td>\n",
       "      <td>[0, 1, 0, 0, 0, 0, 0, 0, 0, 0, 0, 0, 0, 0, 0, ...</td>\n",
       "    </tr>\n",
       "    <tr>\n",
       "      <th>1823583</th>\n",
       "      <td>1929170</td>\n",
       "      <td>tur</td>\n",
       "      <td>Raporla ilgili yorumlarınızı sabırsızlıkla bek...</td>\n",
       "      <td>54</td>\n",
       "      <td>11</td>\n",
       "      <td>[82, 97, 112, 111, 114, 108, 97, 32, 105, 108,...</td>\n",
       "      <td>[0, 0, 0, 0, 0, 0, 0, 0, 0, 0, 0, 1, 0, 0, 0, ...</td>\n",
       "    </tr>\n",
       "    <tr>\n",
       "      <th>1411650</th>\n",
       "      <td>1493637</td>\n",
       "      <td>tur</td>\n",
       "      <td>Ben burada kalmaya karar verdim.</td>\n",
       "      <td>32</td>\n",
       "      <td>11</td>\n",
       "      <td>[66, 101, 110, 32, 98, 117, 114, 97, 100, 97, ...</td>\n",
       "      <td>[0, 0, 0, 0, 0, 0, 0, 0, 0, 0, 0, 1, 0, 0, 0, ...</td>\n",
       "    </tr>\n",
       "    <tr>\n",
       "      <th>2667243</th>\n",
       "      <td>2827497</td>\n",
       "      <td>ita</td>\n",
       "      <td>Ripetetemelo.</td>\n",
       "      <td>13</td>\n",
       "      <td>7</td>\n",
       "      <td>[82, 105, 112, 101, 116, 101, 116, 101, 109, 1...</td>\n",
       "      <td>[0, 0, 0, 0, 0, 0, 0, 1, 0, 0, 0, 0, 0, 0, 0, ...</td>\n",
       "    </tr>\n",
       "  </tbody>\n",
       "</table>\n",
       "</div>"
      ],
      "text/plain": [
       "              id lan_code                                           sentence  \\\n",
       "6002273  6380486      epo           Mi forveturos al Parizo je la deka horo.   \n",
       "3360768  3579131      ita                                   Tu sei sgarbata.   \n",
       "8915621  9353644      kab                          Ad teddum ɣer Tinzawatin.   \n",
       "4871815  5198643      tur                                 O onunla yakındır.   \n",
       "7710196  8121176      tur                                      Sohbet ettik.   \n",
       "3012273  3198500      rus                                 Какой они выберут?   \n",
       "4216257  4489940      deu                      Ich werde sie morgen anrufen.   \n",
       "1823583  1929170      tur  Raporla ilgili yorumlarınızı sabırsızlıkla bek...   \n",
       "1411650  1493637      tur                   Ben burada kalmaya karar verdim.   \n",
       "2667243  2827497      ita                                      Ripetetemelo.   \n",
       "\n",
       "         unicode_length  lang_num  \\\n",
       "6002273              40         9   \n",
       "3360768              16         7   \n",
       "8915621              25        21   \n",
       "4871815              18        11   \n",
       "7710196              13        11   \n",
       "3012273              18         2   \n",
       "4216257              29         1   \n",
       "1823583              54        11   \n",
       "1411650              32        11   \n",
       "2667243              13         7   \n",
       "\n",
       "                                                   unicode  \\\n",
       "6002273  [77, 105, 32, 102, 111, 114, 118, 101, 116, 11...   \n",
       "3360768  [84, 117, 32, 115, 101, 105, 32, 115, 103, 97,...   \n",
       "8915621  [65, 100, 32, 116, 101, 100, 100, 117, 109, 32...   \n",
       "4871815  [79, 32, 111, 110, 117, 110, 108, 97, 32, 121,...   \n",
       "7710196  [83, 111, 104, 98, 101, 116, 32, 101, 116, 116...   \n",
       "3012273  [1050, 1072, 1082, 1086, 1081, 32, 1086, 1085,...   \n",
       "4216257  [73, 99, 104, 32, 119, 101, 114, 100, 101, 32,...   \n",
       "1823583  [82, 97, 112, 111, 114, 108, 97, 32, 105, 108,...   \n",
       "1411650  [66, 101, 110, 32, 98, 117, 114, 97, 100, 97, ...   \n",
       "2667243  [82, 105, 112, 101, 116, 101, 116, 101, 109, 1...   \n",
       "\n",
       "                                                    labels  \n",
       "6002273  [0, 0, 0, 0, 0, 0, 0, 0, 0, 1, 0, 0, 0, 0, 0, ...  \n",
       "3360768  [0, 0, 0, 0, 0, 0, 0, 1, 0, 0, 0, 0, 0, 0, 0, ...  \n",
       "8915621  [0, 0, 0, 0, 0, 0, 0, 0, 0, 0, 0, 0, 0, 0, 0, ...  \n",
       "4871815  [0, 0, 0, 0, 0, 0, 0, 0, 0, 0, 0, 1, 0, 0, 0, ...  \n",
       "7710196  [0, 0, 0, 0, 0, 0, 0, 0, 0, 0, 0, 1, 0, 0, 0, ...  \n",
       "3012273  [0, 0, 1, 0, 0, 0, 0, 0, 0, 0, 0, 0, 0, 0, 0, ...  \n",
       "4216257  [0, 1, 0, 0, 0, 0, 0, 0, 0, 0, 0, 0, 0, 0, 0, ...  \n",
       "1823583  [0, 0, 0, 0, 0, 0, 0, 0, 0, 0, 0, 1, 0, 0, 0, ...  \n",
       "1411650  [0, 0, 0, 0, 0, 0, 0, 0, 0, 0, 0, 1, 0, 0, 0, ...  \n",
       "2667243  [0, 0, 0, 0, 0, 0, 0, 1, 0, 0, 0, 0, 0, 0, 0, ...  "
      ]
     },
     "execution_count": 17,
     "metadata": {},
     "output_type": "execute_result"
    }
   ],
   "source": [
    "df.dropna()\n",
    "df.sample(n=(10))\n"
   ]
  },
  {
   "cell_type": "code",
   "execution_count": 22,
   "metadata": {},
   "outputs": [
    {
     "name": "stderr",
     "output_type": "stream",
     "text": [
      "C:\\Users\\Adam\\AppData\\Local\\Temp\\ipykernel_7656\\3898220753.py:3: DeprecationWarning: `np.int` is a deprecated alias for the builtin `int`. To silence this warning, use `int` by itself. Doing this will not modify any behavior and is safe. When replacing `np.int`, you may wish to use e.g. `np.int64` or `np.int32` to specify the precision. If you wish to review your current use, check the release note link for additional information.\n",
      "Deprecated in NumPy 1.20; for more details and guidance: https://numpy.org/devdocs/release/1.20.0-notes.html#deprecations\n",
      "  x_train=np.asarray(x_train).astype(np.int)\n"
     ]
    }
   ],
   "source": [
    "x_train, x_test, y_train, y_test = train_test_split(df[\"unicode\"], df[\"lang_num\"], test_size=0.2, shuffle=True)\n",
    "\n",
    "x_train=np.asarray(x_train).astype(np.int)\n",
    "y_train=np.asarray(y_train).astype(np.int)\n",
    "x_test=np.asarray(x_test).astype(np.int)\n",
    "y_test=np.asarray(y_test).astype(np.int)"
   ]
  },
  {
   "cell_type": "code",
   "execution_count": 19,
   "metadata": {},
   "outputs": [
    {
     "name": "stdout",
     "output_type": "stream",
     "text": [
      "24\n",
      "Model: \"sequential_1\"\n",
      "_________________________________________________________________\n",
      " Layer (type)                Output Shape              Param #   \n",
      "=================================================================\n",
      " dense_5 (Dense)             (1, 32)                   960       \n",
      "                                                                 \n",
      " dropout_4 (Dropout)         (1, 32)                   0         \n",
      "                                                                 \n",
      " dense_6 (Dense)             (1, 64)                   2112      \n",
      "                                                                 \n",
      " dropout_5 (Dropout)         (1, 64)                   0         \n",
      "                                                                 \n",
      " dense_7 (Dense)             (1, 64)                   4160      \n",
      "                                                                 \n",
      " dropout_6 (Dropout)         (1, 64)                   0         \n",
      "                                                                 \n",
      " dense_8 (Dense)             (1, 64)                   4160      \n",
      "                                                                 \n",
      " dropout_7 (Dropout)         (1, 64)                   0         \n",
      "                                                                 \n",
      " dense_9 (Dense)             (1, 24)                   1560      \n",
      "                                                                 \n",
      "=================================================================\n",
      "Total params: 12,952\n",
      "Trainable params: 12,952\n",
      "Non-trainable params: 0\n",
      "_________________________________________________________________\n"
     ]
    }
   ],
   "source": [
    "\n",
    "lang_count = len(df['lang_num'].unique())\n",
    "print(lang_count)\n",
    "\n",
    "model = models.Sequential()\n",
    "model.add(layers.Dense(32, activation='relu'))\n",
    "model.add(layers.Dropout(0.3))\n",
    "model.add(layers.Dense(64, activation='relu'))\n",
    "model.add(layers.Dropout(0.3))\n",
    "model.add(layers.Dense(64, activation='relu'))\n",
    "model.add(layers.Dropout(0.3))\n",
    "model.add(layers.Dense(64, activation='relu'))\n",
    "model.add(layers.Dropout(0.3))\n",
    "model.add(layers.Dense(lang_count, activation='softmax'))\n",
    "model.build(input_shape=(1, 29))\n",
    "model.summary()"
   ]
  },
  {
   "cell_type": "code",
   "execution_count": 20,
   "metadata": {},
   "outputs": [],
   "source": [
    "model.compile(loss='sparse_categorical_crossentropy', optimizer='adam', metrics=['accuracy'])"
   ]
  },
  {
   "cell_type": "code",
   "execution_count": 21,
   "metadata": {},
   "outputs": [
    {
     "ename": "ValueError",
     "evalue": "Failed to convert a NumPy array to a Tensor (Unsupported object type numpy.ndarray).",
     "output_type": "error",
     "traceback": [
      "\u001b[1;31m---------------------------------------------------------------------------\u001b[0m",
      "\u001b[1;31mValueError\u001b[0m                                Traceback (most recent call last)",
      "\u001b[1;32mc:\\Users\\Adam\\Documents\\Studies Python Projects\\lang-detection\\lang_detection.ipynb Komórka 13\u001b[0m in \u001b[0;36m<cell line: 5>\u001b[1;34m()\u001b[0m\n\u001b[0;32m      <a href='vscode-notebook-cell:/c%3A/Users/Adam/Documents/Studies%20Python%20Projects/lang-detection/lang_detection.ipynb#X15sZmlsZQ%3D%3D?line=0'>1</a>\u001b[0m batch_size \u001b[39m=\u001b[39m \u001b[39m64\u001b[39m\n\u001b[0;32m      <a href='vscode-notebook-cell:/c%3A/Users/Adam/Documents/Studies%20Python%20Projects/lang-detection/lang_detection.ipynb#X15sZmlsZQ%3D%3D?line=1'>2</a>\u001b[0m epochs \u001b[39m=\u001b[39m \u001b[39m30\u001b[39m\n\u001b[1;32m----> <a href='vscode-notebook-cell:/c%3A/Users/Adam/Documents/Studies%20Python%20Projects/lang-detection/lang_detection.ipynb#X15sZmlsZQ%3D%3D?line=4'>5</a>\u001b[0m hist \u001b[39m=\u001b[39m model\u001b[39m.\u001b[39;49mfit(x_train, y_train, batch_size\u001b[39m=\u001b[39;49mbatch_size, epochs\u001b[39m=\u001b[39;49mepochs, validation_data\u001b[39m=\u001b[39;49m(x_test, y_test))\n",
      "File \u001b[1;32mc:\\Users\\Adam\\AppData\\Local\\Programs\\Python\\Python39\\lib\\site-packages\\keras\\utils\\traceback_utils.py:67\u001b[0m, in \u001b[0;36mfilter_traceback.<locals>.error_handler\u001b[1;34m(*args, **kwargs)\u001b[0m\n\u001b[0;32m     65\u001b[0m \u001b[39mexcept\u001b[39;00m \u001b[39mException\u001b[39;00m \u001b[39mas\u001b[39;00m e:  \u001b[39m# pylint: disable=broad-except\u001b[39;00m\n\u001b[0;32m     66\u001b[0m   filtered_tb \u001b[39m=\u001b[39m _process_traceback_frames(e\u001b[39m.\u001b[39m__traceback__)\n\u001b[1;32m---> 67\u001b[0m   \u001b[39mraise\u001b[39;00m e\u001b[39m.\u001b[39mwith_traceback(filtered_tb) \u001b[39mfrom\u001b[39;00m \u001b[39mNone\u001b[39m\n\u001b[0;32m     68\u001b[0m \u001b[39mfinally\u001b[39;00m:\n\u001b[0;32m     69\u001b[0m   \u001b[39mdel\u001b[39;00m filtered_tb\n",
      "File \u001b[1;32mc:\\Users\\Adam\\AppData\\Local\\Programs\\Python\\Python39\\lib\\site-packages\\tensorflow\\python\\framework\\constant_op.py:102\u001b[0m, in \u001b[0;36mconvert_to_eager_tensor\u001b[1;34m(value, ctx, dtype)\u001b[0m\n\u001b[0;32m    100\u001b[0m     dtype \u001b[39m=\u001b[39m dtypes\u001b[39m.\u001b[39mas_dtype(dtype)\u001b[39m.\u001b[39mas_datatype_enum\n\u001b[0;32m    101\u001b[0m ctx\u001b[39m.\u001b[39mensure_initialized()\n\u001b[1;32m--> 102\u001b[0m \u001b[39mreturn\u001b[39;00m ops\u001b[39m.\u001b[39;49mEagerTensor(value, ctx\u001b[39m.\u001b[39;49mdevice_name, dtype)\n",
      "\u001b[1;31mValueError\u001b[0m: Failed to convert a NumPy array to a Tensor (Unsupported object type numpy.ndarray)."
     ]
    }
   ],
   "source": [
    "batch_size = 64\n",
    "epochs = 30\n",
    "\n",
    "\n",
    "hist = model.fit(x_train, y_train, batch_size=batch_size, epochs=epochs, validation_data=(x_test, y_test))"
   ]
  },
  {
   "cell_type": "code",
   "execution_count": 37,
   "metadata": {},
   "outputs": [],
   "source": [
    "sentences = df['sentence'].values"
   ]
  },
  {
   "cell_type": "code",
   "execution_count": 38,
   "metadata": {},
   "outputs": [
    {
     "data": {
      "text/plain": [
       "array(['我們試試看！', '我该去睡觉了。', '你在干什麼啊？', ..., 'Los botaron.',\n",
       "       'Los hicieron correr.', 'Los corrieron.'], dtype=object)"
      ]
     },
     "execution_count": 38,
     "metadata": {},
     "output_type": "execute_result"
    }
   ],
   "source": [
    "sentences"
   ]
  },
  {
   "cell_type": "code",
   "execution_count": 39,
   "metadata": {},
   "outputs": [],
   "source": [
    "sentences_lang_num = df[\"lang_num\"].values.T[0]"
   ]
  },
  {
   "cell_type": "code",
   "execution_count": 40,
   "metadata": {},
   "outputs": [
    {
     "data": {
      "text/plain": [
       "()"
      ]
     },
     "execution_count": 40,
     "metadata": {},
     "output_type": "execute_result"
    }
   ],
   "source": [
    "sentences_lang_num.shape"
   ]
  },
  {
   "cell_type": "code",
   "execution_count": 41,
   "metadata": {},
   "outputs": [],
   "source": [
    "del df"
   ]
  }
 ],
 "metadata": {
  "kernelspec": {
   "display_name": "Python 3.10.6 64-bit",
   "language": "python",
   "name": "python3"
  },
  "language_info": {
   "codemirror_mode": {
    "name": "ipython",
    "version": 3
   },
   "file_extension": ".py",
   "mimetype": "text/x-python",
   "name": "python",
   "nbconvert_exporter": "python",
   "pygments_lexer": "ipython3",
   "version": "3.10.6"
  },
  "orig_nbformat": 4,
  "vscode": {
   "interpreter": {
    "hash": "e7370f93d1d0cde622a1f8e1c04877d8463912d04d973331ad4851f04de6915a"
   }
  }
 },
 "nbformat": 4,
 "nbformat_minor": 2
}
