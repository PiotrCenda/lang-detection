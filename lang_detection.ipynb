{
 "cells": [
  {
   "cell_type": "markdown",
   "metadata": {},
   "source": [
    "# Language detection\n",
    "## Data loading and learning the net"
   ]
  },
  {
   "cell_type": "code",
   "execution_count": 2,
   "metadata": {},
   "outputs": [],
   "source": [
    "import json\n",
    "import random\n",
    "import numpy as np\n",
    "import pandas as pd\n",
    "import matplotlib.pyplot as plt\n",
    "import tensorflow\n",
    "from keras import models\n",
    "from keras import layers\n",
    "from sklearn.model_selection import train_test_split"
   ]
  },
  {
   "cell_type": "code",
   "execution_count": 3,
   "metadata": {},
   "outputs": [
    {
     "data": {
      "text/html": [
       "<div>\n",
       "<style scoped>\n",
       "    .dataframe tbody tr th:only-of-type {\n",
       "        vertical-align: middle;\n",
       "    }\n",
       "\n",
       "    .dataframe tbody tr th {\n",
       "        vertical-align: top;\n",
       "    }\n",
       "\n",
       "    .dataframe thead th {\n",
       "        text-align: right;\n",
       "    }\n",
       "</style>\n",
       "<table border=\"1\" class=\"dataframe\">\n",
       "  <thead>\n",
       "    <tr style=\"text-align: right;\">\n",
       "      <th></th>\n",
       "      <th>id</th>\n",
       "      <th>lan_code</th>\n",
       "      <th>sentence</th>\n",
       "      <th>unicode_length</th>\n",
       "    </tr>\n",
       "  </thead>\n",
       "  <tbody>\n",
       "    <tr>\n",
       "      <th>0</th>\n",
       "      <td>1</td>\n",
       "      <td>cmn</td>\n",
       "      <td>我們試試看！</td>\n",
       "      <td>6</td>\n",
       "    </tr>\n",
       "    <tr>\n",
       "      <th>1</th>\n",
       "      <td>2</td>\n",
       "      <td>cmn</td>\n",
       "      <td>我该去睡觉了。</td>\n",
       "      <td>7</td>\n",
       "    </tr>\n",
       "    <tr>\n",
       "      <th>2</th>\n",
       "      <td>3</td>\n",
       "      <td>cmn</td>\n",
       "      <td>你在干什麼啊？</td>\n",
       "      <td>7</td>\n",
       "    </tr>\n",
       "    <tr>\n",
       "      <th>3</th>\n",
       "      <td>4</td>\n",
       "      <td>cmn</td>\n",
       "      <td>這是什麼啊？</td>\n",
       "      <td>6</td>\n",
       "    </tr>\n",
       "    <tr>\n",
       "      <th>4</th>\n",
       "      <td>5</td>\n",
       "      <td>cmn</td>\n",
       "      <td>今天是６月１８号，也是Muiriel的生日！</td>\n",
       "      <td>22</td>\n",
       "    </tr>\n",
       "  </tbody>\n",
       "</table>\n",
       "</div>"
      ],
      "text/plain": [
       "   id lan_code                sentence  unicode_length\n",
       "0   1      cmn                  我們試試看！               6\n",
       "1   2      cmn                 我该去睡觉了。               7\n",
       "2   3      cmn                 你在干什麼啊？               7\n",
       "3   4      cmn                  這是什麼啊？               6\n",
       "4   5      cmn  今天是６月１８号，也是Muiriel的生日！              22"
      ]
     },
     "execution_count": 3,
     "metadata": {},
     "output_type": "execute_result"
    }
   ],
   "source": [
    "df = pd.read_csv(\"data/sentences_50k.csv\", delimiter=\",\", encoding='utf8', index_col=0)\n",
    "df.head()"
   ]
  },
  {
   "cell_type": "code",
   "execution_count": 4,
   "metadata": {},
   "outputs": [],
   "source": [
    "langs = list(df[\"lan_code\"].unique())"
   ]
  },
  {
   "cell_type": "code",
   "execution_count": 5,
   "metadata": {},
   "outputs": [
    {
     "name": "stdout",
     "output_type": "stream",
     "text": [
      "{'cmn': 0, 'deu': 1, 'rus': 2, 'fra': 3, 'eng': 4, 'jpn': 5, 'spa': 6, 'ita': 7, 'nld': 8, 'epo': 9, 'por': 10, 'tur': 11, 'heb': 12, 'hun': 13, 'fin': 14, 'ukr': 15, 'ces': 16, 'pol': 17, 'dan': 18, 'lit': 19, 'mkd': 20, 'kab': 21, 'ber': 22, 'mar': 23}\n",
      "{0: 'cmn', 1: 'deu', 2: 'rus', 3: 'fra', 4: 'eng', 5: 'jpn', 6: 'spa', 7: 'ita', 8: 'nld', 9: 'epo', 10: 'por', 11: 'tur', 12: 'heb', 13: 'hun', 14: 'fin', 15: 'ukr', 16: 'ces', 17: 'pol', 18: 'dan', 19: 'lit', 20: 'mkd', 21: 'kab', 22: 'ber', 23: 'mar'}\n"
     ]
    }
   ],
   "source": [
    "lang_to_num = {lan: i for i, lan in enumerate(langs)}\n",
    "print(lang_to_num)\n",
    "\n",
    "num_to_lang = {i: lan for lan, i in lang_to_num.items()}\n",
    "print(num_to_lang)"
   ]
  },
  {
   "cell_type": "code",
   "execution_count": 6,
   "metadata": {},
   "outputs": [],
   "source": [
    "df[\"lang_num\"] = df[\"lan_code\"].map(lang_to_num).astype(int)"
   ]
  },
  {
   "cell_type": "code",
   "execution_count": 7,
   "metadata": {},
   "outputs": [],
   "source": [
    "import numpy as np\n",
    "\n",
    "def sentence_to_unicode_list(sentence):\n",
    "    max_len = 29\n",
    "    unicode_list = [ord(i) for i in sentence]\n",
    "    if len(unicode_list) >= max_len:\n",
    "        unicode_list = unicode_list[:max_len]\n",
    "    else:\n",
    "        len_diff = max_len - len(unicode_list)\n",
    "        unicode_list.extend([0 for _ in range(len_diff)])\n",
    "    return unicode_list\n",
    "\n",
    "def set_labels(lang):\n",
    "    labels = [0 for _ in range(lang_count)]\n",
    "    labels[lang] = 1\n",
    "    return labels\n",
    "\n",
    "lang_count = len(df['lang_num'].unique())"
   ]
  },
  {
   "cell_type": "code",
   "execution_count": 8,
   "metadata": {},
   "outputs": [],
   "source": [
    "df['unicode'] = df['sentence'].apply(sentence_to_unicode_list)\n",
    "df['labels'] = df['lang_num'].apply(set_labels)"
   ]
  },
  {
   "cell_type": "code",
   "execution_count": 9,
   "metadata": {},
   "outputs": [
    {
     "data": {
      "text/html": [
       "<div>\n",
       "<style scoped>\n",
       "    .dataframe tbody tr th:only-of-type {\n",
       "        vertical-align: middle;\n",
       "    }\n",
       "\n",
       "    .dataframe tbody tr th {\n",
       "        vertical-align: top;\n",
       "    }\n",
       "\n",
       "    .dataframe thead th {\n",
       "        text-align: right;\n",
       "    }\n",
       "</style>\n",
       "<table border=\"1\" class=\"dataframe\">\n",
       "  <thead>\n",
       "    <tr style=\"text-align: right;\">\n",
       "      <th></th>\n",
       "      <th>id</th>\n",
       "      <th>lan_code</th>\n",
       "      <th>sentence</th>\n",
       "      <th>unicode_length</th>\n",
       "      <th>lang_num</th>\n",
       "      <th>unicode</th>\n",
       "      <th>labels</th>\n",
       "    </tr>\n",
       "  </thead>\n",
       "  <tbody>\n",
       "    <tr>\n",
       "      <th>2790856</th>\n",
       "      <td>2957140</td>\n",
       "      <td>eng</td>\n",
       "      <td>Tom is irritated by Mary's constant yelling.</td>\n",
       "      <td>44</td>\n",
       "      <td>4</td>\n",
       "      <td>[84, 111, 109, 32, 105, 115, 32, 105, 114, 114...</td>\n",
       "      <td>[0, 0, 0, 0, 1, 0, 0, 0, 0, 0, 0, 0, 0, 0, 0, ...</td>\n",
       "    </tr>\n",
       "    <tr>\n",
       "      <th>7855161</th>\n",
       "      <td>8269112</td>\n",
       "      <td>ber</td>\n",
       "      <td>D ayen ugadeɣ i d-yeḍran.</td>\n",
       "      <td>25</td>\n",
       "      <td>22</td>\n",
       "      <td>[68, 32, 97, 121, 101, 110, 32, 117, 103, 97, ...</td>\n",
       "      <td>[0, 0, 0, 0, 0, 0, 0, 0, 0, 0, 0, 0, 0, 0, 0, ...</td>\n",
       "    </tr>\n",
       "    <tr>\n",
       "      <th>1661049</th>\n",
       "      <td>1758006</td>\n",
       "      <td>deu</td>\n",
       "      <td>Er mag Andenhirse.</td>\n",
       "      <td>18</td>\n",
       "      <td>1</td>\n",
       "      <td>[69, 114, 32, 109, 97, 103, 32, 65, 110, 100, ...</td>\n",
       "      <td>[0, 1, 0, 0, 0, 0, 0, 0, 0, 0, 0, 0, 0, 0, 0, ...</td>\n",
       "    </tr>\n",
       "    <tr>\n",
       "      <th>148015</th>\n",
       "      <td>153889</td>\n",
       "      <td>jpn</td>\n",
       "      <td>私は彼の手紙に返事を出したくない。</td>\n",
       "      <td>17</td>\n",
       "      <td>5</td>\n",
       "      <td>[31169, 12399, 24444, 12398, 25163, 32025, 123...</td>\n",
       "      <td>[0, 0, 0, 0, 0, 1, 0, 0, 0, 0, 0, 0, 0, 0, 0, ...</td>\n",
       "    </tr>\n",
       "    <tr>\n",
       "      <th>3388013</th>\n",
       "      <td>3607639</td>\n",
       "      <td>ita</td>\n",
       "      <td>A proposito, voi dove abitate?</td>\n",
       "      <td>30</td>\n",
       "      <td>7</td>\n",
       "      <td>[65, 32, 112, 114, 111, 112, 111, 115, 105, 11...</td>\n",
       "      <td>[0, 0, 0, 0, 0, 0, 0, 1, 0, 0, 0, 0, 0, 0, 0, ...</td>\n",
       "    </tr>\n",
       "    <tr>\n",
       "      <th>5048638</th>\n",
       "      <td>5389907</td>\n",
       "      <td>rus</td>\n",
       "      <td>Не делай никаких глупостей.</td>\n",
       "      <td>27</td>\n",
       "      <td>2</td>\n",
       "      <td>[1053, 1077, 32, 1076, 1077, 1083, 1072, 1081,...</td>\n",
       "      <td>[0, 0, 1, 0, 0, 0, 0, 0, 0, 0, 0, 0, 0, 0, 0, ...</td>\n",
       "    </tr>\n",
       "    <tr>\n",
       "      <th>9536229</th>\n",
       "      <td>9982632</td>\n",
       "      <td>deu</td>\n",
       "      <td>Tom lehnte mein Angebot ab.</td>\n",
       "      <td>27</td>\n",
       "      <td>1</td>\n",
       "      <td>[84, 111, 109, 32, 108, 101, 104, 110, 116, 10...</td>\n",
       "      <td>[0, 1, 0, 0, 0, 0, 0, 0, 0, 0, 0, 0, 0, 0, 0, ...</td>\n",
       "    </tr>\n",
       "    <tr>\n",
       "      <th>6701825</th>\n",
       "      <td>7090839</td>\n",
       "      <td>kab</td>\n",
       "      <td>Tom yeqqim zdat kan n Mary.</td>\n",
       "      <td>27</td>\n",
       "      <td>21</td>\n",
       "      <td>[84, 111, 109, 32, 121, 101, 113, 113, 105, 10...</td>\n",
       "      <td>[0, 0, 0, 0, 0, 0, 0, 0, 0, 0, 0, 0, 0, 0, 0, ...</td>\n",
       "    </tr>\n",
       "    <tr>\n",
       "      <th>9970017</th>\n",
       "      <td>10420104</td>\n",
       "      <td>ber</td>\n",
       "      <td>Tzemremt ad d-tesɣemt asegzawal n thiligaynont.</td>\n",
       "      <td>47</td>\n",
       "      <td>22</td>\n",
       "      <td>[84, 122, 101, 109, 114, 101, 109, 116, 32, 97...</td>\n",
       "      <td>[0, 0, 0, 0, 0, 0, 0, 0, 0, 0, 0, 0, 0, 0, 0, ...</td>\n",
       "    </tr>\n",
       "    <tr>\n",
       "      <th>575160</th>\n",
       "      <td>601779</td>\n",
       "      <td>epo</td>\n",
       "      <td>Transdonu al mi la salon.</td>\n",
       "      <td>25</td>\n",
       "      <td>9</td>\n",
       "      <td>[84, 114, 97, 110, 115, 100, 111, 110, 117, 32...</td>\n",
       "      <td>[0, 0, 0, 0, 0, 0, 0, 0, 0, 1, 0, 0, 0, 0, 0, ...</td>\n",
       "    </tr>\n",
       "  </tbody>\n",
       "</table>\n",
       "</div>"
      ],
      "text/plain": [
       "               id lan_code                                         sentence  \\\n",
       "2790856   2957140      eng     Tom is irritated by Mary's constant yelling.   \n",
       "7855161   8269112      ber                        D ayen ugadeɣ i d-yeḍran.   \n",
       "1661049   1758006      deu                               Er mag Andenhirse.   \n",
       "148015     153889      jpn                                私は彼の手紙に返事を出したくない。   \n",
       "3388013   3607639      ita                   A proposito, voi dove abitate?   \n",
       "5048638   5389907      rus                      Не делай никаких глупостей.   \n",
       "9536229   9982632      deu                      Tom lehnte mein Angebot ab.   \n",
       "6701825   7090839      kab                      Tom yeqqim zdat kan n Mary.   \n",
       "9970017  10420104      ber  Tzemremt ad d-tesɣemt asegzawal n thiligaynont.   \n",
       "575160     601779      epo                        Transdonu al mi la salon.   \n",
       "\n",
       "         unicode_length  lang_num  \\\n",
       "2790856              44         4   \n",
       "7855161              25        22   \n",
       "1661049              18         1   \n",
       "148015               17         5   \n",
       "3388013              30         7   \n",
       "5048638              27         2   \n",
       "9536229              27         1   \n",
       "6701825              27        21   \n",
       "9970017              47        22   \n",
       "575160               25         9   \n",
       "\n",
       "                                                   unicode  \\\n",
       "2790856  [84, 111, 109, 32, 105, 115, 32, 105, 114, 114...   \n",
       "7855161  [68, 32, 97, 121, 101, 110, 32, 117, 103, 97, ...   \n",
       "1661049  [69, 114, 32, 109, 97, 103, 32, 65, 110, 100, ...   \n",
       "148015   [31169, 12399, 24444, 12398, 25163, 32025, 123...   \n",
       "3388013  [65, 32, 112, 114, 111, 112, 111, 115, 105, 11...   \n",
       "5048638  [1053, 1077, 32, 1076, 1077, 1083, 1072, 1081,...   \n",
       "9536229  [84, 111, 109, 32, 108, 101, 104, 110, 116, 10...   \n",
       "6701825  [84, 111, 109, 32, 121, 101, 113, 113, 105, 10...   \n",
       "9970017  [84, 122, 101, 109, 114, 101, 109, 116, 32, 97...   \n",
       "575160   [84, 114, 97, 110, 115, 100, 111, 110, 117, 32...   \n",
       "\n",
       "                                                    labels  \n",
       "2790856  [0, 0, 0, 0, 1, 0, 0, 0, 0, 0, 0, 0, 0, 0, 0, ...  \n",
       "7855161  [0, 0, 0, 0, 0, 0, 0, 0, 0, 0, 0, 0, 0, 0, 0, ...  \n",
       "1661049  [0, 1, 0, 0, 0, 0, 0, 0, 0, 0, 0, 0, 0, 0, 0, ...  \n",
       "148015   [0, 0, 0, 0, 0, 1, 0, 0, 0, 0, 0, 0, 0, 0, 0, ...  \n",
       "3388013  [0, 0, 0, 0, 0, 0, 0, 1, 0, 0, 0, 0, 0, 0, 0, ...  \n",
       "5048638  [0, 0, 1, 0, 0, 0, 0, 0, 0, 0, 0, 0, 0, 0, 0, ...  \n",
       "9536229  [0, 1, 0, 0, 0, 0, 0, 0, 0, 0, 0, 0, 0, 0, 0, ...  \n",
       "6701825  [0, 0, 0, 0, 0, 0, 0, 0, 0, 0, 0, 0, 0, 0, 0, ...  \n",
       "9970017  [0, 0, 0, 0, 0, 0, 0, 0, 0, 0, 0, 0, 0, 0, 0, ...  \n",
       "575160   [0, 0, 0, 0, 0, 0, 0, 0, 0, 1, 0, 0, 0, 0, 0, ...  "
      ]
     },
     "execution_count": 9,
     "metadata": {},
     "output_type": "execute_result"
    }
   ],
   "source": [
    "df.dropna()\n",
    "df.sample(n=(10))\n"
   ]
  },
  {
   "cell_type": "code",
   "execution_count": 10,
   "metadata": {},
   "outputs": [],
   "source": [
    "df_numpy = df.to_numpy()"
   ]
  },
  {
   "cell_type": "code",
   "execution_count": 10,
   "metadata": {},
   "outputs": [
    {
     "name": "stdout",
     "output_type": "stream",
     "text": [
      "9453482 9453482\n"
     ]
    }
   ],
   "source": [
    "x = list(df_numpy[:, -2])[:-1]\n",
    "y = list(df_numpy[:, -1])[:-1]\n",
    "print(len(x), len(y))\n"
   ]
  },
  {
   "cell_type": "code",
   "execution_count": 11,
   "metadata": {},
   "outputs": [],
   "source": [
    "x_train, x_test, y_train, y_test = train_test_split(x, y, test_size=0.2, shuffle=True)\n"
   ]
  },
  {
   "cell_type": "code",
   "execution_count": 34,
   "metadata": {},
   "outputs": [
    {
     "name": "stdout",
     "output_type": "stream",
     "text": [
      "Model: \"sequential_3\"\n",
      "_________________________________________________________________\n",
      " Layer (type)                Output Shape              Param #   \n",
      "=================================================================\n",
      " dense_21 (Dense)            (1, 128)                  3840      \n",
      "                                                                 \n",
      " dropout_20 (Dropout)        (1, 128)                  0         \n",
      "                                                                 \n",
      " dense_22 (Dense)            (1, 256)                  33024     \n",
      "                                                                 \n",
      " dropout_21 (Dropout)        (1, 256)                  0         \n",
      "                                                                 \n",
      " dropout_22 (Dropout)        (1, 256)                  0         \n",
      "                                                                 \n",
      " dense_23 (Dense)            (1, 512)                  131584    \n",
      "                                                                 \n",
      " dropout_23 (Dropout)        (1, 512)                  0         \n",
      "                                                                 \n",
      " dense_24 (Dense)            (1, 1024)                 525312    \n",
      "                                                                 \n",
      " dropout_24 (Dropout)        (1, 1024)                 0         \n",
      "                                                                 \n",
      " dense_25 (Dense)            (1, 1024)                 1049600   \n",
      "                                                                 \n",
      " dropout_25 (Dropout)        (1, 1024)                 0         \n",
      "                                                                 \n",
      " dense_26 (Dense)            (1, 512)                  524800    \n",
      "                                                                 \n",
      " dropout_26 (Dropout)        (1, 512)                  0         \n",
      "                                                                 \n",
      " dense_27 (Dense)            (1, 512)                  262656    \n",
      "                                                                 \n",
      " dropout_27 (Dropout)        (1, 512)                  0         \n",
      "                                                                 \n",
      " dense_28 (Dense)            (1, 24)                   12312     \n",
      "                                                                 \n",
      "=================================================================\n",
      "Total params: 2,543,128\n",
      "Trainable params: 2,543,128\n",
      "Non-trainable params: 0\n",
      "_________________________________________________________________\n"
     ]
    }
   ],
   "source": [
    "model = models.Sequential()\n",
    "model.add(layers.Dense(128, activation='tanh'))\n",
    "model.add(layers.Dropout(0.3))\n",
    "model.add(layers.Dense(256, activation='tanh'))\n",
    "model.add(layers.Dropout(0.3))\n",
    "model.add(layers.Dropout(0.3))\n",
    "model.add(layers.Dense(512, activation='tanh'))\n",
    "model.add(layers.Dropout(0.3))\n",
    "model.add(layers.Dense(1024, activation='tanh'))\n",
    "model.add(layers.Dropout(0.5))\n",
    "model.add(layers.Dense(1024, activation='tanh'))\n",
    "model.add(layers.Dropout(0.3))\n",
    "model.add(layers.Dense(512, activation='tanh'))\n",
    "model.add(layers.Dropout(0.3))\n",
    "model.add(layers.Dense(512, activation='tanh'))\n",
    "model.add(layers.Dropout(0.3))\n",
    "model.add(layers.Dense(lang_count, activation='softmax'))\n",
    "model.build(input_shape=(1, 29))\n",
    "model.summary()"
   ]
  },
  {
   "cell_type": "code",
   "execution_count": 35,
   "metadata": {},
   "outputs": [],
   "source": [
    "model.compile(loss='categorical_crossentropy', optimizer='adam', metrics=['accuracy'])"
   ]
  },
  {
   "cell_type": "code",
   "execution_count": 36,
   "metadata": {},
   "outputs": [
    {
     "name": "stdout",
     "output_type": "stream",
     "text": [
      "Epoch 1/30\n",
      "118169/118169 [==============================] - 1156s 10ms/step - loss: 2.4195 - accuracy: 0.2694 - val_loss: 2.2418 - val_accuracy: 0.3137\n",
      "Epoch 2/30\n",
      "118169/118169 [==============================] - 892s 8ms/step - loss: 2.4440 - accuracy: 0.2637 - val_loss: 2.3205 - val_accuracy: 0.2958\n",
      "Epoch 3/30\n",
      "118169/118169 [==============================] - 837s 7ms/step - loss: 2.5205 - accuracy: 0.2457 - val_loss: 2.4548 - val_accuracy: 0.2263\n",
      "Epoch 4/30\n",
      "118169/118169 [==============================] - 735s 6ms/step - loss: 2.6021 - accuracy: 0.2261 - val_loss: 2.4113 - val_accuracy: 0.2821\n",
      "Epoch 5/30\n",
      "118169/118169 [==============================] - 734s 6ms/step - loss: 2.6002 - accuracy: 0.2259 - val_loss: 2.5796 - val_accuracy: 0.2235\n",
      "Epoch 6/30\n",
      "118169/118169 [==============================] - 737s 6ms/step - loss: 2.7483 - accuracy: 0.1892 - val_loss: 2.6718 - val_accuracy: 0.1860\n",
      "Epoch 7/30\n",
      "118169/118169 [==============================] - 736s 6ms/step - loss: 2.7969 - accuracy: 0.1744 - val_loss: 2.7360 - val_accuracy: 0.1897\n",
      "Epoch 8/30\n",
      "118169/118169 [==============================] - 735s 6ms/step - loss: 2.8091 - accuracy: 0.1704 - val_loss: 2.7841 - val_accuracy: 0.1886\n",
      "Epoch 9/30\n",
      "118169/118169 [==============================] - 738s 6ms/step - loss: 2.8189 - accuracy: 0.1670 - val_loss: 2.7578 - val_accuracy: 0.1832\n",
      "Epoch 10/30\n",
      "118169/118169 [==============================] - 737s 6ms/step - loss: 2.8195 - accuracy: 0.1660 - val_loss: 2.7943 - val_accuracy: 0.1805\n",
      "Epoch 11/30\n",
      "118169/118169 [==============================] - 737s 6ms/step - loss: 2.8357 - accuracy: 0.1613 - val_loss: 2.7785 - val_accuracy: 0.1818\n",
      "Epoch 12/30\n",
      "118169/118169 [==============================] - 736s 6ms/step - loss: 2.8298 - accuracy: 0.1633 - val_loss: 2.7540 - val_accuracy: 0.1878\n",
      "Epoch 13/30\n",
      "118169/118169 [==============================] - 737s 6ms/step - loss: 2.8191 - accuracy: 0.1665 - val_loss: 2.7754 - val_accuracy: 0.1841\n",
      "Epoch 14/30\n",
      "118169/118169 [==============================] - 738s 6ms/step - loss: 2.8284 - accuracy: 0.1628 - val_loss: 2.8213 - val_accuracy: 0.1833\n",
      "Epoch 15/30\n",
      "118169/118169 [==============================] - 738s 6ms/step - loss: 2.8347 - accuracy: 0.1609 - val_loss: 2.8037 - val_accuracy: 0.1791\n",
      "Epoch 16/30\n",
      "118169/118169 [==============================] - 737s 6ms/step - loss: 2.8469 - accuracy: 0.1580 - val_loss: 2.8166 - val_accuracy: 0.0831\n",
      "Epoch 17/30\n",
      "118169/118169 [==============================] - 740s 6ms/step - loss: 2.8394 - accuracy: 0.1575 - val_loss: 2.7752 - val_accuracy: 0.1781\n",
      "Epoch 18/30\n",
      "118169/118169 [==============================] - 740s 6ms/step - loss: 2.8394 - accuracy: 0.1580 - val_loss: 2.8154 - val_accuracy: 0.1735\n",
      "Epoch 19/30\n",
      "118169/118169 [==============================] - 739s 6ms/step - loss: 2.8521 - accuracy: 0.1574 - val_loss: 2.8453 - val_accuracy: 0.1757\n",
      "Epoch 20/30\n",
      "118169/118169 [==============================] - 738s 6ms/step - loss: 2.8572 - accuracy: 0.1573 - val_loss: 2.8142 - val_accuracy: 0.1767\n",
      "Epoch 21/30\n",
      "118169/118169 [==============================] - 739s 6ms/step - loss: 2.8577 - accuracy: 0.1569 - val_loss: 2.8291 - val_accuracy: 0.1782\n",
      "Epoch 22/30\n",
      "118169/118169 [==============================] - 740s 6ms/step - loss: 2.8533 - accuracy: 0.1574 - val_loss: 2.8336 - val_accuracy: 0.1774\n",
      "Epoch 23/30\n",
      "118169/118169 [==============================] - 737s 6ms/step - loss: 2.8516 - accuracy: 0.1562 - val_loss: 2.8237 - val_accuracy: 0.1330\n",
      "Epoch 24/30\n",
      "118169/118169 [==============================] - 737s 6ms/step - loss: 2.8627 - accuracy: 0.1543 - val_loss: 2.8903 - val_accuracy: 0.0939\n",
      "Epoch 25/30\n",
      "118169/118169 [==============================] - 738s 6ms/step - loss: 2.8667 - accuracy: 0.1536 - val_loss: 2.7874 - val_accuracy: 0.1775\n",
      "Epoch 26/30\n",
      "118169/118169 [==============================] - 738s 6ms/step - loss: 2.8549 - accuracy: 0.1551 - val_loss: 2.8118 - val_accuracy: 0.1638\n",
      "Epoch 27/30\n",
      "118169/118169 [==============================] - 738s 6ms/step - loss: 2.8461 - accuracy: 0.1568 - val_loss: 2.8429 - val_accuracy: 0.1707\n",
      "Epoch 28/30\n",
      "118169/118169 [==============================] - 737s 6ms/step - loss: 2.8437 - accuracy: 0.1585 - val_loss: 2.8321 - val_accuracy: 0.1725\n",
      "Epoch 29/30\n",
      "118169/118169 [==============================] - 739s 6ms/step - loss: 2.8469 - accuracy: 0.1591 - val_loss: 2.8022 - val_accuracy: 0.1786\n",
      "Epoch 30/30\n",
      "118169/118169 [==============================] - 738s 6ms/step - loss: 2.8436 - accuracy: 0.1612 - val_loss: 2.7957 - val_accuracy: 0.1839\n"
     ]
    }
   ],
   "source": [
    "batch_size = 64\n",
    "epochs = 30\n",
    "\n",
    "# x = np.array([[1,1,1] for _ in range(10000)])\n",
    "# y = x\n",
    "# x_train, x_test, y_train, y_test = train_test_split(x, y, test_size=0.2, shuffle=True)\n",
    "# hist = model.fit(x_train, y_train, batch_size=1, epochs=epochs)\n",
    "hist = model.fit(x_train, y_train, batch_size=batch_size, epochs=epochs, validation_data=(x_test, y_test))"
   ]
  },
  {
   "cell_type": "code",
   "execution_count": 85,
   "metadata": {},
   "outputs": [
    {
     "data": {
      "image/png": "[encoded data removed]",
      "text/plain": [
       "<Figure size 432x288 with 1 Axes>"
      ]
     },
     "metadata": {
      "needs_background": "light"
     },
     "output_type": "display_data"
    }
   ],
   "source": [
    "from matplotlib import pyplot as plt\n",
    "\n",
    "plt.plot(hist.history['accuracy'])\n",
    "plt.plot(hist.history['val_accuracy'])\n",
    "plt.title('model accuracy')\n",
    "plt.ylabel('accuracy')\n",
    "plt.xlabel('epoch')\n",
    "plt.legend(['train', 'val'], loc='upper left')\n",
    "plt.grid()\n",
    "plt.show()"
   ]
  },
  {
   "cell_type": "code",
   "execution_count": 87,
   "metadata": {},
   "outputs": [
    {
     "data": {
      "image/png": "[encoded data removed]",
      "text/plain": [
       "<Figure size 432x288 with 1 Axes>"
      ]
     },
     "metadata": {
      "needs_background": "light"
     },
     "output_type": "display_data"
    }
   ],
   "source": [
    "plt.plot(hist.history['loss'])\n",
    "plt.plot(hist.history['val_loss'])\n",
    "plt.title('model loss')\n",
    "plt.ylabel('loss')\n",
    "plt.xlabel('epoch')\n",
    "plt.legend(['train', 'val'], loc='upper left')\n",
    "plt.grid()\n",
    "plt.show()"
   ]
  },
  {
   "cell_type": "code",
   "execution_count": 38,
   "metadata": {},
   "outputs": [],
   "source": [
    "save_path = 'models/'\n",
    "model.save_weights(save_path + 'dense_network.h5')"
   ]
  },
  {
   "cell_type": "code",
   "execution_count": 81,
   "metadata": {},
   "outputs": [
    {
     "name": "stdout",
     "output_type": "stream",
     "text": [
      "Model: \"sequential_32\"\n",
      "_________________________________________________________________\n",
      " Layer (type)                Output Shape              Param #   \n",
      "=================================================================\n",
      " conv1d_82 (Conv1D)          (None, 1, 32)             960       \n",
      "                                                                 \n",
      " dropout_39 (Dropout)        (None, 1, 32)             0         \n",
      "                                                                 \n",
      " conv1d_83 (Conv1D)          (None, 1, 64)             2112      \n",
      "                                                                 \n",
      " dropout_40 (Dropout)        (None, 1, 64)             0         \n",
      "                                                                 \n",
      " conv1d_84 (Conv1D)          (None, 1, 128)            8320      \n",
      "                                                                 \n",
      " dropout_41 (Dropout)        (None, 1, 128)            0         \n",
      "                                                                 \n",
      " conv1d_85 (Conv1D)          (None, 1, 256)            33024     \n",
      "                                                                 \n",
      " dropout_42 (Dropout)        (None, 1, 256)            0         \n",
      "                                                                 \n",
      " conv1d_86 (Conv1D)          (None, 1, 128)            32896     \n",
      "                                                                 \n",
      " dropout_43 (Dropout)        (None, 1, 128)            0         \n",
      "                                                                 \n",
      " conv1d_87 (Conv1D)          (None, 1, 64)             8256      \n",
      "                                                                 \n",
      " dropout_44 (Dropout)        (None, 1, 64)             0         \n",
      "                                                                 \n",
      " conv1d_88 (Conv1D)          (None, 1, 32)             2080      \n",
      "                                                                 \n",
      " dropout_45 (Dropout)        (None, 1, 32)             0         \n",
      "                                                                 \n",
      " dense_70 (Dense)            (None, 1, 1024)           33792     \n",
      "                                                                 \n",
      " dropout_46 (Dropout)        (None, 1, 1024)           0         \n",
      "                                                                 \n",
      " dense_71 (Dense)            (None, 1, 24)             24600     \n",
      "                                                                 \n",
      "=================================================================\n",
      "Total params: 146,040\n",
      "Trainable params: 146,040\n",
      "Non-trainable params: 0\n",
      "_________________________________________________________________\n"
     ]
    }
   ],
   "source": [
    "model_conv = models.Sequential()\n",
    "model_conv.add(layers.Conv1D(32, 1, activation='tanh'))\n",
    "model_conv.add(layers.Dropout(0.3))\n",
    "model_conv.add(layers.Conv1D(64, 1, activation='tanh'))\n",
    "model_conv.add(layers.Dropout(0.3))\n",
    "model_conv.add(layers.Conv1D(128, 1, activation='tanh'))\n",
    "model_conv.add(layers.Dropout(0.3))\n",
    "model_conv.add(layers.Conv1D(256, 1, activation='tanh'))\n",
    "model_conv.add(layers.Dropout(0.3))\n",
    "model_conv.add(layers.Conv1D(128, 1, activation='tanh'))\n",
    "model_conv.add(layers.Dropout(0.3))\n",
    "model_conv.add(layers.Conv1D(64, 1, activation='tanh'))\n",
    "model_conv.add(layers.Dropout(0.3))\n",
    "model_conv.add(layers.Conv1D(32, 1, activation='tanh'))\n",
    "model_conv.add(layers.Dropout(0.3))\n",
    "model_conv.add(layers.Dense(1024, activation='softmax'))\n",
    "model_conv.add(layers.Dropout(0.3))\n",
    "model_conv.add(layers.Dense(lang_count, activation='softmax'))\n",
    "model_conv.build(input_shape=(None, 1, 29))\n",
    "model_conv.summary()"
   ]
  },
  {
   "cell_type": "code",
   "execution_count": 82,
   "metadata": {},
   "outputs": [],
   "source": [
    "model_conv.compile(loss='categorical_crossentropy', optimizer='adam', metrics=['accuracy'])"
   ]
  },
  {
   "cell_type": "code",
   "execution_count": 20,
   "metadata": {},
   "outputs": [
    {
     "name": "stdout",
     "output_type": "stream",
     "text": [
      "9453482 9453482\n"
     ]
    }
   ],
   "source": [
    "x = list(df_numpy[:, -2])[:-1]\n",
    "y = list(df_numpy[:, -1])[:-1]\n",
    "x = [[i] for i in x]\n",
    "y = [[i] for i in y]\n",
    "print(len(x), len(y))\n",
    "\n"
   ]
  },
  {
   "cell_type": "code",
   "execution_count": 21,
   "metadata": {},
   "outputs": [],
   "source": [
    "x_train, x_test, y_train, y_test = train_test_split(x, y, test_size=0.2, shuffle=True)\n"
   ]
  },
  {
   "cell_type": "code",
   "execution_count": 83,
   "metadata": {},
   "outputs": [
    {
     "name": "stdout",
     "output_type": "stream",
     "text": [
      "Epoch 1/30\n",
      "118169/118169 [==============================] - 1439s 12ms/step - loss: 2.6328 - accuracy: 0.2089 - val_loss: 2.6010 - val_accuracy: 0.2129\n",
      "Epoch 2/30\n",
      "118169/118169 [==============================] - 1261s 11ms/step - loss: 2.6286 - accuracy: 0.2096 - val_loss: 2.6030 - val_accuracy: 0.2132\n",
      "Epoch 3/30\n",
      "118169/118169 [==============================] - 1196s 10ms/step - loss: 2.6448 - accuracy: 0.2054 - val_loss: 2.6257 - val_accuracy: 0.2076\n",
      "Epoch 4/30\n",
      "118169/118169 [==============================] - 988s 8ms/step - loss: 2.6517 - accuracy: 0.2035 - val_loss: 2.6362 - val_accuracy: 0.2053\n",
      "Epoch 5/30\n",
      "118169/118169 [==============================] - 1200s 10ms/step - loss: 2.6597 - accuracy: 0.2018 - val_loss: 2.6363 - val_accuracy: 0.2038\n",
      "Epoch 6/30\n",
      "118169/118169 [==============================] - 1294s 11ms/step - loss: 2.6658 - accuracy: 0.2000 - val_loss: 2.6720 - val_accuracy: 0.1981\n",
      "Epoch 7/30\n",
      "118169/118169 [==============================] - 1284s 11ms/step - loss: 2.6819 - accuracy: 0.1970 - val_loss: 2.6432 - val_accuracy: 0.2037\n",
      "Epoch 8/30\n",
      "118169/118169 [==============================] - 1293s 11ms/step - loss: 2.6746 - accuracy: 0.1990 - val_loss: 2.6496 - val_accuracy: 0.2008\n",
      "Epoch 9/30\n",
      "118169/118169 [==============================] - 1206s 10ms/step - loss: 2.6785 - accuracy: 0.1979 - val_loss: 2.6546 - val_accuracy: 0.2031\n",
      "Epoch 10/30\n",
      "118169/118169 [==============================] - 999s 8ms/step - loss: 2.6927 - accuracy: 0.1952 - val_loss: 2.6726 - val_accuracy: 0.2000\n",
      "Epoch 11/30\n",
      "118169/118169 [==============================] - 929s 8ms/step - loss: 2.6991 - accuracy: 0.1948 - val_loss: 2.6987 - val_accuracy: 0.1933\n",
      "Epoch 12/30\n",
      "118169/118169 [==============================] - 1099s 9ms/step - loss: 2.6996 - accuracy: 0.1940 - val_loss: 2.6692 - val_accuracy: 0.2013\n",
      "Epoch 13/30\n",
      "118169/118169 [==============================] - 1213s 10ms/step - loss: 2.7116 - accuracy: 0.1917 - val_loss: 2.7107 - val_accuracy: 0.1897\n",
      "Epoch 14/30\n",
      "118169/118169 [==============================] - 1073s 9ms/step - loss: 2.7219 - accuracy: 0.1905 - val_loss: 2.7107 - val_accuracy: 0.1929\n",
      "Epoch 15/30\n",
      "118169/118169 [==============================] - 977s 8ms/step - loss: 2.7228 - accuracy: 0.1904 - val_loss: 2.7082 - val_accuracy: 0.1930\n",
      "Epoch 16/30\n",
      "118169/118169 [==============================] - 977s 8ms/step - loss: 2.7445 - accuracy: 0.1852 - val_loss: 2.7313 - val_accuracy: 0.1876\n",
      "Epoch 17/30\n",
      "118169/118169 [==============================] - 975s 8ms/step - loss: 2.7333 - accuracy: 0.1877 - val_loss: 2.7211 - val_accuracy: 0.1888\n",
      "Epoch 18/30\n",
      "118169/118169 [==============================] - 975s 8ms/step - loss: 2.7241 - accuracy: 0.1894 - val_loss: 2.7193 - val_accuracy: 0.1895\n",
      "Epoch 19/30\n",
      "118169/118169 [==============================] - 979s 8ms/step - loss: 2.7255 - accuracy: 0.1893 - val_loss: 2.7123 - val_accuracy: 0.1905\n",
      "Epoch 20/30\n",
      "118169/118169 [==============================] - 978s 8ms/step - loss: 2.7288 - accuracy: 0.1888 - val_loss: 2.7422 - val_accuracy: 0.1849\n",
      "Epoch 21/30\n",
      "118169/118169 [==============================] - 976s 8ms/step - loss: 2.7308 - accuracy: 0.1883 - val_loss: 2.7164 - val_accuracy: 0.1906\n",
      "Epoch 22/30\n",
      "118169/118169 [==============================] - 978s 8ms/step - loss: 2.7413 - accuracy: 0.1859 - val_loss: 2.7416 - val_accuracy: 0.1857\n",
      "Epoch 23/30\n",
      "118169/118169 [==============================] - 981s 8ms/step - loss: 2.7454 - accuracy: 0.1851 - val_loss: 2.7417 - val_accuracy: 0.1861\n",
      "Epoch 24/30\n",
      "118169/118169 [==============================] - 980s 8ms/step - loss: 2.7391 - accuracy: 0.1866 - val_loss: 2.7317 - val_accuracy: 0.1875\n",
      "Epoch 25/30\n",
      "118169/118169 [==============================] - 978s 8ms/step - loss: 2.7385 - accuracy: 0.1868 - val_loss: 2.7193 - val_accuracy: 0.1910\n",
      "Epoch 26/30\n",
      "118169/118169 [==============================] - 1005s 8ms/step - loss: 2.7365 - accuracy: 0.1877 - val_loss: 2.7321 - val_accuracy: 0.1881\n",
      "Epoch 27/30\n",
      "118169/118169 [==============================] - 1271s 11ms/step - loss: 2.7397 - accuracy: 0.1861 - val_loss: 2.7051 - val_accuracy: 0.1905\n",
      "Epoch 28/30\n",
      "118169/118169 [==============================] - 1263s 11ms/step - loss: 2.7371 - accuracy: 0.1864 - val_loss: 2.7390 - val_accuracy: 0.1870\n",
      "Epoch 29/30\n",
      "118169/118169 [==============================] - 1256s 11ms/step - loss: 2.7335 - accuracy: 0.1882 - val_loss: 2.7258 - val_accuracy: 0.1900\n",
      "Epoch 30/30\n",
      "118169/118169 [==============================] - 1217s 10ms/step - loss: 2.7479 - accuracy: 0.1848 - val_loss: 2.7471 - val_accuracy: 0.1850\n"
     ]
    }
   ],
   "source": [
    "batch_size = 64\n",
    "epochs = 30\n",
    "\n",
    "hist_conv = model_conv.fit(x_train, y_train, batch_size=batch_size, epochs=epochs, validation_data=(x_test, y_test))"
   ]
  },
  {
   "cell_type": "code",
   "execution_count": 88,
   "metadata": {},
   "outputs": [
    {
     "data": {
      "image/png": "[encoded data removed]",
      "text/plain": [
       "<Figure size 432x288 with 1 Axes>"
      ]
     },
     "metadata": {
      "needs_background": "light"
     },
     "output_type": "display_data"
    }
   ],
   "source": [
    "from matplotlib import pyplot as plt\n",
    "\n",
    "plt.plot(hist_conv.history['accuracy'])\n",
    "plt.plot(hist_conv.history['val_accuracy'])\n",
    "plt.title('model accuracy')\n",
    "plt.ylabel('accuracy')\n",
    "plt.xlabel('epoch')\n",
    "plt.legend(['train', 'val'], loc='upper left')\n",
    "plt.grid()\n",
    "plt.show()"
   ]
  },
  {
   "cell_type": "code",
   "execution_count": 89,
   "metadata": {},
   "outputs": [
    {
     "data": {
      "image/png": "[encoded data removed]",
      "text/plain": [
       "<Figure size 432x288 with 1 Axes>"
      ]
     },
     "metadata": {
      "needs_background": "light"
     },
     "output_type": "display_data"
    }
   ],
   "source": [
    "plt.plot(hist_conv.history['loss'])\n",
    "plt.plot(hist_conv.history['val_loss'])\n",
    "plt.title('model loss')\n",
    "plt.ylabel('loss')\n",
    "plt.xlabel('epoch')\n",
    "plt.legend(['train', 'val'], loc='upper left')\n",
    "plt.grid()\n",
    "plt.show()"
   ]
  },
  {
   "cell_type": "code",
   "execution_count": 37,
   "metadata": {},
   "outputs": [
    {
     "name": "stdout",
     "output_type": "stream",
     "text": [
      "1000 1000\n"
     ]
    }
   ],
   "source": [
    "x = list(df_numpy[:, -2])[:1000]\n",
    "y = list(df_numpy[:, -1])[:1000]\n",
    "x = [[i] for i in x]\n",
    "# y = [[i] for i in y]\n",
    "print(len(x), len(y))\n",
    "\n"
   ]
  },
  {
   "cell_type": "code",
   "execution_count": 38,
   "metadata": {},
   "outputs": [],
   "source": [
    "x_train, x_test, y_train, y_test = train_test_split(x, y, test_size=0.2, shuffle=True)"
   ]
  },
  {
   "cell_type": "code",
   "execution_count": 34,
   "metadata": {},
   "outputs": [
    {
     "name": "stdout",
     "output_type": "stream",
     "text": [
      "Model: \"sequential_9\"\n",
      "_________________________________________________________________\n",
      " Layer (type)                Output Shape              Param #   \n",
      "=================================================================\n",
      " bidirectional_18 (Bidirecti  (None, 1, 128)           48128     \n",
      " onal)                                                           \n",
      "                                                                 \n",
      " bidirectional_19 (Bidirecti  (None, 48)               29376     \n",
      " onal)                                                           \n",
      "                                                                 \n",
      " dense_11 (Dense)            (None, 24)                1176      \n",
      "                                                                 \n",
      "=================================================================\n",
      "Total params: 78,680\n",
      "Trainable params: 78,680\n",
      "Non-trainable params: 0\n",
      "_________________________________________________________________\n"
     ]
    }
   ],
   "source": [
    "model_rec = models.Sequential()\n",
    "\n",
    "model_rec.add(\n",
    "    layers.Bidirectional(layers.LSTM(64, return_sequences=True))\n",
    ")\n",
    "model_rec.add(layers.Bidirectional(layers.LSTM(lang_count)))\n",
    "# model_rec.add(layers.GlobalMaxPooling1D())\n",
    "model_rec.add(layers.Dense(lang_count, activation='softmax'))\n",
    "model_rec.build(input_shape=(None, 1, 29))\n",
    "\n",
    "model_rec.summary()\n"
   ]
  },
  {
   "cell_type": "code",
   "execution_count": 35,
   "metadata": {},
   "outputs": [],
   "source": [
    "model_rec.compile(loss='categorical_crossentropy', optimizer='adam', metrics=['accuracy'])"
   ]
  },
  {
   "cell_type": "code",
   "execution_count": 39,
   "metadata": {},
   "outputs": [
    {
     "name": "stdout",
     "output_type": "stream",
     "text": [
      "Epoch 1/30\n"
     ]
    },
    {
     "ename": "",
     "evalue": "",
     "output_type": "error",
     "traceback": [
      "\u001b[1;31mCanceled future for execute_request message before replies were done"
     ]
    },
    {
     "ename": "",
     "evalue": "",
     "output_type": "error",
     "traceback": [
      "\u001b[1;31mJądro Kernel uległo awarii podczas wykonywania kodu w bieżącej komórce lub w poprzedniej komórce. Przejrzyj kod w komórkach, aby zidentyfikować możliwą przyczynę awarii. Kliknij <a href='https://aka.ms/vscodeJupyterKernelCrash'>tutaj</a>, aby uzyskać więcej informacji. W celu uzyskania dalszych szczegółów, wyświetl <a href='command:jupyter.viewOutput'>log</a> Jupyter."
     ]
    }
   ],
   "source": [
    "batch_size = 64\n",
    "epochs = 30\n",
    "\n",
    "hist_rec = model_rec.fit(x_train, y_train, batch_size=batch_size, epochs=epochs, validation_data=(x_test, y_test))"
   ]
  },
  {
   "cell_type": "code",
   "execution_count": 37,
   "metadata": {},
   "outputs": [],
   "source": [
    "sentences = df['sentence'].values"
   ]
  },
  {
   "cell_type": "code",
   "execution_count": 38,
   "metadata": {},
   "outputs": [
    {
     "data": {
      "text/plain": [
       "array(['我們試試看！', '我该去睡觉了。', '你在干什麼啊？', ..., 'Los botaron.',\n",
       "       'Los hicieron correr.', 'Los corrieron.'], dtype=object)"
      ]
     },
     "execution_count": 38,
     "metadata": {},
     "output_type": "execute_result"
    }
   ],
   "source": [
    "sentences"
   ]
  },
  {
   "cell_type": "code",
   "execution_count": 39,
   "metadata": {},
   "outputs": [],
   "source": [
    "sentences_lang_num = df[\"lang_num\"].values.T[0]"
   ]
  },
  {
   "cell_type": "code",
   "execution_count": 40,
   "metadata": {},
   "outputs": [
    {
     "data": {
      "text/plain": [
       "()"
      ]
     },
     "execution_count": 40,
     "metadata": {},
     "output_type": "execute_result"
    }
   ],
   "source": [
    "sentences_lang_num.shape"
   ]
  },
  {
   "cell_type": "code",
   "execution_count": 41,
   "metadata": {},
   "outputs": [],
   "source": [
    "del df"
   ]
  }
 ],
 "metadata": {
  "kernelspec": {
   "display_name": "Python 3.9.8 64-bit",
   "language": "python",
   "name": "python3"
  },
  "language_info": {
   "codemirror_mode": {
    "name": "ipython",
    "version": 3
   },
   "file_extension": ".py",
   "mimetype": "text/x-python",
   "name": "python",
   "nbconvert_exporter": "python",
   "pygments_lexer": "ipython3",
   "version": "3.9.8"
  },
  "orig_nbformat": 4,
  "vscode": {
   "interpreter": {
    "hash": "8100bb27ef6f27bb6b63ba202e13f32f0dffed430e6a4d162d3986e448f218b2"
   }
  }
 },
 "nbformat": 4,
 "nbformat_minor": 2
}
