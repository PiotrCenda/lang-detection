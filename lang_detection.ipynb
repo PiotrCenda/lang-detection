{
 "cells": [
  {
   "cell_type": "markdown",
   "metadata": {},
   "source": [
    "# Language detection\n",
    "## Data loading and learning the net"
   ]
  },
  {
   "cell_type": "code",
   "execution_count": 31,
   "metadata": {},
   "outputs": [],
   "source": [
    "import json\n",
    "import random\n",
    "import numpy as np\n",
    "import pandas as pd\n",
    "import matplotlib.pyplot as plt"
   ]
  },
  {
   "cell_type": "code",
   "execution_count": 32,
   "metadata": {},
   "outputs": [
    {
     "data": {
      "text/html": [
       "<div>\n",
       "<style scoped>\n",
       "    .dataframe tbody tr th:only-of-type {\n",
       "        vertical-align: middle;\n",
       "    }\n",
       "\n",
       "    .dataframe tbody tr th {\n",
       "        vertical-align: top;\n",
       "    }\n",
       "\n",
       "    .dataframe thead th {\n",
       "        text-align: right;\n",
       "    }\n",
       "</style>\n",
       "<table border=\"1\" class=\"dataframe\">\n",
       "  <thead>\n",
       "    <tr style=\"text-align: right;\">\n",
       "      <th></th>\n",
       "      <th>id</th>\n",
       "      <th>lan_code</th>\n",
       "      <th>sentence</th>\n",
       "    </tr>\n",
       "  </thead>\n",
       "  <tbody>\n",
       "    <tr>\n",
       "      <th>0</th>\n",
       "      <td>1</td>\n",
       "      <td>cmn</td>\n",
       "      <td>我們試試看！</td>\n",
       "    </tr>\n",
       "    <tr>\n",
       "      <th>1</th>\n",
       "      <td>2</td>\n",
       "      <td>cmn</td>\n",
       "      <td>我该去睡觉了。</td>\n",
       "    </tr>\n",
       "    <tr>\n",
       "      <th>2</th>\n",
       "      <td>3</td>\n",
       "      <td>cmn</td>\n",
       "      <td>你在干什麼啊？</td>\n",
       "    </tr>\n",
       "    <tr>\n",
       "      <th>3</th>\n",
       "      <td>4</td>\n",
       "      <td>cmn</td>\n",
       "      <td>這是什麼啊？</td>\n",
       "    </tr>\n",
       "    <tr>\n",
       "      <th>4</th>\n",
       "      <td>5</td>\n",
       "      <td>cmn</td>\n",
       "      <td>今天是６月１８号，也是Muiriel的生日！</td>\n",
       "    </tr>\n",
       "  </tbody>\n",
       "</table>\n",
       "</div>"
      ],
      "text/plain": [
       "   id lan_code                sentence\n",
       "0   1      cmn                  我們試試看！\n",
       "1   2      cmn                 我该去睡觉了。\n",
       "2   3      cmn                 你在干什麼啊？\n",
       "3   4      cmn                  這是什麼啊？\n",
       "4   5      cmn  今天是６月１８号，也是Muiriel的生日！"
      ]
     },
     "execution_count": 32,
     "metadata": {},
     "output_type": "execute_result"
    }
   ],
   "source": [
    "df = pd.read_csv(\"data/sentences_50k.csv\", delimiter=\",\", encoding='utf8', index_col=0)\n",
    "df.head()"
   ]
  },
  {
   "cell_type": "code",
   "execution_count": 33,
   "metadata": {},
   "outputs": [],
   "source": [
    "langs = list(df[\"lan_code\"].unique())"
   ]
  },
  {
   "cell_type": "code",
   "execution_count": 34,
   "metadata": {},
   "outputs": [
    {
     "name": "stdout",
     "output_type": "stream",
     "text": [
      "{'cmn': 0, 'deu': 1, 'rus': 2, 'fra': 3, 'eng': 4, 'jpn': 5, 'spa': 6, 'ita': 7, 'nld': 8, 'epo': 9, 'por': 10, 'tur': 11, 'heb': 12, 'hun': 13, 'fin': 14, 'ukr': 15, 'ces': 16, 'pol': 17, 'dan': 18, 'lit': 19, 'mkd': 20, 'kab': 21, 'ber': 22, 'mar': 23}\n",
      "{0: 'cmn', 1: 'deu', 2: 'rus', 3: 'fra', 4: 'eng', 5: 'jpn', 6: 'spa', 7: 'ita', 8: 'nld', 9: 'epo', 10: 'por', 11: 'tur', 12: 'heb', 13: 'hun', 14: 'fin', 15: 'ukr', 16: 'ces', 17: 'pol', 18: 'dan', 19: 'lit', 20: 'mkd', 21: 'kab', 22: 'ber', 23: 'mar'}\n"
     ]
    }
   ],
   "source": [
    "lang_to_num = {lan: i for i, lan in enumerate(langs)}\n",
    "print(lang_to_num)\n",
    "\n",
    "num_to_lang = {i: lan for lan, i in lang_to_num.items()}\n",
    "print(num_to_lang)"
   ]
  },
  {
   "cell_type": "code",
   "execution_count": 35,
   "metadata": {},
   "outputs": [],
   "source": [
    "df[\"lang_num\"] = df[\"lan_code\"].map(lang_to_num).astype(int)"
   ]
  },
  {
   "cell_type": "code",
   "execution_count": 36,
   "metadata": {},
   "outputs": [
    {
     "data": {
      "text/html": [
       "<div>\n",
       "<style scoped>\n",
       "    .dataframe tbody tr th:only-of-type {\n",
       "        vertical-align: middle;\n",
       "    }\n",
       "\n",
       "    .dataframe tbody tr th {\n",
       "        vertical-align: top;\n",
       "    }\n",
       "\n",
       "    .dataframe thead th {\n",
       "        text-align: right;\n",
       "    }\n",
       "</style>\n",
       "<table border=\"1\" class=\"dataframe\">\n",
       "  <thead>\n",
       "    <tr style=\"text-align: right;\">\n",
       "      <th></th>\n",
       "      <th>id</th>\n",
       "      <th>lan_code</th>\n",
       "      <th>sentence</th>\n",
       "      <th>lang_num</th>\n",
       "    </tr>\n",
       "  </thead>\n",
       "  <tbody>\n",
       "    <tr>\n",
       "      <th>6715183</th>\n",
       "      <td>7104356</td>\n",
       "      <td>kab</td>\n",
       "      <td>Yugar-iyi tiḥḥeṛci.</td>\n",
       "      <td>21</td>\n",
       "    </tr>\n",
       "    <tr>\n",
       "      <th>2661602</th>\n",
       "      <td>2821614</td>\n",
       "      <td>eng</td>\n",
       "      <td>Tom never forgot Mary.</td>\n",
       "      <td>4</td>\n",
       "    </tr>\n",
       "    <tr>\n",
       "      <th>2068662</th>\n",
       "      <td>2192934</td>\n",
       "      <td>fra</td>\n",
       "      <td>Ce n'est pas juste pour l'argent.</td>\n",
       "      <td>3</td>\n",
       "    </tr>\n",
       "    <tr>\n",
       "      <th>226830</th>\n",
       "      <td>233465</td>\n",
       "      <td>jpn</td>\n",
       "      <td>あなたの意見は時代遅れのように思われます。</td>\n",
       "      <td>5</td>\n",
       "    </tr>\n",
       "    <tr>\n",
       "      <th>4947487</th>\n",
       "      <td>5280261</td>\n",
       "      <td>rus</td>\n",
       "      <td>На столе коронера лежало обезглавленное тело.</td>\n",
       "      <td>2</td>\n",
       "    </tr>\n",
       "    <tr>\n",
       "      <th>6064846</th>\n",
       "      <td>6443737</td>\n",
       "      <td>ita</td>\n",
       "      <td>Tom è pronto a morire.</td>\n",
       "      <td>7</td>\n",
       "    </tr>\n",
       "    <tr>\n",
       "      <th>2446068</th>\n",
       "      <td>2594774</td>\n",
       "      <td>por</td>\n",
       "      <td>O senhor quer me matar.</td>\n",
       "      <td>10</td>\n",
       "    </tr>\n",
       "    <tr>\n",
       "      <th>1547676</th>\n",
       "      <td>1639863</td>\n",
       "      <td>ber</td>\n",
       "      <td>Argaz-nni yella yettmetra seg tewwurt ɣer tayeḍ.</td>\n",
       "      <td>22</td>\n",
       "    </tr>\n",
       "    <tr>\n",
       "      <th>3802095</th>\n",
       "      <td>4049279</td>\n",
       "      <td>hun</td>\n",
       "      <td>Milyen gyakran szoktál bevásárolni?</td>\n",
       "      <td>13</td>\n",
       "    </tr>\n",
       "    <tr>\n",
       "      <th>7939146</th>\n",
       "      <td>8354978</td>\n",
       "      <td>kab</td>\n",
       "      <td>Tamdakkelt-iw a-tt-a da.</td>\n",
       "      <td>21</td>\n",
       "    </tr>\n",
       "  </tbody>\n",
       "</table>\n",
       "</div>"
      ],
      "text/plain": [
       "              id lan_code                                          sentence  \\\n",
       "6715183  7104356      kab                               Yugar-iyi tiḥḥeṛci.   \n",
       "2661602  2821614      eng                            Tom never forgot Mary.   \n",
       "2068662  2192934      fra                 Ce n'est pas juste pour l'argent.   \n",
       "226830    233465      jpn                             あなたの意見は時代遅れのように思われます。   \n",
       "4947487  5280261      rus     На столе коронера лежало обезглавленное тело.   \n",
       "6064846  6443737      ita                            Tom è pronto a morire.   \n",
       "2446068  2594774      por                           O senhor quer me matar.   \n",
       "1547676  1639863      ber  Argaz-nni yella yettmetra seg tewwurt ɣer tayeḍ.   \n",
       "3802095  4049279      hun               Milyen gyakran szoktál bevásárolni?   \n",
       "7939146  8354978      kab                          Tamdakkelt-iw a-tt-a da.   \n",
       "\n",
       "         lang_num  \n",
       "6715183        21  \n",
       "2661602         4  \n",
       "2068662         3  \n",
       "226830          5  \n",
       "4947487         2  \n",
       "6064846         7  \n",
       "2446068        10  \n",
       "1547676        22  \n",
       "3802095        13  \n",
       "7939146        21  "
      ]
     },
     "execution_count": 36,
     "metadata": {},
     "output_type": "execute_result"
    }
   ],
   "source": [
    "df.sample(10)"
   ]
  },
  {
   "cell_type": "code",
   "execution_count": 37,
   "metadata": {},
   "outputs": [],
   "source": [
    "sentences = df['sentence'].values"
   ]
  },
  {
   "cell_type": "code",
   "execution_count": 38,
   "metadata": {},
   "outputs": [
    {
     "data": {
      "text/plain": [
       "array(['我們試試看！', '我该去睡觉了。', '你在干什麼啊？', ..., 'Los botaron.',\n",
       "       'Los hicieron correr.', 'Los corrieron.'], dtype=object)"
      ]
     },
     "execution_count": 38,
     "metadata": {},
     "output_type": "execute_result"
    }
   ],
   "source": [
    "sentences"
   ]
  },
  {
   "cell_type": "code",
   "execution_count": 39,
   "metadata": {},
   "outputs": [],
   "source": [
    "sentences_lang_num = df[\"lang_num\"].values.T[0]"
   ]
  },
  {
   "cell_type": "code",
   "execution_count": 40,
   "metadata": {},
   "outputs": [
    {
     "data": {
      "text/plain": [
       "()"
      ]
     },
     "execution_count": 40,
     "metadata": {},
     "output_type": "execute_result"
    }
   ],
   "source": [
    "sentences_lang_num.shape"
   ]
  },
  {
   "cell_type": "code",
   "execution_count": 41,
   "metadata": {},
   "outputs": [],
   "source": [
    "del df"
   ]
  }
 ],
 "metadata": {
  "kernelspec": {
   "display_name": "Python 3.10.6 64-bit",
   "language": "python",
   "name": "python3"
  },
  "language_info": {
   "codemirror_mode": {
    "name": "ipython",
    "version": 3
   },
   "file_extension": ".py",
   "mimetype": "text/x-python",
   "name": "python",
   "nbconvert_exporter": "python",
   "pygments_lexer": "ipython3",
   "version": "3.10.6"
  },
  "orig_nbformat": 4,
  "vscode": {
   "interpreter": {
    "hash": "83fd4375a822156133a8f0ea701c86b5bfda9cc7c150a00174c57fbf773ec247"
   }
  }
 },
 "nbformat": 4,
 "nbformat_minor": 2
}
