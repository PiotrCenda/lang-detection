{
 "cells": [
  {
   "cell_type": "markdown",
   "metadata": {},
   "source": [
    "# Language detection\n",
    "## Data loading and learning the net"
   ]
  },
  {
   "cell_type": "code",
   "execution_count": 1,
   "metadata": {},
   "outputs": [],
   "source": [
    "import json\n",
    "import random\n",
    "import numpy as np\n",
    "import pandas as pd\n",
    "import matplotlib.pyplot as plt\n",
    "import tensorflow\n",
    "from keras import models\n",
    "from keras import layers\n",
    "from sklearn.model_selection import train_test_split"
   ]
  },
  {
   "cell_type": "code",
   "execution_count": 2,
   "metadata": {},
   "outputs": [
    {
     "data": {
      "text/html": [
       "<div>\n",
       "<style scoped>\n",
       "    .dataframe tbody tr th:only-of-type {\n",
       "        vertical-align: middle;\n",
       "    }\n",
       "\n",
       "    .dataframe tbody tr th {\n",
       "        vertical-align: top;\n",
       "    }\n",
       "\n",
       "    .dataframe thead th {\n",
       "        text-align: right;\n",
       "    }\n",
       "</style>\n",
       "<table border=\"1\" class=\"dataframe\">\n",
       "  <thead>\n",
       "    <tr style=\"text-align: right;\">\n",
       "      <th></th>\n",
       "      <th>id</th>\n",
       "      <th>lan_code</th>\n",
       "      <th>sentence</th>\n",
       "      <th>unicode_length</th>\n",
       "    </tr>\n",
       "  </thead>\n",
       "  <tbody>\n",
       "    <tr>\n",
       "      <th>0</th>\n",
       "      <td>1</td>\n",
       "      <td>cmn</td>\n",
       "      <td>我們試試看！</td>\n",
       "      <td>6</td>\n",
       "    </tr>\n",
       "    <tr>\n",
       "      <th>1</th>\n",
       "      <td>2</td>\n",
       "      <td>cmn</td>\n",
       "      <td>我该去睡觉了。</td>\n",
       "      <td>7</td>\n",
       "    </tr>\n",
       "    <tr>\n",
       "      <th>2</th>\n",
       "      <td>3</td>\n",
       "      <td>cmn</td>\n",
       "      <td>你在干什麼啊？</td>\n",
       "      <td>7</td>\n",
       "    </tr>\n",
       "    <tr>\n",
       "      <th>3</th>\n",
       "      <td>4</td>\n",
       "      <td>cmn</td>\n",
       "      <td>這是什麼啊？</td>\n",
       "      <td>6</td>\n",
       "    </tr>\n",
       "    <tr>\n",
       "      <th>4</th>\n",
       "      <td>5</td>\n",
       "      <td>cmn</td>\n",
       "      <td>今天是６月１８号，也是Muiriel的生日！</td>\n",
       "      <td>22</td>\n",
       "    </tr>\n",
       "  </tbody>\n",
       "</table>\n",
       "</div>"
      ],
      "text/plain": [
       "   id lan_code                sentence  unicode_length\n",
       "0   1      cmn                  我們試試看！               6\n",
       "1   2      cmn                 我该去睡觉了。               7\n",
       "2   3      cmn                 你在干什麼啊？               7\n",
       "3   4      cmn                  這是什麼啊？               6\n",
       "4   5      cmn  今天是６月１８号，也是Muiriel的生日！              22"
      ]
     },
     "execution_count": 2,
     "metadata": {},
     "output_type": "execute_result"
    }
   ],
   "source": [
    "df = pd.read_csv(\"data/sentences_50k.csv\", delimiter=\",\", encoding='utf8', index_col=0)\n",
    "df.head()"
   ]
  },
  {
   "cell_type": "code",
   "execution_count": 3,
   "metadata": {},
   "outputs": [],
   "source": [
    "langs = list(df[\"lan_code\"].unique())"
   ]
  },
  {
   "cell_type": "code",
   "execution_count": 4,
   "metadata": {},
   "outputs": [
    {
     "name": "stdout",
     "output_type": "stream",
     "text": [
      "{'cmn': 0, 'deu': 1, 'rus': 2, 'fra': 3, 'eng': 4, 'jpn': 5, 'spa': 6, 'ita': 7, 'nld': 8, 'epo': 9, 'por': 10, 'tur': 11, 'heb': 12, 'hun': 13, 'fin': 14, 'ukr': 15, 'ces': 16, 'pol': 17, 'dan': 18, 'lit': 19, 'mkd': 20, 'kab': 21, 'ber': 22, 'mar': 23}\n",
      "{0: 'cmn', 1: 'deu', 2: 'rus', 3: 'fra', 4: 'eng', 5: 'jpn', 6: 'spa', 7: 'ita', 8: 'nld', 9: 'epo', 10: 'por', 11: 'tur', 12: 'heb', 13: 'hun', 14: 'fin', 15: 'ukr', 16: 'ces', 17: 'pol', 18: 'dan', 19: 'lit', 20: 'mkd', 21: 'kab', 22: 'ber', 23: 'mar'}\n"
     ]
    }
   ],
   "source": [
    "lang_to_num = {lan: i for i, lan in enumerate(langs)}\n",
    "print(lang_to_num)\n",
    "\n",
    "num_to_lang = {i: lan for lan, i in lang_to_num.items()}\n",
    "print(num_to_lang)"
   ]
  },
  {
   "cell_type": "code",
   "execution_count": 5,
   "metadata": {},
   "outputs": [],
   "source": [
    "df[\"lang_num\"] = df[\"lan_code\"].map(lang_to_num).astype(int)"
   ]
  },
  {
   "cell_type": "code",
   "execution_count": 6,
   "metadata": {},
   "outputs": [],
   "source": [
    "import numpy as np\n",
    "\n",
    "def sentence_to_unicode_list(sentence):\n",
    "    max_len = 29\n",
    "    unicode_list = [ord(i) for i in sentence]\n",
    "    if len(unicode_list) >= max_len:\n",
    "        unicode_list = unicode_list[:max_len]\n",
    "    else:\n",
    "        len_diff = max_len - len(unicode_list)\n",
    "        unicode_list.extend([0 for _ in range(len_diff)])\n",
    "    return np.asarray(unicode_list).astype(np.int32)\n",
    "\n",
    "def set_labels(lang):\n",
    "    labels = [0 for _ in range(lang_count)]\n",
    "    labels[lang] = 1\n",
    "    return np.asarray(labels).astype(np.int32)\n",
    "\n",
    "lang_count = len(df['lang_num'].unique())"
   ]
  },
  {
   "cell_type": "code",
   "execution_count": 7,
   "metadata": {},
   "outputs": [],
   "source": [
    "df['unicode'] = df['sentence'].apply(sentence_to_unicode_list)\n",
    "df['labels'] = df['lang_num'].apply(set_labels)"
   ]
  },
  {
   "cell_type": "code",
   "execution_count": 8,
   "metadata": {},
   "outputs": [
    {
     "data": {
      "text/html": [
       "<div>\n",
       "<style scoped>\n",
       "    .dataframe tbody tr th:only-of-type {\n",
       "        vertical-align: middle;\n",
       "    }\n",
       "\n",
       "    .dataframe tbody tr th {\n",
       "        vertical-align: top;\n",
       "    }\n",
       "\n",
       "    .dataframe thead th {\n",
       "        text-align: right;\n",
       "    }\n",
       "</style>\n",
       "<table border=\"1\" class=\"dataframe\">\n",
       "  <thead>\n",
       "    <tr style=\"text-align: right;\">\n",
       "      <th></th>\n",
       "      <th>id</th>\n",
       "      <th>lan_code</th>\n",
       "      <th>sentence</th>\n",
       "      <th>unicode_length</th>\n",
       "      <th>lang_num</th>\n",
       "      <th>unicode</th>\n",
       "      <th>labels</th>\n",
       "    </tr>\n",
       "  </thead>\n",
       "  <tbody>\n",
       "    <tr>\n",
       "      <th>5636310</th>\n",
       "      <td>5990778</td>\n",
       "      <td>por</td>\n",
       "      <td>Não tenho permissão para dizer isso.</td>\n",
       "      <td>36</td>\n",
       "      <td>10</td>\n",
       "      <td>[78, 227, 111, 32, 116, 101, 110, 104, 111, 32...</td>\n",
       "      <td>[0, 0, 0, 0, 0, 0, 0, 0, 0, 0, 1, 0, 0, 0, 0, ...</td>\n",
       "    </tr>\n",
       "    <tr>\n",
       "      <th>1851069</th>\n",
       "      <td>1958596</td>\n",
       "      <td>ber</td>\n",
       "      <td>Tella seg-went tid ay yessawalen tajapunit?</td>\n",
       "      <td>43</td>\n",
       "      <td>22</td>\n",
       "      <td>[84, 101, 108, 108, 97, 32, 115, 101, 103, 45,...</td>\n",
       "      <td>[0, 0, 0, 0, 0, 0, 0, 0, 0, 0, 0, 0, 0, 0, 0, ...</td>\n",
       "    </tr>\n",
       "    <tr>\n",
       "      <th>8322083</th>\n",
       "      <td>8750266</td>\n",
       "      <td>ber</td>\n",
       "      <td>Asirem n ugdud yennejla ur d-yeǧǧi tansa.</td>\n",
       "      <td>41</td>\n",
       "      <td>22</td>\n",
       "      <td>[65, 115, 105, 114, 101, 109, 32, 110, 32, 117...</td>\n",
       "      <td>[0, 0, 0, 0, 0, 0, 0, 0, 0, 0, 0, 0, 0, 0, 0, ...</td>\n",
       "    </tr>\n",
       "    <tr>\n",
       "      <th>1584477</th>\n",
       "      <td>1678365</td>\n",
       "      <td>nld</td>\n",
       "      <td>Ze leest graag.</td>\n",
       "      <td>15</td>\n",
       "      <td>8</td>\n",
       "      <td>[90, 101, 32, 108, 101, 101, 115, 116, 32, 103...</td>\n",
       "      <td>[0, 0, 0, 0, 0, 0, 0, 0, 1, 0, 0, 0, 0, 0, 0, ...</td>\n",
       "    </tr>\n",
       "    <tr>\n",
       "      <th>4501849</th>\n",
       "      <td>4798953</td>\n",
       "      <td>deu</td>\n",
       "      <td>Ich mag Französisch wahnsinnig gern.</td>\n",
       "      <td>36</td>\n",
       "      <td>1</td>\n",
       "      <td>[73, 99, 104, 32, 109, 97, 103, 32, 70, 114, 9...</td>\n",
       "      <td>[0, 1, 0, 0, 0, 0, 0, 0, 0, 0, 0, 0, 0, 0, 0, ...</td>\n",
       "    </tr>\n",
       "    <tr>\n",
       "      <th>2098655</th>\n",
       "      <td>2225239</td>\n",
       "      <td>spa</td>\n",
       "      <td>Ella tiene un problema al corazón.</td>\n",
       "      <td>34</td>\n",
       "      <td>6</td>\n",
       "      <td>[69, 108, 108, 97, 32, 116, 105, 101, 110, 101...</td>\n",
       "      <td>[0, 0, 0, 0, 0, 0, 1, 0, 0, 0, 0, 0, 0, 0, 0, ...</td>\n",
       "    </tr>\n",
       "    <tr>\n",
       "      <th>5336403</th>\n",
       "      <td>5688079</td>\n",
       "      <td>fra</td>\n",
       "      <td>Je me demande quel est le poids moyen d'une fr...</td>\n",
       "      <td>51</td>\n",
       "      <td>3</td>\n",
       "      <td>[74, 101, 32, 109, 101, 32, 100, 101, 109, 97,...</td>\n",
       "      <td>[0, 0, 0, 1, 0, 0, 0, 0, 0, 0, 0, 0, 0, 0, 0, ...</td>\n",
       "    </tr>\n",
       "    <tr>\n",
       "      <th>3596968</th>\n",
       "      <td>3827414</td>\n",
       "      <td>fin</td>\n",
       "      <td>On mahdollista, ettei Tom tiedä, että meillä o...</td>\n",
       "      <td>77</td>\n",
       "      <td>14</td>\n",
       "      <td>[79, 110, 32, 109, 97, 104, 100, 111, 108, 108...</td>\n",
       "      <td>[0, 0, 0, 0, 0, 0, 0, 0, 0, 0, 0, 0, 0, 0, 1, ...</td>\n",
       "    </tr>\n",
       "    <tr>\n",
       "      <th>4664492</th>\n",
       "      <td>4972794</td>\n",
       "      <td>eng</td>\n",
       "      <td>Tom told me that today.</td>\n",
       "      <td>23</td>\n",
       "      <td>4</td>\n",
       "      <td>[84, 111, 109, 32, 116, 111, 108, 100, 32, 109...</td>\n",
       "      <td>[0, 0, 0, 0, 1, 0, 0, 0, 0, 0, 0, 0, 0, 0, 0, ...</td>\n",
       "    </tr>\n",
       "    <tr>\n",
       "      <th>9817602</th>\n",
       "      <td>10266728</td>\n",
       "      <td>fin</td>\n",
       "      <td>Olet sopivin henkilö tehtävään.</td>\n",
       "      <td>31</td>\n",
       "      <td>14</td>\n",
       "      <td>[79, 108, 101, 116, 32, 115, 111, 112, 105, 11...</td>\n",
       "      <td>[0, 0, 0, 0, 0, 0, 0, 0, 0, 0, 0, 0, 0, 0, 1, ...</td>\n",
       "    </tr>\n",
       "  </tbody>\n",
       "</table>\n",
       "</div>"
      ],
      "text/plain": [
       "               id lan_code                                           sentence  \\\n",
       "5636310   5990778      por               Não tenho permissão para dizer isso.   \n",
       "1851069   1958596      ber        Tella seg-went tid ay yessawalen tajapunit?   \n",
       "8322083   8750266      ber          Asirem n ugdud yennejla ur d-yeǧǧi tansa.   \n",
       "1584477   1678365      nld                                    Ze leest graag.   \n",
       "4501849   4798953      deu               Ich mag Französisch wahnsinnig gern.   \n",
       "2098655   2225239      spa                 Ella tiene un problema al corazón.   \n",
       "5336403   5688079      fra  Je me demande quel est le poids moyen d'une fr...   \n",
       "3596968   3827414      fin  On mahdollista, ettei Tom tiedä, että meillä o...   \n",
       "4664492   4972794      eng                            Tom told me that today.   \n",
       "9817602  10266728      fin                    Olet sopivin henkilö tehtävään.   \n",
       "\n",
       "         unicode_length  lang_num  \\\n",
       "5636310              36        10   \n",
       "1851069              43        22   \n",
       "8322083              41        22   \n",
       "1584477              15         8   \n",
       "4501849              36         1   \n",
       "2098655              34         6   \n",
       "5336403              51         3   \n",
       "3596968              77        14   \n",
       "4664492              23         4   \n",
       "9817602              31        14   \n",
       "\n",
       "                                                   unicode  \\\n",
       "5636310  [78, 227, 111, 32, 116, 101, 110, 104, 111, 32...   \n",
       "1851069  [84, 101, 108, 108, 97, 32, 115, 101, 103, 45,...   \n",
       "8322083  [65, 115, 105, 114, 101, 109, 32, 110, 32, 117...   \n",
       "1584477  [90, 101, 32, 108, 101, 101, 115, 116, 32, 103...   \n",
       "4501849  [73, 99, 104, 32, 109, 97, 103, 32, 70, 114, 9...   \n",
       "2098655  [69, 108, 108, 97, 32, 116, 105, 101, 110, 101...   \n",
       "5336403  [74, 101, 32, 109, 101, 32, 100, 101, 109, 97,...   \n",
       "3596968  [79, 110, 32, 109, 97, 104, 100, 111, 108, 108...   \n",
       "4664492  [84, 111, 109, 32, 116, 111, 108, 100, 32, 109...   \n",
       "9817602  [79, 108, 101, 116, 32, 115, 111, 112, 105, 11...   \n",
       "\n",
       "                                                    labels  \n",
       "5636310  [0, 0, 0, 0, 0, 0, 0, 0, 0, 0, 1, 0, 0, 0, 0, ...  \n",
       "1851069  [0, 0, 0, 0, 0, 0, 0, 0, 0, 0, 0, 0, 0, 0, 0, ...  \n",
       "8322083  [0, 0, 0, 0, 0, 0, 0, 0, 0, 0, 0, 0, 0, 0, 0, ...  \n",
       "1584477  [0, 0, 0, 0, 0, 0, 0, 0, 1, 0, 0, 0, 0, 0, 0, ...  \n",
       "4501849  [0, 1, 0, 0, 0, 0, 0, 0, 0, 0, 0, 0, 0, 0, 0, ...  \n",
       "2098655  [0, 0, 0, 0, 0, 0, 1, 0, 0, 0, 0, 0, 0, 0, 0, ...  \n",
       "5336403  [0, 0, 0, 1, 0, 0, 0, 0, 0, 0, 0, 0, 0, 0, 0, ...  \n",
       "3596968  [0, 0, 0, 0, 0, 0, 0, 0, 0, 0, 0, 0, 0, 0, 1, ...  \n",
       "4664492  [0, 0, 0, 0, 1, 0, 0, 0, 0, 0, 0, 0, 0, 0, 0, ...  \n",
       "9817602  [0, 0, 0, 0, 0, 0, 0, 0, 0, 0, 0, 0, 0, 0, 1, ...  "
      ]
     },
     "execution_count": 8,
     "metadata": {},
     "output_type": "execute_result"
    }
   ],
   "source": [
    "df.dropna()\n",
    "df.sample(n=(10))\n"
   ]
  },
  {
   "cell_type": "code",
   "execution_count": 9,
   "metadata": {},
   "outputs": [
    {
     "data": {
      "text/plain": [
       "id                False\n",
       "lan_code          False\n",
       "sentence          False\n",
       "unicode_length    False\n",
       "lang_num          False\n",
       "unicode           False\n",
       "labels            False\n",
       "dtype: bool"
      ]
     },
     "execution_count": 9,
     "metadata": {},
     "output_type": "execute_result"
    }
   ],
   "source": [
    "df.isnull().any()"
   ]
  },
  {
   "cell_type": "code",
   "execution_count": 10,
   "metadata": {},
   "outputs": [],
   "source": [
    "x = np.array(df['unicode'])\n",
    "y = np.array(df['labels'])\n"
   ]
  },
  {
   "cell_type": "code",
   "execution_count": 22,
   "metadata": {},
   "outputs": [
    {
     "ename": "TypeError",
     "evalue": "'<' not supported between instances of 'type' and 'type'",
     "output_type": "error",
     "traceback": [
      "\u001b[1;31m---------------------------------------------------------------------------\u001b[0m",
      "\u001b[1;31mTypeError\u001b[0m                                 Traceback (most recent call last)",
      "\u001b[1;32mc:\\Users\\Adam\\Documents\\Studies Python Projects\\lang-detection\\lang_detection.ipynb Komórka 12\u001b[0m in \u001b[0;36m<cell line: 1>\u001b[1;34m()\u001b[0m\n\u001b[1;32m----> <a href='vscode-notebook-cell:/c%3A/Users/Adam/Documents/Studies%20Python%20Projects/lang-detection/lang_detection.ipynb#X31sZmlsZQ%3D%3D?line=0'>1</a>\u001b[0m np\u001b[39m.\u001b[39;49munique(np\u001b[39m.\u001b[39;49marray([\u001b[39mtype\u001b[39;49m(i) \u001b[39mfor\u001b[39;49;00m i \u001b[39min\u001b[39;49;00m x]))\n",
      "File \u001b[1;32m<__array_function__ internals>:180\u001b[0m, in \u001b[0;36munique\u001b[1;34m(*args, **kwargs)\u001b[0m\n",
      "File \u001b[1;32mc:\\Users\\Adam\\AppData\\Local\\Programs\\Python\\Python39\\lib\\site-packages\\numpy\\lib\\arraysetops.py:272\u001b[0m, in \u001b[0;36munique\u001b[1;34m(ar, return_index, return_inverse, return_counts, axis)\u001b[0m\n\u001b[0;32m    270\u001b[0m ar \u001b[39m=\u001b[39m np\u001b[39m.\u001b[39masanyarray(ar)\n\u001b[0;32m    271\u001b[0m \u001b[39mif\u001b[39;00m axis \u001b[39mis\u001b[39;00m \u001b[39mNone\u001b[39;00m:\n\u001b[1;32m--> 272\u001b[0m     ret \u001b[39m=\u001b[39m _unique1d(ar, return_index, return_inverse, return_counts)\n\u001b[0;32m    273\u001b[0m     \u001b[39mreturn\u001b[39;00m _unpack_tuple(ret)\n\u001b[0;32m    275\u001b[0m \u001b[39m# axis was specified and not None\u001b[39;00m\n",
      "File \u001b[1;32mc:\\Users\\Adam\\AppData\\Local\\Programs\\Python\\Python39\\lib\\site-packages\\numpy\\lib\\arraysetops.py:333\u001b[0m, in \u001b[0;36m_unique1d\u001b[1;34m(ar, return_index, return_inverse, return_counts)\u001b[0m\n\u001b[0;32m    331\u001b[0m     aux \u001b[39m=\u001b[39m ar[perm]\n\u001b[0;32m    332\u001b[0m \u001b[39melse\u001b[39;00m:\n\u001b[1;32m--> 333\u001b[0m     ar\u001b[39m.\u001b[39;49msort()\n\u001b[0;32m    334\u001b[0m     aux \u001b[39m=\u001b[39m ar\n\u001b[0;32m    335\u001b[0m mask \u001b[39m=\u001b[39m np\u001b[39m.\u001b[39mempty(aux\u001b[39m.\u001b[39mshape, dtype\u001b[39m=\u001b[39mnp\u001b[39m.\u001b[39mbool_)\n",
      "\u001b[1;31mTypeError\u001b[0m: '<' not supported between instances of 'type' and 'type'"
     ]
    }
   ],
   "source": [
    "np.unique(np.array([type(i) for i in x]))"
   ]
  },
  {
   "cell_type": "code",
   "execution_count": 11,
   "metadata": {},
   "outputs": [],
   "source": [
    "x_train, x_test, y_train, y_test = train_test_split(x, y, test_size=0.2, shuffle=True)\n"
   ]
  },
  {
   "cell_type": "code",
   "execution_count": null,
   "metadata": {},
   "outputs": [],
   "source": []
  },
  {
   "cell_type": "code",
   "execution_count": 18,
   "metadata": {},
   "outputs": [
    {
     "name": "stdout",
     "output_type": "stream",
     "text": [
      "Model: \"sequential_1\"\n",
      "_________________________________________________________________\n",
      " Layer (type)                Output Shape              Param #   \n",
      "=================================================================\n",
      " dense_5 (Dense)             (1, 32)                   960       \n",
      "                                                                 \n",
      " dropout_4 (Dropout)         (1, 32)                   0         \n",
      "                                                                 \n",
      " dense_6 (Dense)             (1, 64)                   2112      \n",
      "                                                                 \n",
      " dropout_5 (Dropout)         (1, 64)                   0         \n",
      "                                                                 \n",
      " dense_7 (Dense)             (1, 64)                   4160      \n",
      "                                                                 \n",
      " dropout_6 (Dropout)         (1, 64)                   0         \n",
      "                                                                 \n",
      " dense_8 (Dense)             (1, 64)                   4160      \n",
      "                                                                 \n",
      " dropout_7 (Dropout)         (1, 64)                   0         \n",
      "                                                                 \n",
      " dense_9 (Dense)             (1, 24)                   1560      \n",
      "                                                                 \n",
      "=================================================================\n",
      "Total params: 12,952\n",
      "Trainable params: 12,952\n",
      "Non-trainable params: 0\n",
      "_________________________________________________________________\n"
     ]
    }
   ],
   "source": [
    "model = models.Sequential()\n",
    "model.add(layers.Dense(32, activation='relu'))\n",
    "model.add(layers.Dropout(0.3))\n",
    "model.add(layers.Dense(64, activation='relu'))\n",
    "model.add(layers.Dropout(0.3))\n",
    "model.add(layers.Dense(64, activation='relu'))\n",
    "model.add(layers.Dropout(0.3))\n",
    "model.add(layers.Dense(64, activation='relu'))\n",
    "model.add(layers.Dropout(0.3))\n",
    "model.add(layers.Dense(lang_count, activation='softmax'))\n",
    "model.build(input_shape=(1, 29))\n",
    "model.summary()"
   ]
  },
  {
   "cell_type": "code",
   "execution_count": 19,
   "metadata": {},
   "outputs": [],
   "source": [
    "model.compile(loss='sparse_categorical_crossentropy', optimizer='adam', metrics=['accuracy'])"
   ]
  },
  {
   "cell_type": "code",
   "execution_count": 20,
   "metadata": {},
   "outputs": [
    {
     "ename": "ValueError",
     "evalue": "Failed to convert a NumPy array to a Tensor (Unsupported object type numpy.ndarray).",
     "output_type": "error",
     "traceback": [
      "\u001b[1;31m---------------------------------------------------------------------------\u001b[0m",
      "\u001b[1;31mValueError\u001b[0m                                Traceback (most recent call last)",
      "\u001b[1;32mc:\\Users\\Adam\\Documents\\Studies Python Projects\\lang-detection\\lang_detection.ipynb Komórka 15\u001b[0m in \u001b[0;36m<cell line: 5>\u001b[1;34m()\u001b[0m\n\u001b[0;32m      <a href='vscode-notebook-cell:/c%3A/Users/Adam/Documents/Studies%20Python%20Projects/lang-detection/lang_detection.ipynb#X22sZmlsZQ%3D%3D?line=0'>1</a>\u001b[0m batch_size \u001b[39m=\u001b[39m \u001b[39m64\u001b[39m\n\u001b[0;32m      <a href='vscode-notebook-cell:/c%3A/Users/Adam/Documents/Studies%20Python%20Projects/lang-detection/lang_detection.ipynb#X22sZmlsZQ%3D%3D?line=1'>2</a>\u001b[0m epochs \u001b[39m=\u001b[39m \u001b[39m30\u001b[39m\n\u001b[1;32m----> <a href='vscode-notebook-cell:/c%3A/Users/Adam/Documents/Studies%20Python%20Projects/lang-detection/lang_detection.ipynb#X22sZmlsZQ%3D%3D?line=4'>5</a>\u001b[0m hist \u001b[39m=\u001b[39m model\u001b[39m.\u001b[39;49mfit(x_train, y_train, batch_size\u001b[39m=\u001b[39;49mbatch_size, epochs\u001b[39m=\u001b[39;49mepochs, validation_data\u001b[39m=\u001b[39;49m(x_test, y_test))\n",
      "File \u001b[1;32mc:\\Users\\Adam\\AppData\\Local\\Programs\\Python\\Python39\\lib\\site-packages\\keras\\utils\\traceback_utils.py:67\u001b[0m, in \u001b[0;36mfilter_traceback.<locals>.error_handler\u001b[1;34m(*args, **kwargs)\u001b[0m\n\u001b[0;32m     65\u001b[0m \u001b[39mexcept\u001b[39;00m \u001b[39mException\u001b[39;00m \u001b[39mas\u001b[39;00m e:  \u001b[39m# pylint: disable=broad-except\u001b[39;00m\n\u001b[0;32m     66\u001b[0m   filtered_tb \u001b[39m=\u001b[39m _process_traceback_frames(e\u001b[39m.\u001b[39m__traceback__)\n\u001b[1;32m---> 67\u001b[0m   \u001b[39mraise\u001b[39;00m e\u001b[39m.\u001b[39mwith_traceback(filtered_tb) \u001b[39mfrom\u001b[39;00m \u001b[39mNone\u001b[39m\n\u001b[0;32m     68\u001b[0m \u001b[39mfinally\u001b[39;00m:\n\u001b[0;32m     69\u001b[0m   \u001b[39mdel\u001b[39;00m filtered_tb\n",
      "File \u001b[1;32mc:\\Users\\Adam\\AppData\\Local\\Programs\\Python\\Python39\\lib\\site-packages\\tensorflow\\python\\framework\\constant_op.py:102\u001b[0m, in \u001b[0;36mconvert_to_eager_tensor\u001b[1;34m(value, ctx, dtype)\u001b[0m\n\u001b[0;32m    100\u001b[0m     dtype \u001b[39m=\u001b[39m dtypes\u001b[39m.\u001b[39mas_dtype(dtype)\u001b[39m.\u001b[39mas_datatype_enum\n\u001b[0;32m    101\u001b[0m ctx\u001b[39m.\u001b[39mensure_initialized()\n\u001b[1;32m--> 102\u001b[0m \u001b[39mreturn\u001b[39;00m ops\u001b[39m.\u001b[39;49mEagerTensor(value, ctx\u001b[39m.\u001b[39;49mdevice_name, dtype)\n",
      "\u001b[1;31mValueError\u001b[0m: Failed to convert a NumPy array to a Tensor (Unsupported object type numpy.ndarray)."
     ]
    }
   ],
   "source": [
    "batch_size = 64\n",
    "epochs = 30\n",
    "\n",
    "\n",
    "hist = model.fit(x_train, y_train, batch_size=batch_size, epochs=epochs, validation_data=(x_test, y_test))"
   ]
  },
  {
   "cell_type": "code",
   "execution_count": 37,
   "metadata": {},
   "outputs": [],
   "source": [
    "sentences = df['sentence'].values"
   ]
  },
  {
   "cell_type": "code",
   "execution_count": 38,
   "metadata": {},
   "outputs": [
    {
     "data": {
      "text/plain": [
       "array(['我們試試看！', '我该去睡觉了。', '你在干什麼啊？', ..., 'Los botaron.',\n",
       "       'Los hicieron correr.', 'Los corrieron.'], dtype=object)"
      ]
     },
     "execution_count": 38,
     "metadata": {},
     "output_type": "execute_result"
    }
   ],
   "source": [
    "sentences"
   ]
  },
  {
   "cell_type": "code",
   "execution_count": 39,
   "metadata": {},
   "outputs": [],
   "source": [
    "sentences_lang_num = df[\"lang_num\"].values.T[0]"
   ]
  },
  {
   "cell_type": "code",
   "execution_count": 40,
   "metadata": {},
   "outputs": [
    {
     "data": {
      "text/plain": [
       "()"
      ]
     },
     "execution_count": 40,
     "metadata": {},
     "output_type": "execute_result"
    }
   ],
   "source": [
    "sentences_lang_num.shape"
   ]
  },
  {
   "cell_type": "code",
   "execution_count": 41,
   "metadata": {},
   "outputs": [],
   "source": [
    "del df"
   ]
  }
 ],
 "metadata": {
  "kernelspec": {
   "display_name": "Python 3.9.8 64-bit",
   "language": "python",
   "name": "python3"
  },
  "language_info": {
   "codemirror_mode": {
    "name": "ipython",
    "version": 3
   },
   "file_extension": ".py",
   "mimetype": "text/x-python",
   "name": "python",
   "nbconvert_exporter": "python",
   "pygments_lexer": "ipython3",
   "version": "3.9.8"
  },
  "orig_nbformat": 4,
  "vscode": {
   "interpreter": {
    "hash": "8100bb27ef6f27bb6b63ba202e13f32f0dffed430e6a4d162d3986e448f218b2"
   }
  }
 },
 "nbformat": 4,
 "nbformat_minor": 2
}
